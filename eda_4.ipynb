{
 "cells": [
  {
   "cell_type": "code",
   "execution_count": 1,
   "id": "8f4c398f-e96b-4315-bed0-51a28628b2ef",
   "metadata": {},
   "outputs": [],
   "source": [
    "import numpy as np\n",
    "import pandas as pd\n",
    "import matplotlib.pyplot as plt\n",
    "import scipy.stats as st\n",
    "#from dask.distributed import Client\n",
    "import dask.dataframe as dd"
   ]
  },
  {
   "cell_type": "code",
   "execution_count": 2,
   "id": "d5aeb2f4-964f-4b86-a173-67a2f2dfd523",
   "metadata": {},
   "outputs": [],
   "source": [
    "notes = set() \n",
    "input_folder = \"kaggle/input/linking-writing-processes-to-writing-quality/\""
   ]
  },
  {
   "cell_type": "code",
   "execution_count": 3,
   "id": "fa04a126-e352-42a2-b6c8-e1dee66c0c99",
   "metadata": {},
   "outputs": [],
   "source": [
    "train_logs = pd.read_csv(input_folder + \"train_logs.csv\",delimiter = \",\",header = 0)\n",
    "train_scores = pd.read_csv(input_folder +\"train_scores.csv\", delimiter = \",\", header = 0)\n",
    "scores = pd.Series(data = train_scores['score'].values, index = train_scores['id'].values, name = 'score')"
   ]
  },
  {
   "cell_type": "code",
   "execution_count": 4,
   "id": "483ad387-caf7-4afc-a3dd-5b77fabb31cf",
   "metadata": {},
   "outputs": [
    {
     "data": {
      "text/html": [
       "<div>\n",
       "<style scoped>\n",
       "    .dataframe tbody tr th:only-of-type {\n",
       "        vertical-align: middle;\n",
       "    }\n",
       "\n",
       "    .dataframe tbody tr th {\n",
       "        vertical-align: top;\n",
       "    }\n",
       "\n",
       "    .dataframe thead th {\n",
       "        text-align: right;\n",
       "    }\n",
       "</style>\n",
       "<table border=\"1\" class=\"dataframe\">\n",
       "  <thead>\n",
       "    <tr style=\"text-align: right;\">\n",
       "      <th></th>\n",
       "      <th>id</th>\n",
       "      <th>event_id</th>\n",
       "      <th>down_time</th>\n",
       "      <th>up_time</th>\n",
       "      <th>action_time</th>\n",
       "      <th>activity</th>\n",
       "      <th>down_event</th>\n",
       "      <th>up_event</th>\n",
       "      <th>text_change</th>\n",
       "      <th>cursor_position</th>\n",
       "      <th>word_count</th>\n",
       "    </tr>\n",
       "  </thead>\n",
       "  <tbody>\n",
       "    <tr>\n",
       "      <th>0</th>\n",
       "      <td>001519c8</td>\n",
       "      <td>1</td>\n",
       "      <td>4526</td>\n",
       "      <td>4557</td>\n",
       "      <td>31</td>\n",
       "      <td>Nonproduction</td>\n",
       "      <td>Leftclick</td>\n",
       "      <td>Leftclick</td>\n",
       "      <td>NoChange</td>\n",
       "      <td>0</td>\n",
       "      <td>0</td>\n",
       "    </tr>\n",
       "    <tr>\n",
       "      <th>1</th>\n",
       "      <td>001519c8</td>\n",
       "      <td>2</td>\n",
       "      <td>4558</td>\n",
       "      <td>4962</td>\n",
       "      <td>404</td>\n",
       "      <td>Nonproduction</td>\n",
       "      <td>Leftclick</td>\n",
       "      <td>Leftclick</td>\n",
       "      <td>NoChange</td>\n",
       "      <td>0</td>\n",
       "      <td>0</td>\n",
       "    </tr>\n",
       "    <tr>\n",
       "      <th>2</th>\n",
       "      <td>001519c8</td>\n",
       "      <td>3</td>\n",
       "      <td>106571</td>\n",
       "      <td>106571</td>\n",
       "      <td>0</td>\n",
       "      <td>Nonproduction</td>\n",
       "      <td>Shift</td>\n",
       "      <td>Shift</td>\n",
       "      <td>NoChange</td>\n",
       "      <td>0</td>\n",
       "      <td>0</td>\n",
       "    </tr>\n",
       "    <tr>\n",
       "      <th>3</th>\n",
       "      <td>001519c8</td>\n",
       "      <td>4</td>\n",
       "      <td>106686</td>\n",
       "      <td>106777</td>\n",
       "      <td>91</td>\n",
       "      <td>Input</td>\n",
       "      <td>q</td>\n",
       "      <td>q</td>\n",
       "      <td>q</td>\n",
       "      <td>1</td>\n",
       "      <td>1</td>\n",
       "    </tr>\n",
       "    <tr>\n",
       "      <th>4</th>\n",
       "      <td>001519c8</td>\n",
       "      <td>5</td>\n",
       "      <td>107196</td>\n",
       "      <td>107323</td>\n",
       "      <td>127</td>\n",
       "      <td>Input</td>\n",
       "      <td>q</td>\n",
       "      <td>q</td>\n",
       "      <td>q</td>\n",
       "      <td>2</td>\n",
       "      <td>1</td>\n",
       "    </tr>\n",
       "  </tbody>\n",
       "</table>\n",
       "</div>"
      ],
      "text/plain": [
       "         id  event_id  down_time  up_time  action_time       activity  \\\n",
       "0  001519c8         1       4526     4557           31  Nonproduction   \n",
       "1  001519c8         2       4558     4962          404  Nonproduction   \n",
       "2  001519c8         3     106571   106571            0  Nonproduction   \n",
       "3  001519c8         4     106686   106777           91          Input   \n",
       "4  001519c8         5     107196   107323          127          Input   \n",
       "\n",
       "  down_event   up_event text_change  cursor_position  word_count  \n",
       "0  Leftclick  Leftclick    NoChange                0           0  \n",
       "1  Leftclick  Leftclick    NoChange                0           0  \n",
       "2      Shift      Shift    NoChange                0           0  \n",
       "3          q          q           q                1           1  \n",
       "4          q          q           q                2           1  "
      ]
     },
     "execution_count": 4,
     "metadata": {},
     "output_type": "execute_result"
    }
   ],
   "source": [
    "train_logs.head(5)"
   ]
  },
  {
   "cell_type": "code",
   "execution_count": 26,
   "id": "3e5e9a08-fc35-435a-8302-2e1725d5000a",
   "metadata": {},
   "outputs": [
    {
     "data": {
      "text/plain": [
       "count    8.405898e+06\n",
       "mean     1.222964e+03\n",
       "std      9.485242e+02\n",
       "min      0.000000e+00\n",
       "25%      4.990000e+02\n",
       "50%      1.043000e+03\n",
       "75%      1.706000e+03\n",
       "max      7.802000e+03\n",
       "Name: cursor_position, dtype: float64"
      ]
     },
     "execution_count": 26,
     "metadata": {},
     "output_type": "execute_result"
    }
   ],
   "source": [
    "train_logs.cursor_position.describe()"
   ]
  },
  {
   "cell_type": "code",
   "execution_count": 53,
   "id": "543cdb15-82ec-40ed-ac20-5bcdb241647e",
   "metadata": {},
   "outputs": [],
   "source": [
    "#cursor position change var is not significant in the linear model\n",
    "#action time change var is significant in the linear model\n",
    "def diff_var(x):\n",
    "    return np.var(np.diff(np.log(x+1)), ddof = 1)\n",
    "action_time_change_var = train_logs.groupby('id')['action_time'].agg(diff_var)\n",
    "action_time_change_var.name = \"action_time_change_var\"\n",
    "cursor_position_change_var= train_logs.groupby('id')['cursor_position'].agg(diff_var)\n",
    "cursor_position_change_var.name = \"cursor_position_change_var\"\n",
    "mean_action_time = train_logs.groupby('id')['action_time'].mean()\n",
    "mean_action_time.name = \"mean_action_time\""
   ]
  },
  {
   "cell_type": "code",
   "execution_count": 63,
   "id": "5adcb861-d72a-4ed4-a023-7980acc67897",
   "metadata": {},
   "outputs": [],
   "source": [
    "# Total q over maximum time it takes :\n",
    "def ncharCounter(x, character):\n",
    "    n = 0\n",
    "    for i in x:\n",
    "        for j in i:\n",
    "            if j == character:\n",
    "                n +=1\n",
    "\n",
    "    return n "
   ]
  },
  {
   "cell_type": "code",
   "execution_count": 84,
   "id": "e2a292ef-00fb-4765-b678-ad6d85900f36",
   "metadata": {},
   "outputs": [],
   "source": [
    "total_q = train_logs.groupby('id')['text_change'].agg(ncharCounter, character = \"q\")\n",
    "total_time = train_logs.groupby('id')['action_time'].sum()\n",
    "efficiency = np.log(total_q / total_time)\n",
    "efficiency.name = \"efficiency\""
   ]
  },
  {
   "cell_type": "code",
   "execution_count": 85,
   "id": "d6579261-8bb9-46f4-8e3b-f5d9ac2af75a",
   "metadata": {},
   "outputs": [
    {
     "data": {
      "text/html": [
       "<div>\n",
       "<style scoped>\n",
       "    .dataframe tbody tr th:only-of-type {\n",
       "        vertical-align: middle;\n",
       "    }\n",
       "\n",
       "    .dataframe tbody tr th {\n",
       "        vertical-align: top;\n",
       "    }\n",
       "\n",
       "    .dataframe thead th {\n",
       "        text-align: right;\n",
       "    }\n",
       "</style>\n",
       "<table border=\"1\" class=\"dataframe\">\n",
       "  <thead>\n",
       "    <tr style=\"text-align: right;\">\n",
       "      <th></th>\n",
       "      <th>action_time_change_var</th>\n",
       "      <th>cursor_position_change_var</th>\n",
       "      <th>efficiency</th>\n",
       "      <th>score</th>\n",
       "    </tr>\n",
       "  </thead>\n",
       "  <tbody>\n",
       "    <tr>\n",
       "      <th>action_time_change_var</th>\n",
       "      <td>1.000000</td>\n",
       "      <td>0.027377</td>\n",
       "      <td>0.011072</td>\n",
       "      <td>-0.093427</td>\n",
       "    </tr>\n",
       "    <tr>\n",
       "      <th>cursor_position_change_var</th>\n",
       "      <td>0.027377</td>\n",
       "      <td>1.000000</td>\n",
       "      <td>-0.089600</td>\n",
       "      <td>-0.134337</td>\n",
       "    </tr>\n",
       "    <tr>\n",
       "      <th>efficiency</th>\n",
       "      <td>0.011072</td>\n",
       "      <td>-0.089600</td>\n",
       "      <td>1.000000</td>\n",
       "      <td>0.091628</td>\n",
       "    </tr>\n",
       "    <tr>\n",
       "      <th>score</th>\n",
       "      <td>-0.093427</td>\n",
       "      <td>-0.134337</td>\n",
       "      <td>0.091628</td>\n",
       "      <td>1.000000</td>\n",
       "    </tr>\n",
       "  </tbody>\n",
       "</table>\n",
       "</div>"
      ],
      "text/plain": [
       "                            action_time_change_var  \\\n",
       "action_time_change_var                    1.000000   \n",
       "cursor_position_change_var                0.027377   \n",
       "efficiency                                0.011072   \n",
       "score                                    -0.093427   \n",
       "\n",
       "                            cursor_position_change_var  efficiency     score  \n",
       "action_time_change_var                        0.027377    0.011072 -0.093427  \n",
       "cursor_position_change_var                    1.000000   -0.089600 -0.134337  \n",
       "efficiency                                   -0.089600    1.000000  0.091628  \n",
       "score                                        -0.134337    0.091628  1.000000  "
      ]
     },
     "execution_count": 85,
     "metadata": {},
     "output_type": "execute_result"
    }
   ],
   "source": [
    "z = pd.merge(action_time_change_var, cursor_position_change_var, left_index = True, right_index = True)\n",
    "z = pd.merge(z, efficiency, left_index= True, right_index = True)\n",
    "z = pd.merge(z,scores, left_index = True, right_index = True)\n",
    "z.corr()"
   ]
  },
  {
   "cell_type": "code",
   "execution_count": 52,
   "id": "bd68f1a3-ff02-4eca-9958-ddcadbc658b0",
   "metadata": {},
   "outputs": [
    {
     "data": {
      "text/plain": [
       "count    2471.000000\n",
       "mean       99.951169\n",
       "std        24.112678\n",
       "min         8.423294\n",
       "25%        83.656015\n",
       "50%        97.015063\n",
       "75%       114.520985\n",
       "max       282.612447\n",
       "Name: mean_action_time, dtype: float64"
      ]
     },
     "execution_count": 52,
     "metadata": {},
     "output_type": "execute_result"
    }
   ],
   "source": [
    "mean_action_time.describe()"
   ]
  },
  {
   "cell_type": "code",
   "execution_count": null,
   "id": "2c575108-123b-44bf-b675-0665bcf27b06",
   "metadata": {},
   "outputs": [],
   "source": []
  }
 ],
 "metadata": {
  "kernelspec": {
   "display_name": "Python 3 (ipykernel)",
   "language": "python",
   "name": "python3"
  },
  "language_info": {
   "codemirror_mode": {
    "name": "ipython",
    "version": 3
   },
   "file_extension": ".py",
   "mimetype": "text/x-python",
   "name": "python",
   "nbconvert_exporter": "python",
   "pygments_lexer": "ipython3",
   "version": "3.11.6"
  }
 },
 "nbformat": 4,
 "nbformat_minor": 5
}
