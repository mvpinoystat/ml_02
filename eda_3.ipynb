{
 "cells": [
  {
   "cell_type": "markdown",
   "id": "bedcfc9f-1975-46ac-86a0-cba709b5e2bb",
   "metadata": {},
   "source": [
    "## **Check for text change and cursor position**\n",
    "- check for the number of character text change and score correlation\n",
    "- The log of the number of character changes has a correlation of 0.65 with score\n",
    "- The average cursor position has a correlation of 0.66 with score\n",
    "- include the average cursor position, n_char changes, std cursor movement,\n",
    "- see the correlations in the end\n",
    "- Only n_char_changes and log_word_count are good\n"
   ]
  },
  {
   "cell_type": "code",
   "execution_count": 1,
   "id": "8f4c398f-e96b-4315-bed0-51a28628b2ef",
   "metadata": {},
   "outputs": [],
   "source": [
    "import numpy as np\n",
    "import pandas as pd\n",
    "import matplotlib.pyplot as plt\n",
    "import scipy.stats as st\n",
    "#from dask.distributed import Client\n",
    "import dask.dataframe as dd"
   ]
  },
  {
   "cell_type": "code",
   "execution_count": 2,
   "id": "d5aeb2f4-964f-4b86-a173-67a2f2dfd523",
   "metadata": {},
   "outputs": [],
   "source": [
    "notes = set() \n",
    "input_folder = \"kaggle/input/linking-writing-processes-to-writing-quality/\""
   ]
  },
  {
   "cell_type": "code",
   "execution_count": 3,
   "id": "fa04a126-e352-42a2-b6c8-e1dee66c0c99",
   "metadata": {},
   "outputs": [],
   "source": [
    "train_logs = pd.read_csv(input_folder + \"train_logs.csv\",delimiter = \",\",header = 0)\n",
    "train_scores = pd.read_csv(input_folder +\"train_scores.csv\", delimiter = \",\", header = 0)\n",
    "scores = pd.Series(data = train_scores['score'].values, index = train_scores['id'].values, name = 'score')"
   ]
  },
  {
   "cell_type": "code",
   "execution_count": 4,
   "id": "483ad387-caf7-4afc-a3dd-5b77fabb31cf",
   "metadata": {},
   "outputs": [
    {
     "data": {
      "text/html": [
       "<div>\n",
       "<style scoped>\n",
       "    .dataframe tbody tr th:only-of-type {\n",
       "        vertical-align: middle;\n",
       "    }\n",
       "\n",
       "    .dataframe tbody tr th {\n",
       "        vertical-align: top;\n",
       "    }\n",
       "\n",
       "    .dataframe thead th {\n",
       "        text-align: right;\n",
       "    }\n",
       "</style>\n",
       "<table border=\"1\" class=\"dataframe\">\n",
       "  <thead>\n",
       "    <tr style=\"text-align: right;\">\n",
       "      <th></th>\n",
       "      <th>id</th>\n",
       "      <th>event_id</th>\n",
       "      <th>down_time</th>\n",
       "      <th>up_time</th>\n",
       "      <th>action_time</th>\n",
       "      <th>activity</th>\n",
       "      <th>down_event</th>\n",
       "      <th>up_event</th>\n",
       "      <th>text_change</th>\n",
       "      <th>cursor_position</th>\n",
       "      <th>word_count</th>\n",
       "    </tr>\n",
       "  </thead>\n",
       "  <tbody>\n",
       "    <tr>\n",
       "      <th>0</th>\n",
       "      <td>001519c8</td>\n",
       "      <td>1</td>\n",
       "      <td>4526</td>\n",
       "      <td>4557</td>\n",
       "      <td>31</td>\n",
       "      <td>Nonproduction</td>\n",
       "      <td>Leftclick</td>\n",
       "      <td>Leftclick</td>\n",
       "      <td>NoChange</td>\n",
       "      <td>0</td>\n",
       "      <td>0</td>\n",
       "    </tr>\n",
       "    <tr>\n",
       "      <th>1</th>\n",
       "      <td>001519c8</td>\n",
       "      <td>2</td>\n",
       "      <td>4558</td>\n",
       "      <td>4962</td>\n",
       "      <td>404</td>\n",
       "      <td>Nonproduction</td>\n",
       "      <td>Leftclick</td>\n",
       "      <td>Leftclick</td>\n",
       "      <td>NoChange</td>\n",
       "      <td>0</td>\n",
       "      <td>0</td>\n",
       "    </tr>\n",
       "    <tr>\n",
       "      <th>2</th>\n",
       "      <td>001519c8</td>\n",
       "      <td>3</td>\n",
       "      <td>106571</td>\n",
       "      <td>106571</td>\n",
       "      <td>0</td>\n",
       "      <td>Nonproduction</td>\n",
       "      <td>Shift</td>\n",
       "      <td>Shift</td>\n",
       "      <td>NoChange</td>\n",
       "      <td>0</td>\n",
       "      <td>0</td>\n",
       "    </tr>\n",
       "    <tr>\n",
       "      <th>3</th>\n",
       "      <td>001519c8</td>\n",
       "      <td>4</td>\n",
       "      <td>106686</td>\n",
       "      <td>106777</td>\n",
       "      <td>91</td>\n",
       "      <td>Input</td>\n",
       "      <td>q</td>\n",
       "      <td>q</td>\n",
       "      <td>q</td>\n",
       "      <td>1</td>\n",
       "      <td>1</td>\n",
       "    </tr>\n",
       "    <tr>\n",
       "      <th>4</th>\n",
       "      <td>001519c8</td>\n",
       "      <td>5</td>\n",
       "      <td>107196</td>\n",
       "      <td>107323</td>\n",
       "      <td>127</td>\n",
       "      <td>Input</td>\n",
       "      <td>q</td>\n",
       "      <td>q</td>\n",
       "      <td>q</td>\n",
       "      <td>2</td>\n",
       "      <td>1</td>\n",
       "    </tr>\n",
       "  </tbody>\n",
       "</table>\n",
       "</div>"
      ],
      "text/plain": [
       "         id  event_id  down_time  up_time  action_time       activity  \\\n",
       "0  001519c8         1       4526     4557           31  Nonproduction   \n",
       "1  001519c8         2       4558     4962          404  Nonproduction   \n",
       "2  001519c8         3     106571   106571            0  Nonproduction   \n",
       "3  001519c8         4     106686   106777           91          Input   \n",
       "4  001519c8         5     107196   107323          127          Input   \n",
       "\n",
       "  down_event   up_event text_change  cursor_position  word_count  \n",
       "0  Leftclick  Leftclick    NoChange                0           0  \n",
       "1  Leftclick  Leftclick    NoChange                0           0  \n",
       "2      Shift      Shift    NoChange                0           0  \n",
       "3          q          q           q                1           1  \n",
       "4          q          q           q                2           1  "
      ]
     },
     "execution_count": 4,
     "metadata": {},
     "output_type": "execute_result"
    }
   ],
   "source": [
    "train_logs.head(5)"
   ]
  },
  {
   "cell_type": "code",
   "execution_count": 5,
   "id": "0fd91826-b936-4f64-a166-c60c1918c43e",
   "metadata": {},
   "outputs": [
    {
     "data": {
      "text/plain": [
       "array(['NoChange', 'q', ' ', ..., 'qq qqq qqqq qqqqq',\n",
       "       'qq qqqqq qqqq qq qqqqq ',\n",
       "       '\\n qqqqq qqqqqq qqqqqqqqqq qq q qqqqqqqq qqq qqq qqqq qqqqqq q qqq. \\n\\nqqqq qqq qq qqqqqqq qqq:\\n- \\n- qqq qqqqqqq qqqq q qqqqqq qqqqqqqq qq qqqq qqqqqqqq '],\n",
       "      dtype=object)"
      ]
     },
     "execution_count": 5,
     "metadata": {},
     "output_type": "execute_result"
    }
   ],
   "source": [
    "# ch3ck number of character changes and score\n",
    "n = train_logs.text_change.unique()\n",
    "n"
   ]
  },
  {
   "cell_type": "code",
   "execution_count": 6,
   "id": "af1d1adb-dcd6-412c-8c67-e65e4f021e35",
   "metadata": {},
   "outputs": [],
   "source": [
    "def charCounter(x, character):\n",
    "    n = 0\n",
    "    for i in x:\n",
    "        for j in i:\n",
    "            if j == character:\n",
    "                n +=1\n",
    "\n",
    "    return np.log(n) \n",
    "\n"
   ]
  },
  {
   "cell_type": "code",
   "execution_count": 35,
   "id": "96ef41a5-3eb0-40ff-8cac-86dc5fe2c6a9",
   "metadata": {},
   "outputs": [],
   "source": [
    "ln_n_char_changes = train_logs.groupby('id')['text_change'].aggregate(charCounter, character = 'q')\n",
    "ln_n_char_changes.name = \"ln_n_char_changes\""
   ]
  },
  {
   "cell_type": "code",
   "execution_count": 8,
   "id": "11fbe9f8-04b9-4c3f-8852-0b5ebadd0901",
   "metadata": {},
   "outputs": [],
   "source": [
    "def log_var(x):\n",
    "    return np.log(np.var(x,ddof = 1))"
   ]
  },
  {
   "cell_type": "code",
   "execution_count": 9,
   "id": "edfce490-9f4d-437f-8909-a2eabf4ca306",
   "metadata": {},
   "outputs": [],
   "source": [
    "var_cursor_position= train_logs.groupby('id')['cursor_position'].aggregate(log_var)\n",
    "var_cursor_position.name = \"var_cursor_position\""
   ]
  },
  {
   "cell_type": "code",
   "execution_count": 10,
   "id": "04c3d473-e947-424c-b0fb-a378089cc828",
   "metadata": {},
   "outputs": [],
   "source": [
    "avg_cursor_position = train_logs.groupby('id')['cursor_position'].mean()\n",
    "avg_cursor_position = np.log(avg_cursor_position)\n",
    "avg_cursor_position.name = \"avg_cursor_position\""
   ]
  },
  {
   "cell_type": "code",
   "execution_count": 11,
   "id": "b27cc2da-f7e0-4ee9-8d83-a0f112a0fac1",
   "metadata": {},
   "outputs": [],
   "source": [
    "skew_cursor_position= train_logs.groupby('id')['cursor_position'].aggregate(st.skew)\n",
    "skew_cursor_position.name = \"skew_cursor_position\"\n"
   ]
  },
  {
   "cell_type": "code",
   "execution_count": 12,
   "id": "163e4bd8-baf2-401c-b095-e2ec3a721bc7",
   "metadata": {},
   "outputs": [],
   "source": [
    "def n_char(x, character):\n",
    "    n = 0\n",
    "    for i in x:\n",
    "        for j in i:\n",
    "            if j == character:\n",
    "                n +=1\n",
    "\n",
    "    return n \n",
    "    "
   ]
  },
  {
   "cell_type": "code",
   "execution_count": 13,
   "id": "1970b4b7-438c-4571-b907-85016a947ab4",
   "metadata": {},
   "outputs": [],
   "source": [
    "n_char_comma = train_logs.groupby('id')['text_change'].aggregate(n_char, character = ',')\n",
    "n_char_comma.name = \"n_char_comma\""
   ]
  },
  {
   "cell_type": "code",
   "execution_count": 14,
   "id": "31809c53-a458-47ef-91f6-5b623cbce05b",
   "metadata": {},
   "outputs": [],
   "source": [
    "n_char_space = train_logs.groupby('id')['text_change'].aggregate(n_char, character = ' ')\n",
    "n_char_space.name = \"n_char_space\""
   ]
  },
  {
   "cell_type": "code",
   "execution_count": 15,
   "id": "58d1a25c-2e79-43bb-9969-f83a14a7e9a8",
   "metadata": {},
   "outputs": [],
   "source": [
    "n_char_dot= train_logs.groupby('id')['text_change'].aggregate(n_char, character = '.')\n",
    "n_char_dot.name = \"n_char_dot\""
   ]
  },
  {
   "cell_type": "code",
   "execution_count": 16,
   "id": "cdb6a967-1d7b-4eac-8da5-a6e96ea6da18",
   "metadata": {},
   "outputs": [],
   "source": [
    "def max_word_count_ratio(x):\n",
    "    return np.max(x)/len(x)"
   ]
  },
  {
   "cell_type": "code",
   "execution_count": 17,
   "id": "40060d0a-0ea2-4878-93ed-19afc5bfdd1d",
   "metadata": {},
   "outputs": [],
   "source": [
    "#check word count per length or average word count:\n",
    "ave_word_count = train_logs.groupby('id')['word_count'].aggregate(max_word_count_ratio)\n",
    "ave_word_count.name = \"ave_word_count\""
   ]
  },
  {
   "cell_type": "code",
   "execution_count": 18,
   "id": "a4a353e2-e7d3-4cd7-a255-70073d00aed3",
   "metadata": {},
   "outputs": [],
   "source": [
    "def word_count(x):\n",
    "    return np.log(np.max(x))"
   ]
  },
  {
   "cell_type": "code",
   "execution_count": 28,
   "id": "055f1486-abbb-4b99-8b33-06fe4880362f",
   "metadata": {},
   "outputs": [],
   "source": [
    "ln_word_count = train_logs.groupby('id')['word_count'].aggregate(word_count)\n",
    "ln_word_count.name = \"ln_word_count\""
   ]
  },
  {
   "cell_type": "code",
   "execution_count": 36,
   "id": "65125a9e-8de3-4bc8-93ae-53cd09769c3f",
   "metadata": {},
   "outputs": [],
   "source": [
    "z = pd.merge(ln_n_char_changes, avg_cursor_position, left_index = True, right_index = True)\n",
    "z = pd.merge(z, var_cursor_position, left_index = True, right_index = True)\n",
    "z = pd.merge(z, ln_word_count, left_index = True, right_index = True)\n",
    "z = pd.merge(z, scores, left_index = True, right_index = True)"
   ]
  },
  {
   "cell_type": "code",
   "execution_count": 37,
   "id": "574ce740-270a-4f63-8dcd-c5a0820627a9",
   "metadata": {},
   "outputs": [
    {
     "data": {
      "text/html": [
       "<div>\n",
       "<style scoped>\n",
       "    .dataframe tbody tr th:only-of-type {\n",
       "        vertical-align: middle;\n",
       "    }\n",
       "\n",
       "    .dataframe tbody tr th {\n",
       "        vertical-align: top;\n",
       "    }\n",
       "\n",
       "    .dataframe thead th {\n",
       "        text-align: right;\n",
       "    }\n",
       "</style>\n",
       "<table border=\"1\" class=\"dataframe\">\n",
       "  <thead>\n",
       "    <tr style=\"text-align: right;\">\n",
       "      <th></th>\n",
       "      <th>ln_n_char_changes</th>\n",
       "      <th>avg_cursor_position</th>\n",
       "      <th>var_cursor_position</th>\n",
       "      <th>ln_word_count</th>\n",
       "      <th>score</th>\n",
       "    </tr>\n",
       "  </thead>\n",
       "  <tbody>\n",
       "    <tr>\n",
       "      <th>ln_n_char_changes</th>\n",
       "      <td>1.000000</td>\n",
       "      <td>0.804159</td>\n",
       "      <td>0.823411</td>\n",
       "      <td>0.842259</td>\n",
       "      <td>0.654965</td>\n",
       "    </tr>\n",
       "    <tr>\n",
       "      <th>avg_cursor_position</th>\n",
       "      <td>0.804159</td>\n",
       "      <td>1.000000</td>\n",
       "      <td>0.969796</td>\n",
       "      <td>0.942747</td>\n",
       "      <td>0.666851</td>\n",
       "    </tr>\n",
       "    <tr>\n",
       "      <th>var_cursor_position</th>\n",
       "      <td>0.823411</td>\n",
       "      <td>0.969796</td>\n",
       "      <td>1.000000</td>\n",
       "      <td>0.950600</td>\n",
       "      <td>0.675767</td>\n",
       "    </tr>\n",
       "    <tr>\n",
       "      <th>ln_word_count</th>\n",
       "      <td>0.842259</td>\n",
       "      <td>0.942747</td>\n",
       "      <td>0.950600</td>\n",
       "      <td>1.000000</td>\n",
       "      <td>0.691226</td>\n",
       "    </tr>\n",
       "    <tr>\n",
       "      <th>score</th>\n",
       "      <td>0.654965</td>\n",
       "      <td>0.666851</td>\n",
       "      <td>0.675767</td>\n",
       "      <td>0.691226</td>\n",
       "      <td>1.000000</td>\n",
       "    </tr>\n",
       "  </tbody>\n",
       "</table>\n",
       "</div>"
      ],
      "text/plain": [
       "                     ln_n_char_changes  avg_cursor_position  \\\n",
       "ln_n_char_changes             1.000000             0.804159   \n",
       "avg_cursor_position           0.804159             1.000000   \n",
       "var_cursor_position           0.823411             0.969796   \n",
       "ln_word_count                 0.842259             0.942747   \n",
       "score                         0.654965             0.666851   \n",
       "\n",
       "                     var_cursor_position  ln_word_count     score  \n",
       "ln_n_char_changes               0.823411       0.842259  0.654965  \n",
       "avg_cursor_position             0.969796       0.942747  0.666851  \n",
       "var_cursor_position             1.000000       0.950600  0.675767  \n",
       "ln_word_count                   0.950600       1.000000  0.691226  \n",
       "score                           0.675767       0.691226  1.000000  "
      ]
     },
     "execution_count": 37,
     "metadata": {},
     "output_type": "execute_result"
    }
   ],
   "source": [
    "z.corr()"
   ]
  },
  {
   "cell_type": "code",
   "execution_count": 38,
   "id": "2a157038-328b-43db-b5ae-f658ecf84fce",
   "metadata": {},
   "outputs": [
    {
     "data": {
      "text/html": [
       "<div>\n",
       "<style scoped>\n",
       "    .dataframe tbody tr th:only-of-type {\n",
       "        vertical-align: middle;\n",
       "    }\n",
       "\n",
       "    .dataframe tbody tr th {\n",
       "        vertical-align: top;\n",
       "    }\n",
       "\n",
       "    .dataframe thead th {\n",
       "        text-align: right;\n",
       "    }\n",
       "</style>\n",
       "<table border=\"1\" class=\"dataframe\">\n",
       "  <thead>\n",
       "    <tr style=\"text-align: right;\">\n",
       "      <th></th>\n",
       "      <th>ln_n_char_changes</th>\n",
       "      <th>avg_cursor_position</th>\n",
       "      <th>var_cursor_position</th>\n",
       "      <th>ln_word_count</th>\n",
       "      <th>score</th>\n",
       "    </tr>\n",
       "    <tr>\n",
       "      <th>id</th>\n",
       "      <th></th>\n",
       "      <th></th>\n",
       "      <th></th>\n",
       "      <th></th>\n",
       "      <th></th>\n",
       "    </tr>\n",
       "  </thead>\n",
       "  <tbody>\n",
       "    <tr>\n",
       "      <th>001519c8</th>\n",
       "      <td>7.608871</td>\n",
       "      <td>6.566902</td>\n",
       "      <td>12.170637</td>\n",
       "      <td>5.545177</td>\n",
       "      <td>3.5</td>\n",
       "    </tr>\n",
       "    <tr>\n",
       "      <th>0022f953</th>\n",
       "      <td>7.441320</td>\n",
       "      <td>6.654418</td>\n",
       "      <td>12.214639</td>\n",
       "      <td>5.777652</td>\n",
       "      <td>3.5</td>\n",
       "    </tr>\n",
       "    <tr>\n",
       "      <th>0042269b</th>\n",
       "      <td>8.209308</td>\n",
       "      <td>6.595250</td>\n",
       "      <td>12.769612</td>\n",
       "      <td>6.001415</td>\n",
       "      <td>6.0</td>\n",
       "    </tr>\n",
       "    <tr>\n",
       "      <th>0059420b</th>\n",
       "      <td>7.063048</td>\n",
       "      <td>6.296257</td>\n",
       "      <td>11.457777</td>\n",
       "      <td>5.327876</td>\n",
       "      <td>2.0</td>\n",
       "    </tr>\n",
       "  </tbody>\n",
       "</table>\n",
       "</div>"
      ],
      "text/plain": [
       "          ln_n_char_changes  avg_cursor_position  var_cursor_position  \\\n",
       "id                                                                      \n",
       "001519c8           7.608871             6.566902            12.170637   \n",
       "0022f953           7.441320             6.654418            12.214639   \n",
       "0042269b           8.209308             6.595250            12.769612   \n",
       "0059420b           7.063048             6.296257            11.457777   \n",
       "\n",
       "          ln_word_count  score  \n",
       "id                              \n",
       "001519c8       5.545177    3.5  \n",
       "0022f953       5.777652    3.5  \n",
       "0042269b       6.001415    6.0  \n",
       "0059420b       5.327876    2.0  "
      ]
     },
     "execution_count": 38,
     "metadata": {},
     "output_type": "execute_result"
    }
   ],
   "source": [
    "z.head(4)"
   ]
  },
  {
   "cell_type": "code",
   "execution_count": 39,
   "id": "8abc32af-4a6f-4386-8645-5da5dfc054f9",
   "metadata": {},
   "outputs": [],
   "source": [
    "import statsmodels.api as sm\n",
    "import statsmodels.formula.api as smf"
   ]
  },
  {
   "cell_type": "code",
   "execution_count": 46,
   "id": "3b164b18-0547-456a-bc7d-046f14b8c5e5",
   "metadata": {},
   "outputs": [],
   "source": [
    "X = z[['ln_n_char_changes', 'ln_word_count']]\n",
    "X = sm.add_constant(X)\n",
    "Y = z.score\n"
   ]
  },
  {
   "cell_type": "code",
   "execution_count": 47,
   "id": "bd8950e5-4509-47de-9b23-41f68376b443",
   "metadata": {},
   "outputs": [
    {
     "data": {
      "text/html": [
       "<table class=\"simpletable\">\n",
       "<caption>OLS Regression Results</caption>\n",
       "<tr>\n",
       "  <th>Dep. Variable:</th>          <td>score</td>      <th>  R-squared:         </th> <td>   0.496</td>\n",
       "</tr>\n",
       "<tr>\n",
       "  <th>Model:</th>                   <td>OLS</td>       <th>  Adj. R-squared:    </th> <td>   0.496</td>\n",
       "</tr>\n",
       "<tr>\n",
       "  <th>Method:</th>             <td>Least Squares</td>  <th>  F-statistic:       </th> <td>   1215.</td>\n",
       "</tr>\n",
       "<tr>\n",
       "  <th>Date:</th>             <td>Tue, 26 Dec 2023</td> <th>  Prob (F-statistic):</th>  <td>  0.00</td> \n",
       "</tr>\n",
       "<tr>\n",
       "  <th>Time:</th>                 <td>10:34:18</td>     <th>  Log-Likelihood:    </th> <td> -2720.0</td>\n",
       "</tr>\n",
       "<tr>\n",
       "  <th>No. Observations:</th>      <td>  2471</td>      <th>  AIC:               </th> <td>   5446.</td>\n",
       "</tr>\n",
       "<tr>\n",
       "  <th>Df Residuals:</th>          <td>  2468</td>      <th>  BIC:               </th> <td>   5463.</td>\n",
       "</tr>\n",
       "<tr>\n",
       "  <th>Df Model:</th>              <td>     2</td>      <th>                     </th>     <td> </td>   \n",
       "</tr>\n",
       "<tr>\n",
       "  <th>Covariance Type:</th>      <td>nonrobust</td>    <th>                     </th>     <td> </td>   \n",
       "</tr>\n",
       "</table>\n",
       "<table class=\"simpletable\">\n",
       "<tr>\n",
       "          <td></td>             <th>coef</th>     <th>std err</th>      <th>t</th>      <th>P>|t|</th>  <th>[0.025</th>    <th>0.975]</th>  \n",
       "</tr>\n",
       "<tr>\n",
       "  <th>const</th>             <td>   -7.5244</td> <td>    0.241</td> <td>  -31.283</td> <td> 0.000</td> <td>   -7.996</td> <td>   -7.053</td>\n",
       "</tr>\n",
       "<tr>\n",
       "  <th>ln_n_char_changes</th> <td>    0.5417</td> <td>    0.057</td> <td>    9.447</td> <td> 0.000</td> <td>    0.429</td> <td>    0.654</td>\n",
       "</tr>\n",
       "<tr>\n",
       "  <th>ln_word_count</th>     <td>    1.1966</td> <td>    0.066</td> <td>   18.119</td> <td> 0.000</td> <td>    1.067</td> <td>    1.326</td>\n",
       "</tr>\n",
       "</table>\n",
       "<table class=\"simpletable\">\n",
       "<tr>\n",
       "  <th>Omnibus:</th>       <td>184.914</td> <th>  Durbin-Watson:     </th> <td>   2.058</td>\n",
       "</tr>\n",
       "<tr>\n",
       "  <th>Prob(Omnibus):</th> <td> 0.000</td>  <th>  Jarque-Bera (JB):  </th> <td> 265.439</td>\n",
       "</tr>\n",
       "<tr>\n",
       "  <th>Skew:</th>          <td>-0.612</td>  <th>  Prob(JB):          </th> <td>2.29e-58</td>\n",
       "</tr>\n",
       "<tr>\n",
       "  <th>Kurtosis:</th>      <td> 4.038</td>  <th>  Cond. No.          </th> <td>    162.</td>\n",
       "</tr>\n",
       "</table><br/><br/>Notes:<br/>[1] Standard Errors assume that the covariance matrix of the errors is correctly specified."
      ],
      "text/latex": [
       "\\begin{center}\n",
       "\\begin{tabular}{lclc}\n",
       "\\toprule\n",
       "\\textbf{Dep. Variable:}       &      score       & \\textbf{  R-squared:         } &     0.496   \\\\\n",
       "\\textbf{Model:}               &       OLS        & \\textbf{  Adj. R-squared:    } &     0.496   \\\\\n",
       "\\textbf{Method:}              &  Least Squares   & \\textbf{  F-statistic:       } &     1215.   \\\\\n",
       "\\textbf{Date:}                & Tue, 26 Dec 2023 & \\textbf{  Prob (F-statistic):} &     0.00    \\\\\n",
       "\\textbf{Time:}                &     10:34:18     & \\textbf{  Log-Likelihood:    } &   -2720.0   \\\\\n",
       "\\textbf{No. Observations:}    &        2471      & \\textbf{  AIC:               } &     5446.   \\\\\n",
       "\\textbf{Df Residuals:}        &        2468      & \\textbf{  BIC:               } &     5463.   \\\\\n",
       "\\textbf{Df Model:}            &           2      & \\textbf{                     } &             \\\\\n",
       "\\textbf{Covariance Type:}     &    nonrobust     & \\textbf{                     } &             \\\\\n",
       "\\bottomrule\n",
       "\\end{tabular}\n",
       "\\begin{tabular}{lcccccc}\n",
       "                              & \\textbf{coef} & \\textbf{std err} & \\textbf{t} & \\textbf{P$> |$t$|$} & \\textbf{[0.025} & \\textbf{0.975]}  \\\\\n",
       "\\midrule\n",
       "\\textbf{const}                &      -7.5244  &        0.241     &   -31.283  &         0.000        &       -7.996    &       -7.053     \\\\\n",
       "\\textbf{ln\\_n\\_char\\_changes} &       0.5417  &        0.057     &     9.447  &         0.000        &        0.429    &        0.654     \\\\\n",
       "\\textbf{ln\\_word\\_count}      &       1.1966  &        0.066     &    18.119  &         0.000        &        1.067    &        1.326     \\\\\n",
       "\\bottomrule\n",
       "\\end{tabular}\n",
       "\\begin{tabular}{lclc}\n",
       "\\textbf{Omnibus:}       & 184.914 & \\textbf{  Durbin-Watson:     } &    2.058  \\\\\n",
       "\\textbf{Prob(Omnibus):} &   0.000 & \\textbf{  Jarque-Bera (JB):  } &  265.439  \\\\\n",
       "\\textbf{Skew:}          &  -0.612 & \\textbf{  Prob(JB):          } & 2.29e-58  \\\\\n",
       "\\textbf{Kurtosis:}      &   4.038 & \\textbf{  Cond. No.          } &     162.  \\\\\n",
       "\\bottomrule\n",
       "\\end{tabular}\n",
       "%\\caption{OLS Regression Results}\n",
       "\\end{center}\n",
       "\n",
       "Notes: \\newline\n",
       " [1] Standard Errors assume that the covariance matrix of the errors is correctly specified."
      ],
      "text/plain": [
       "<class 'statsmodels.iolib.summary.Summary'>\n",
       "\"\"\"\n",
       "                            OLS Regression Results                            \n",
       "==============================================================================\n",
       "Dep. Variable:                  score   R-squared:                       0.496\n",
       "Model:                            OLS   Adj. R-squared:                  0.496\n",
       "Method:                 Least Squares   F-statistic:                     1215.\n",
       "Date:                Tue, 26 Dec 2023   Prob (F-statistic):               0.00\n",
       "Time:                        10:34:18   Log-Likelihood:                -2720.0\n",
       "No. Observations:                2471   AIC:                             5446.\n",
       "Df Residuals:                    2468   BIC:                             5463.\n",
       "Df Model:                           2                                         \n",
       "Covariance Type:            nonrobust                                         \n",
       "=====================================================================================\n",
       "                        coef    std err          t      P>|t|      [0.025      0.975]\n",
       "-------------------------------------------------------------------------------------\n",
       "const                -7.5244      0.241    -31.283      0.000      -7.996      -7.053\n",
       "ln_n_char_changes     0.5417      0.057      9.447      0.000       0.429       0.654\n",
       "ln_word_count         1.1966      0.066     18.119      0.000       1.067       1.326\n",
       "==============================================================================\n",
       "Omnibus:                      184.914   Durbin-Watson:                   2.058\n",
       "Prob(Omnibus):                  0.000   Jarque-Bera (JB):              265.439\n",
       "Skew:                          -0.612   Prob(JB):                     2.29e-58\n",
       "Kurtosis:                       4.038   Cond. No.                         162.\n",
       "==============================================================================\n",
       "\n",
       "Notes:\n",
       "[1] Standard Errors assume that the covariance matrix of the errors is correctly specified.\n",
       "\"\"\""
      ]
     },
     "execution_count": 47,
     "metadata": {},
     "output_type": "execute_result"
    }
   ],
   "source": [
    "sm.OLS(Y,X).fit().summary()"
   ]
  },
  {
   "cell_type": "code",
   "execution_count": null,
   "id": "2ce9e3d0-368a-4d7d-863b-95a1846a2ccd",
   "metadata": {},
   "outputs": [],
   "source": []
  }
 ],
 "metadata": {
  "kernelspec": {
   "display_name": "Python 3 (ipykernel)",
   "language": "python",
   "name": "python3"
  },
  "language_info": {
   "codemirror_mode": {
    "name": "ipython",
    "version": 3
   },
   "file_extension": ".py",
   "mimetype": "text/x-python",
   "name": "python",
   "nbconvert_exporter": "python",
   "pygments_lexer": "ipython3",
   "version": "3.11.6"
  }
 },
 "nbformat": 4,
 "nbformat_minor": 5
}
