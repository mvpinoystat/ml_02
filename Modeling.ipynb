{
 "cells": [
  {
   "cell_type": "code",
   "execution_count": 1,
   "id": "d5800cd7-ec35-4d87-8cce-ac4e0dd27acf",
   "metadata": {},
   "outputs": [],
   "source": [
    "\n",
    "import numpy as np\n",
    "import pandas as pd\n",
    "import matplotlib.pyplot as plt\n",
    "import scipy.stats as st\n",
    "\n",
    "import re\n",
    "from sklearn.preprocessing import OneHotEncoder, PolynomialFeatures\n",
    "from sklearn.pipeline import Pipeline, FeatureUnion\n",
    "from sklearn.base import BaseEstimator, TransformerMixin \n",
    "\n",
    "#metrics\n",
    "from sklearn.metrics import mean_squared_error\n",
    "#model selection\n",
    "from sklearn.model_selection import cross_val_score\n",
    "\n",
    "#load preprocessed dataset:\n",
    "import joblib\n",
    "#models\n",
    "from sklearn.linear_model import LinearRegression, ElasticNet \n",
    "from sklearn.svm import SVR\n",
    "from sklearn.ensemble import RandomForestRegressor, VotingRegressor, AdaBoostRegressor, BaggingRegressor\n",
    "from sklearn.tree import DecisionTreeRegressor\n"
   ]
  },
  {
   "cell_type": "code",
   "execution_count": 2,
   "id": "913c1bf1-fa4f-4185-a5a7-5b1dab83b846",
   "metadata": {},
   "outputs": [
    {
     "data": {
      "text/plain": [
       "(2471, 230)"
      ]
     },
     "execution_count": 2,
     "metadata": {},
     "output_type": "execute_result"
    }
   ],
   "source": [
    "X = joblib.load(\"transformed_train.pkl\")\n",
    "X.shape"
   ]
  },
  {
   "cell_type": "code",
   "execution_count": 3,
   "id": "f3cdff29-7c1d-4625-818a-91b69791804e",
   "metadata": {},
   "outputs": [],
   "source": [
    "input_folder = \"kaggle/input/linking-writing-processes-to-writing-quality/\"\n",
    "train_scores = pd.read_csv(input_folder +\"train_scores.csv\", delimiter = \",\", header = 0)\n",
    "scores = pd.Series(data = train_scores['score'].values, index = train_scores['id'].values, name = 'score')"
   ]
  },
  {
   "cell_type": "code",
   "execution_count": 4,
   "id": "993956fe-c64b-4fdb-b858-809d0287df29",
   "metadata": {},
   "outputs": [],
   "source": [
    "Y = scores.values"
   ]
  },
  {
   "cell_type": "code",
   "execution_count": 5,
   "id": "d0b83d0b-d248-46e2-96eb-00f74b645fbd",
   "metadata": {},
   "outputs": [],
   "source": [
    "# display scores\n",
    "def display_scores(rmse_neg_score):\n",
    "    scores = np.sqrt(-rmse_neg_score)\n",
    "    print(\"score: {}\".format(scores))\n",
    "    print(\"Mean rmse: {}\".format(scores.mean()))\n",
    "    print(\"Sd rmse: {}\".format(scores.std(ddof = 1)))\n",
    "    "
   ]
  },
  {
   "cell_type": "code",
   "execution_count": 10,
   "id": "cca05135-cfe0-423e-823a-3acace742b8d",
   "metadata": {},
   "outputs": [
    {
     "name": "stdout",
     "output_type": "stream",
     "text": [
      "score: [0.66079266 0.68343441 0.66836185 0.68635073 0.70923515]\n",
      "Mean rmse: 0.681634960238361\n",
      "Sd rmse: 0.018693742445172013\n"
     ]
    }
   ],
   "source": [
    "model_1 = BaggingRegressor(estimator = SVR(C=1000, epsilon = 0.001), max_samples = 800, n_estimators = 60)  \n",
    "model_2 = RandomForestRegressor()\n",
    "model_3 = BaggingRegressor(estimator = ElasticNet(alpha =0.1, l1_ratio = 0.5), max_samples = 800, n_estimators = 60)\n",
    "main_model = VotingRegressor(estimators = [('b_svr',model_1),('rfr', model_2), \n",
    "                                           ('b_elastic', model_3)])\n",
    "\n",
    "display_scores(cross_val_score(estimator = main_model, X= X, y = Y,\n",
    "                               scoring = \"neg_mean_squared_error\", cv = 5))"
   ]
  },
  {
   "cell_type": "code",
   "execution_count": 11,
   "id": "6f3e45d2-19f6-441c-9c3a-2007feecb49d",
   "metadata": {},
   "outputs": [
    {
     "name": "stdout",
     "output_type": "stream",
     "text": [
      "RMSE: 0.5497826176717799\n"
     ]
    }
   ],
   "source": [
    "model_test = BaggingRegressor(estimator = SVR(C=1000, epsilon = 0.001), max_samples =800, \n",
    "# model_2 = AdaBoostRegressor(random_state = 42, n_estimators = 50)\n",
    "                             n_estimators = 100, random_state = 11)\n",
    "model_test.fit(X,Y)\n",
    "rmse = np.sqrt(mean_squared_error(model_test.predict(X), Y))\n",
    "print(\"RMSE: {}\".format(rmse))\n",
    "\n"
   ]
  },
  {
   "cell_type": "code",
   "execution_count": null,
   "id": "8693fb11-a886-40b0-9ee8-c4a58779b899",
   "metadata": {},
   "outputs": [],
   "source": []
  }
 ],
 "metadata": {
  "kernelspec": {
   "display_name": "Python 3 (ipykernel)",
   "language": "python",
   "name": "python3"
  },
  "language_info": {
   "codemirror_mode": {
    "name": "ipython",
    "version": 3
   },
   "file_extension": ".py",
   "mimetype": "text/x-python",
   "name": "python",
   "nbconvert_exporter": "python",
   "pygments_lexer": "ipython3",
   "version": "3.11.6"
  }
 },
 "nbformat": 4,
 "nbformat_minor": 5
}
