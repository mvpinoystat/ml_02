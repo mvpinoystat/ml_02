{
 "cells": [
  {
   "cell_type": "markdown",
   "id": "35423672-2e29-4ed0-baa7-46e4253b0772",
   "metadata": {},
   "source": [
    "# **EDA for text_change variable**"
   ]
  },
  {
   "cell_type": "code",
   "execution_count": 1,
   "id": "8f4c398f-e96b-4315-bed0-51a28628b2ef",
   "metadata": {},
   "outputs": [],
   "source": [
    "import numpy as np\n",
    "import pandas as pd\n",
    "import matplotlib.pyplot as plt\n",
    "import scipy.stats as st\n",
    "# feature_engineering\n",
    "import re\n",
    "\n",
    "from sklearn.preprocessing import SplineTransformer\n",
    "# ploting\n",
    "import matplotlib.pyplot as plt\n",
    "# model initial:\n",
    "import statsmodels.api as sm\n",
    "from sklearn.linear_model import LinearRegression\n",
    "from sklearn.metrics import r2_score, mean_squared_error\n",
    "\n",
    "from sklearn.feature_extraction.text import CountVectorizer\n",
    "from sklearn.base import BaseEstimator, TransformerMixin"
   ]
  },
  {
   "cell_type": "code",
   "execution_count": 2,
   "id": "d5aeb2f4-964f-4b86-a173-67a2f2dfd523",
   "metadata": {},
   "outputs": [],
   "source": [
    "#Set import folder\n",
    "input_folder = \"kaggle/input/linking-writing-processes-to-writing-quality/\""
   ]
  },
  {
   "cell_type": "code",
   "execution_count": 3,
   "id": "fa04a126-e352-42a2-b6c8-e1dee66c0c99",
   "metadata": {},
   "outputs": [],
   "source": [
    "# Load train logs\n",
    "train_logs = pd.read_csv(input_folder + \"train_logs.csv\",delimiter = \",\",header = 0)\n",
    "# Set the id and event id as index:\n",
    "train_logs_indexed = train_logs.set_index(['id', 'event_id'])\n",
    "# Load train scores\n",
    "train_scores = pd.read_csv(input_folder +\"train_scores.csv\", delimiter = \",\", header = 0)\n",
    "scores = pd.Series(data = train_scores['score'].values, index = train_scores['id'].values, name = 'score')"
   ]
  },
  {
   "cell_type": "code",
   "execution_count": 4,
   "id": "483ad387-caf7-4afc-a3dd-5b77fabb31cf",
   "metadata": {},
   "outputs": [
    {
     "data": {
      "text/html": [
       "<div>\n",
       "<style scoped>\n",
       "    .dataframe tbody tr th:only-of-type {\n",
       "        vertical-align: middle;\n",
       "    }\n",
       "\n",
       "    .dataframe tbody tr th {\n",
       "        vertical-align: top;\n",
       "    }\n",
       "\n",
       "    .dataframe thead th {\n",
       "        text-align: right;\n",
       "    }\n",
       "</style>\n",
       "<table border=\"1\" class=\"dataframe\">\n",
       "  <thead>\n",
       "    <tr style=\"text-align: right;\">\n",
       "      <th></th>\n",
       "      <th>id</th>\n",
       "      <th>event_id</th>\n",
       "      <th>down_time</th>\n",
       "      <th>up_time</th>\n",
       "      <th>action_time</th>\n",
       "      <th>activity</th>\n",
       "      <th>down_event</th>\n",
       "      <th>up_event</th>\n",
       "      <th>text_change</th>\n",
       "      <th>cursor_position</th>\n",
       "      <th>word_count</th>\n",
       "    </tr>\n",
       "  </thead>\n",
       "  <tbody>\n",
       "    <tr>\n",
       "      <th>0</th>\n",
       "      <td>001519c8</td>\n",
       "      <td>1</td>\n",
       "      <td>4526</td>\n",
       "      <td>4557</td>\n",
       "      <td>31</td>\n",
       "      <td>Nonproduction</td>\n",
       "      <td>Leftclick</td>\n",
       "      <td>Leftclick</td>\n",
       "      <td>NoChange</td>\n",
       "      <td>0</td>\n",
       "      <td>0</td>\n",
       "    </tr>\n",
       "    <tr>\n",
       "      <th>1</th>\n",
       "      <td>001519c8</td>\n",
       "      <td>2</td>\n",
       "      <td>4558</td>\n",
       "      <td>4962</td>\n",
       "      <td>404</td>\n",
       "      <td>Nonproduction</td>\n",
       "      <td>Leftclick</td>\n",
       "      <td>Leftclick</td>\n",
       "      <td>NoChange</td>\n",
       "      <td>0</td>\n",
       "      <td>0</td>\n",
       "    </tr>\n",
       "    <tr>\n",
       "      <th>2</th>\n",
       "      <td>001519c8</td>\n",
       "      <td>3</td>\n",
       "      <td>106571</td>\n",
       "      <td>106571</td>\n",
       "      <td>0</td>\n",
       "      <td>Nonproduction</td>\n",
       "      <td>Shift</td>\n",
       "      <td>Shift</td>\n",
       "      <td>NoChange</td>\n",
       "      <td>0</td>\n",
       "      <td>0</td>\n",
       "    </tr>\n",
       "    <tr>\n",
       "      <th>3</th>\n",
       "      <td>001519c8</td>\n",
       "      <td>4</td>\n",
       "      <td>106686</td>\n",
       "      <td>106777</td>\n",
       "      <td>91</td>\n",
       "      <td>Input</td>\n",
       "      <td>q</td>\n",
       "      <td>q</td>\n",
       "      <td>q</td>\n",
       "      <td>1</td>\n",
       "      <td>1</td>\n",
       "    </tr>\n",
       "    <tr>\n",
       "      <th>4</th>\n",
       "      <td>001519c8</td>\n",
       "      <td>5</td>\n",
       "      <td>107196</td>\n",
       "      <td>107323</td>\n",
       "      <td>127</td>\n",
       "      <td>Input</td>\n",
       "      <td>q</td>\n",
       "      <td>q</td>\n",
       "      <td>q</td>\n",
       "      <td>2</td>\n",
       "      <td>1</td>\n",
       "    </tr>\n",
       "    <tr>\n",
       "      <th>5</th>\n",
       "      <td>001519c8</td>\n",
       "      <td>6</td>\n",
       "      <td>107296</td>\n",
       "      <td>107400</td>\n",
       "      <td>104</td>\n",
       "      <td>Input</td>\n",
       "      <td>q</td>\n",
       "      <td>q</td>\n",
       "      <td>q</td>\n",
       "      <td>3</td>\n",
       "      <td>1</td>\n",
       "    </tr>\n",
       "  </tbody>\n",
       "</table>\n",
       "</div>"
      ],
      "text/plain": [
       "         id  event_id  down_time  up_time  action_time       activity  \\\n",
       "0  001519c8         1       4526     4557           31  Nonproduction   \n",
       "1  001519c8         2       4558     4962          404  Nonproduction   \n",
       "2  001519c8         3     106571   106571            0  Nonproduction   \n",
       "3  001519c8         4     106686   106777           91          Input   \n",
       "4  001519c8         5     107196   107323          127          Input   \n",
       "5  001519c8         6     107296   107400          104          Input   \n",
       "\n",
       "  down_event   up_event text_change  cursor_position  word_count  \n",
       "0  Leftclick  Leftclick    NoChange                0           0  \n",
       "1  Leftclick  Leftclick    NoChange                0           0  \n",
       "2      Shift      Shift    NoChange                0           0  \n",
       "3          q          q           q                1           1  \n",
       "4          q          q           q                2           1  \n",
       "5          q          q           q                3           1  "
      ]
     },
     "execution_count": 4,
     "metadata": {},
     "output_type": "execute_result"
    }
   ],
   "source": [
    "train_logs.head(6)"
   ]
  },
  {
   "cell_type": "code",
   "execution_count": 5,
   "id": "6968771a-85d3-4dc9-b276-001d4fe0cbe9",
   "metadata": {},
   "outputs": [
    {
     "data": {
      "text/html": [
       "<div>\n",
       "<style scoped>\n",
       "    .dataframe tbody tr th:only-of-type {\n",
       "        vertical-align: middle;\n",
       "    }\n",
       "\n",
       "    .dataframe tbody tr th {\n",
       "        vertical-align: top;\n",
       "    }\n",
       "\n",
       "    .dataframe thead th {\n",
       "        text-align: right;\n",
       "    }\n",
       "</style>\n",
       "<table border=\"1\" class=\"dataframe\">\n",
       "  <thead>\n",
       "    <tr style=\"text-align: right;\">\n",
       "      <th></th>\n",
       "      <th>id</th>\n",
       "      <th>event_id</th>\n",
       "      <th>down_time</th>\n",
       "      <th>up_time</th>\n",
       "      <th>action_time</th>\n",
       "      <th>activity</th>\n",
       "      <th>down_event</th>\n",
       "      <th>up_event</th>\n",
       "      <th>text_change</th>\n",
       "      <th>cursor_position</th>\n",
       "      <th>word_count</th>\n",
       "    </tr>\n",
       "  </thead>\n",
       "  <tbody>\n",
       "    <tr>\n",
       "      <th>8405895</th>\n",
       "      <td>fff05981</td>\n",
       "      <td>3617</td>\n",
       "      <td>2064657</td>\n",
       "      <td>2064765</td>\n",
       "      <td>108</td>\n",
       "      <td>Replace</td>\n",
       "      <td>q</td>\n",
       "      <td>q</td>\n",
       "      <td>q =&gt; q</td>\n",
       "      <td>1031</td>\n",
       "      <td>240</td>\n",
       "    </tr>\n",
       "    <tr>\n",
       "      <th>8405896</th>\n",
       "      <td>fff05981</td>\n",
       "      <td>3618</td>\n",
       "      <td>2069186</td>\n",
       "      <td>2069259</td>\n",
       "      <td>73</td>\n",
       "      <td>Nonproduction</td>\n",
       "      <td>Leftclick</td>\n",
       "      <td>Leftclick</td>\n",
       "      <td>NoChange</td>\n",
       "      <td>1028</td>\n",
       "      <td>240</td>\n",
       "    </tr>\n",
       "    <tr>\n",
       "      <th>8405897</th>\n",
       "      <td>fff05981</td>\n",
       "      <td>3619</td>\n",
       "      <td>2070065</td>\n",
       "      <td>2070133</td>\n",
       "      <td>68</td>\n",
       "      <td>Input</td>\n",
       "      <td>.</td>\n",
       "      <td>.</td>\n",
       "      <td>.</td>\n",
       "      <td>1029</td>\n",
       "      <td>240</td>\n",
       "    </tr>\n",
       "  </tbody>\n",
       "</table>\n",
       "</div>"
      ],
      "text/plain": [
       "               id  event_id  down_time  up_time  action_time       activity  \\\n",
       "8405895  fff05981      3617    2064657  2064765          108        Replace   \n",
       "8405896  fff05981      3618    2069186  2069259           73  Nonproduction   \n",
       "8405897  fff05981      3619    2070065  2070133           68          Input   \n",
       "\n",
       "        down_event   up_event text_change  cursor_position  word_count  \n",
       "8405895          q          q      q => q             1031         240  \n",
       "8405896  Leftclick  Leftclick    NoChange             1028         240  \n",
       "8405897          .          .           .             1029         240  "
      ]
     },
     "execution_count": 5,
     "metadata": {},
     "output_type": "execute_result"
    }
   ],
   "source": [
    "train_logs.tail(3)"
   ]
  },
  {
   "cell_type": "code",
   "execution_count": 6,
   "id": "8ff5830e-baf3-4ebd-b2b4-815a8cd626f8",
   "metadata": {},
   "outputs": [
    {
     "data": {
      "text/plain": [
       "(8405898, 11)"
      ]
     },
     "execution_count": 6,
     "metadata": {},
     "output_type": "execute_result"
    }
   ],
   "source": [
    "train_logs.shape"
   ]
  },
  {
   "cell_type": "code",
   "execution_count": 7,
   "id": "0a047c77-4feb-4b7b-9c57-fc10fdec57ae",
   "metadata": {},
   "outputs": [
    {
     "data": {
      "text/plain": [
       "count     8405898\n",
       "unique       4111\n",
       "top             q\n",
       "freq      6128208\n",
       "Name: text_change, dtype: object"
      ]
     },
     "execution_count": 7,
     "metadata": {},
     "output_type": "execute_result"
    }
   ],
   "source": [
    "train_logs.text_change.describe()"
   ]
  },
  {
   "cell_type": "code",
   "execution_count": 8,
   "id": "9ffa9442-9035-4e75-be7a-e29d284d52fb",
   "metadata": {},
   "outputs": [],
   "source": [
    "score_60 = scores[scores == 6.0].index.values\n",
    "score_05 = scores[scores == 0.5].index.values\n"
   ]
  },
  {
   "cell_type": "code",
   "execution_count": 9,
   "id": "3f824f6b-5f41-4407-8dc8-160adf495417",
   "metadata": {},
   "outputs": [
    {
     "data": {
      "text/plain": [
       "array(['NoChange', 'q', ' ', '.', ',', ' qqq qqqqq  =>  ',\n",
       "       'qqqqq qq => q', 'qqqq  => q', '\\n', \"'\", ';', 'qqqqqqq ', 'qq',\n",
       "       'qqqqqqq qqqqqq  => q', 'qq qqqqqqqq qqqqq => q', 'qqqqq  => q',\n",
       "       'qqqqqqqqq  => q', '-', '?', '\"', '\\n ', 'qqqqqq => q',\n",
       "       'qqqqqqq qqq qqqq qqqq qqqq qq qqqqqqqq qqqqqqq  => q',\n",
       "       'qqqqqqq  => q', 'qqqqq qqq qqqq qq '], dtype=object)"
      ]
     },
     "execution_count": 9,
     "metadata": {},
     "output_type": "execute_result"
    }
   ],
   "source": [
    "train_logs.text_change.unique()[:25]"
   ]
  },
  {
   "cell_type": "code",
   "execution_count": 10,
   "id": "16755dd6-2cb2-4176-b118-3d678c8bd14e",
   "metadata": {},
   "outputs": [
    {
     "data": {
      "text/plain": [
       "(4111,)"
      ]
     },
     "execution_count": 10,
     "metadata": {},
     "output_type": "execute_result"
    }
   ],
   "source": [
    "train_logs.text_change.unique().shape"
   ]
  },
  {
   "cell_type": "code",
   "execution_count": 11,
   "id": "b5da7b4c-6dcc-40ca-a51e-fe1bcde58260",
   "metadata": {},
   "outputs": [
    {
     "data": {
      "text/html": [
       "<div>\n",
       "<style scoped>\n",
       "    .dataframe tbody tr th:only-of-type {\n",
       "        vertical-align: middle;\n",
       "    }\n",
       "\n",
       "    .dataframe tbody tr th {\n",
       "        vertical-align: top;\n",
       "    }\n",
       "\n",
       "    .dataframe thead th {\n",
       "        text-align: right;\n",
       "    }\n",
       "</style>\n",
       "<table border=\"1\" class=\"dataframe\">\n",
       "  <thead>\n",
       "    <tr style=\"text-align: right;\">\n",
       "      <th></th>\n",
       "      <th>tc_1</th>\n",
       "      <th>tc_2</th>\n",
       "      <th>tc_3</th>\n",
       "      <th>tc_4</th>\n",
       "      <th>tc_5</th>\n",
       "      <th>tc_6</th>\n",
       "      <th>tc_7</th>\n",
       "    </tr>\n",
       "    <tr>\n",
       "      <th>id</th>\n",
       "      <th></th>\n",
       "      <th></th>\n",
       "      <th></th>\n",
       "      <th></th>\n",
       "      <th></th>\n",
       "      <th></th>\n",
       "      <th></th>\n",
       "    </tr>\n",
       "  </thead>\n",
       "  <tbody>\n",
       "    <tr>\n",
       "      <th>001519c8</th>\n",
       "      <td>0</td>\n",
       "      <td>1</td>\n",
       "      <td>0</td>\n",
       "      <td>0</td>\n",
       "      <td>0</td>\n",
       "      <td>6.967909</td>\n",
       "      <td>-0.879072</td>\n",
       "    </tr>\n",
       "    <tr>\n",
       "      <th>0022f953</th>\n",
       "      <td>1</td>\n",
       "      <td>1</td>\n",
       "      <td>0</td>\n",
       "      <td>1</td>\n",
       "      <td>1</td>\n",
       "      <td>6.854355</td>\n",
       "      <td>-0.951528</td>\n",
       "    </tr>\n",
       "    <tr>\n",
       "      <th>0042269b</th>\n",
       "      <td>0</td>\n",
       "      <td>1</td>\n",
       "      <td>0</td>\n",
       "      <td>1</td>\n",
       "      <td>1</td>\n",
       "      <td>7.488294</td>\n",
       "      <td>-0.839433</td>\n",
       "    </tr>\n",
       "  </tbody>\n",
       "</table>\n",
       "</div>"
      ],
      "text/plain": [
       "          tc_1  tc_2  tc_3  tc_4  tc_5      tc_6      tc_7\n",
       "id                                                        \n",
       "001519c8     0     1     0     0     0  6.967909 -0.879072\n",
       "0022f953     1     1     0     1     1  6.854355 -0.951528\n",
       "0042269b     0     1     0     1     1  7.488294 -0.839433"
      ]
     },
     "execution_count": 11,
     "metadata": {},
     "output_type": "execute_result"
    }
   ],
   "source": [
    "# eda text_change\n",
    "# Based on the above, discriminate if the changes has \"?\" and \"=>\"\n",
    "def hasChar(x, character):\n",
    "    out = 0 \n",
    "    for strings in x:\n",
    "        if character in strings:\n",
    "            out = 1 \n",
    "            break\n",
    "    return out\n",
    "def qCounter(x):\n",
    "    h = \" \".join(x)\n",
    "    return np.log(len(re.findall(r\" q \", h))+1)\n",
    "\n",
    "def averageQ(x):\n",
    "    h = \" \".join(x)\n",
    "    return np.log((len(re.findall(r\" q \", h))+1)/(len(x) +1))\n",
    "#test:\n",
    "# statement = \"The quick Brown Fox ?\"\n",
    "# print(hasChar(statement, \"?\"))\n",
    "# v1 = 'qqqqqqq qqq qqqq qqqq qqqq qq qqqqqqqq qqqqqqq  => q'\n",
    "# print(hasChar(v1, \"=>\"))\n",
    "\n",
    "# del statement, v1\n",
    "        \n",
    "#execute now:\n",
    "tc = train_logs.groupby(['id'])['text_change'].aggregate([\n",
    "    (\"tc_1\", lambda x: hasChar(x,character = \"?\")), \n",
    "    (\"tc_2\", lambda x: hasChar(x,character = \"=>\")), \n",
    "    (\"tc_3\", lambda x: hasChar(x,character = \"(\")), \n",
    "    (\"tc_4\", lambda x: hasChar(x,character = \"\\\"\")), \n",
    "    (\"tc_5\", lambda x: hasChar(x,character = \"-\")), \n",
    "    (\"tc_6\", lambda x: qCounter(x)), \n",
    "    (\"tc_7\", lambda x: averageQ(x))]) \n",
    "\n",
    "tc.head(3)"
   ]
  },
  {
   "cell_type": "code",
   "execution_count": 12,
   "id": "9ea7a6fb-c3f1-4bbb-9330-018e717b47f6",
   "metadata": {},
   "outputs": [
    {
     "name": "stdout",
     "output_type": "stream",
     "text": [
      "test results:\n",
      "pass\n",
      "pass\n",
      "pass\n",
      "pass\n",
      "pass\n",
      "pass\n"
     ]
    }
   ],
   "source": [
    "# EDA 2 for text change . Below is not implemented.\n",
    "'''\n",
    "Check the distribution of number of q's such as how many 2 qs, 3 qs a, 4 ... 8 qs being changed. Get the average\n",
    "for each type of score and estimate the distribution. Compare this hypothesized distribution to each of the\n",
    "participants and predict their score. \n",
    "'''\n",
    "# check text changes per participant:\n",
    "\n",
    "def text_change_distribution(v:str, max_word_length = 9):\n",
    "    distribution_container = []\n",
    "    start_flag = 1\n",
    "    word_count = 0\n",
    "    size = 0\n",
    "    for i in range(1,max_word_length + 2):\n",
    "        s = \"q{%s} \" % i\n",
    "        f = re.findall(s, v)\n",
    "        if(start_flag == 1):\n",
    "            word_count = len(f)\n",
    "            start_flag = 0\n",
    "        else:\n",
    "            size = word_count - len(f)\n",
    "            distribution_container.append(size)\n",
    "            word_count = len(f)\n",
    "            \n",
    "    return distribution_container\n",
    "# Test if true:\n",
    "v1 = 'qqqqqqq qqq qqqq qqqq qqqq qq qqqqqqqq qqqqqqq  => q'\n",
    "v2 = 'qq qqqqqqqq qqqqqqq qq => q'\n",
    "v3 = 'qq qq => q'\n",
    "v4 = 'q qq => q'\n",
    "v5 = 'q'\n",
    "v6 = 'NoChange'\n",
    "def test_func(b:bool):\n",
    "    if(b == True):\n",
    "        print(\"pass\")\n",
    "    else:\n",
    "        print(\"fail\")\n",
    "# simple unit test for function above. Should return to True on all\n",
    "print(\"test results:\")\n",
    "test_func(np.array_equal(text_change_distribution(v1), np.array([0, 1, 1, 3, 0, 0, 2, 1, 0])))\n",
    "test_func(np.array_equal(text_change_distribution(v2), np.array([0, 2, 0, 0, 0, 0, 1, 1, 0])))\n",
    "test_func(np.array_equal(text_change_distribution(v3), np.array([0, 2, 0, 0, 0, 0, 0, 0, 0])))\n",
    "test_func(np.array_equal(text_change_distribution(v4), np.array([1, 1, 0, 0, 0, 0, 0, 0, 0])))\n",
    "test_func(np.array_equal(text_change_distribution(v5), np.array([0, 0, 0, 0, 0, 0, 0, 0, 0])))\n",
    "test_func(np.array_equal(text_change_distribution(v6), np.array([0, 0, 0, 0, 0, 0, 0, 0, 0])))\n",
    "\n",
    "\n",
    "del v1, v2, v3, v4, v5, v6\n",
    "# del text_change_distribution, test_func\n",
    "# The code above is for reference only"
   ]
  },
  {
   "cell_type": "code",
   "execution_count": 13,
   "id": "bc3c01fa-27ea-4111-8f55-b34071955c64",
   "metadata": {},
   "outputs": [
    {
     "data": {
      "text/html": [
       "<div>\n",
       "<style scoped>\n",
       "    .dataframe tbody tr th:only-of-type {\n",
       "        vertical-align: middle;\n",
       "    }\n",
       "\n",
       "    .dataframe tbody tr th {\n",
       "        vertical-align: top;\n",
       "    }\n",
       "\n",
       "    .dataframe thead th {\n",
       "        text-align: right;\n",
       "    }\n",
       "</style>\n",
       "<table border=\"1\" class=\"dataframe\">\n",
       "  <thead>\n",
       "    <tr style=\"text-align: right;\">\n",
       "      <th></th>\n",
       "      <th>tc_1</th>\n",
       "      <th>tc_2</th>\n",
       "      <th>tc_3</th>\n",
       "      <th>tc_4</th>\n",
       "      <th>tc_5</th>\n",
       "      <th>tc_6</th>\n",
       "      <th>tc_7</th>\n",
       "      <th>score</th>\n",
       "    </tr>\n",
       "  </thead>\n",
       "  <tbody>\n",
       "    <tr>\n",
       "      <th>tc_1</th>\n",
       "      <td>1.000000</td>\n",
       "      <td>0.114040</td>\n",
       "      <td>0.127081</td>\n",
       "      <td>0.227015</td>\n",
       "      <td>0.192336</td>\n",
       "      <td>0.294937</td>\n",
       "      <td>0.020982</td>\n",
       "      <td>0.284010</td>\n",
       "    </tr>\n",
       "    <tr>\n",
       "      <th>tc_2</th>\n",
       "      <td>0.114040</td>\n",
       "      <td>1.000000</td>\n",
       "      <td>0.085419</td>\n",
       "      <td>0.128934</td>\n",
       "      <td>0.217719</td>\n",
       "      <td>0.266352</td>\n",
       "      <td>-0.022849</td>\n",
       "      <td>0.249572</td>\n",
       "    </tr>\n",
       "    <tr>\n",
       "      <th>tc_3</th>\n",
       "      <td>0.127081</td>\n",
       "      <td>0.085419</td>\n",
       "      <td>1.000000</td>\n",
       "      <td>0.238456</td>\n",
       "      <td>0.243662</td>\n",
       "      <td>0.291353</td>\n",
       "      <td>0.016473</td>\n",
       "      <td>0.254369</td>\n",
       "    </tr>\n",
       "    <tr>\n",
       "      <th>tc_4</th>\n",
       "      <td>0.227015</td>\n",
       "      <td>0.128934</td>\n",
       "      <td>0.238456</td>\n",
       "      <td>1.000000</td>\n",
       "      <td>0.267089</td>\n",
       "      <td>0.278904</td>\n",
       "      <td>-0.000794</td>\n",
       "      <td>0.270913</td>\n",
       "    </tr>\n",
       "    <tr>\n",
       "      <th>tc_5</th>\n",
       "      <td>0.192336</td>\n",
       "      <td>0.217719</td>\n",
       "      <td>0.243662</td>\n",
       "      <td>0.267089</td>\n",
       "      <td>1.000000</td>\n",
       "      <td>0.398322</td>\n",
       "      <td>0.026392</td>\n",
       "      <td>0.397381</td>\n",
       "    </tr>\n",
       "    <tr>\n",
       "      <th>tc_6</th>\n",
       "      <td>0.294937</td>\n",
       "      <td>0.266352</td>\n",
       "      <td>0.291353</td>\n",
       "      <td>0.278904</td>\n",
       "      <td>0.398322</td>\n",
       "      <td>1.000000</td>\n",
       "      <td>0.142094</td>\n",
       "      <td>0.678699</td>\n",
       "    </tr>\n",
       "    <tr>\n",
       "      <th>tc_7</th>\n",
       "      <td>0.020982</td>\n",
       "      <td>-0.022849</td>\n",
       "      <td>0.016473</td>\n",
       "      <td>-0.000794</td>\n",
       "      <td>0.026392</td>\n",
       "      <td>0.142094</td>\n",
       "      <td>1.000000</td>\n",
       "      <td>0.101840</td>\n",
       "    </tr>\n",
       "    <tr>\n",
       "      <th>score</th>\n",
       "      <td>0.284010</td>\n",
       "      <td>0.249572</td>\n",
       "      <td>0.254369</td>\n",
       "      <td>0.270913</td>\n",
       "      <td>0.397381</td>\n",
       "      <td>0.678699</td>\n",
       "      <td>0.101840</td>\n",
       "      <td>1.000000</td>\n",
       "    </tr>\n",
       "  </tbody>\n",
       "</table>\n",
       "</div>"
      ],
      "text/plain": [
       "           tc_1      tc_2      tc_3      tc_4      tc_5      tc_6      tc_7  \\\n",
       "tc_1   1.000000  0.114040  0.127081  0.227015  0.192336  0.294937  0.020982   \n",
       "tc_2   0.114040  1.000000  0.085419  0.128934  0.217719  0.266352 -0.022849   \n",
       "tc_3   0.127081  0.085419  1.000000  0.238456  0.243662  0.291353  0.016473   \n",
       "tc_4   0.227015  0.128934  0.238456  1.000000  0.267089  0.278904 -0.000794   \n",
       "tc_5   0.192336  0.217719  0.243662  0.267089  1.000000  0.398322  0.026392   \n",
       "tc_6   0.294937  0.266352  0.291353  0.278904  0.398322  1.000000  0.142094   \n",
       "tc_7   0.020982 -0.022849  0.016473 -0.000794  0.026392  0.142094  1.000000   \n",
       "score  0.284010  0.249572  0.254369  0.270913  0.397381  0.678699  0.101840   \n",
       "\n",
       "          score  \n",
       "tc_1   0.284010  \n",
       "tc_2   0.249572  \n",
       "tc_3   0.254369  \n",
       "tc_4   0.270913  \n",
       "tc_5   0.397381  \n",
       "tc_6   0.678699  \n",
       "tc_7   0.101840  \n",
       "score  1.000000  "
      ]
     },
     "execution_count": 13,
     "metadata": {},
     "output_type": "execute_result"
    }
   ],
   "source": [
    "pd.merge(tc, scores, left_index = True, right_index = True).corr()"
   ]
  },
  {
   "cell_type": "code",
   "execution_count": 14,
   "id": "cb94ed84-3221-469a-af2f-67e8904e266c",
   "metadata": {},
   "outputs": [],
   "source": [
    "# New eda: Using Text Vectorizer\n",
    "test_participant = train_logs_indexed.loc['001519c8'].copy()\n",
    "test_participant2 = train_logs_indexed.loc['fff05981'].copy()"
   ]
  },
  {
   "cell_type": "code",
   "execution_count": 15,
   "id": "c197fd91-2ee0-42a7-8659-b11eeb96462e",
   "metadata": {},
   "outputs": [],
   "source": [
    "h1 = \"\".join(test_participant.text_change)\n",
    "h2 = \"\".join(test_participant2.text_change)"
   ]
  },
  {
   "cell_type": "code",
   "execution_count": 16,
   "id": "596f2d15-d30b-4bb1-bc3e-e80f0ca9f83a",
   "metadata": {},
   "outputs": [
    {
     "name": "stdout",
     "output_type": "stream",
     "text": [
      "Q in h1: 1\n",
      "Q in h2: 38\n"
     ]
    }
   ],
   "source": [
    "print(\"Q in h1: {}\".format(len(re.findall(r\" q \", h1))))\n",
    "print(\"Q in h2: {}\".format(len(re.findall(r\" q \", h2))))"
   ]
  },
  {
   "cell_type": "code",
   "execution_count": 17,
   "id": "2644220d-2116-45a5-a8a0-2c091faa2b31",
   "metadata": {},
   "outputs": [
    {
     "name": "stdout",
     "output_type": "stream",
     "text": [
      "65\n"
     ]
    }
   ],
   "source": [
    "print(len(re.findall(\" q{2} \", h1)))"
   ]
  },
  {
   "cell_type": "code",
   "execution_count": 18,
   "id": "440c7a2f-6703-46aa-afd4-89c0a7cd381e",
   "metadata": {},
   "outputs": [],
   "source": [
    "h3 = 'qq qqqq qqqqq qq qqqq qq qqq qqqqqq. qqqq qqq qqqq qqqqqqqq qq qqqqqqqqqq qqqqqqqqq qq qq qqq qqqqqqq qqqqqqqqqq qq qqq qqqqqqqqqq.'"
   ]
  },
  {
   "cell_type": "code",
   "execution_count": 19,
   "id": "95394770-17a8-48e7-b452-d56376ade5b6",
   "metadata": {},
   "outputs": [
    {
     "data": {
      "text/plain": [
       "[3, 79, 53, 48, 41, 29, 24, 16, 20, 10, 6, 3]"
      ]
     },
     "execution_count": 19,
     "metadata": {},
     "output_type": "execute_result"
    }
   ],
   "source": [
    "text_change_distribution(h1, 12)"
   ]
  },
  {
   "cell_type": "code",
   "execution_count": 20,
   "id": "80bda970-0278-41fa-9f16-765596ce85dc",
   "metadata": {},
   "outputs": [
    {
     "data": {
      "text/plain": [
       "[49, 101, 71, 65, 42, 50, 38, 29, 12, 18, 20, 8]"
      ]
     },
     "execution_count": 20,
     "metadata": {},
     "output_type": "execute_result"
    }
   ],
   "source": [
    "text_change_distribution(h2, 12)"
   ]
  },
  {
   "cell_type": "code",
   "execution_count": 21,
   "id": "b18b233e-096e-40da-8bba-fca1a08e6cc5",
   "metadata": {},
   "outputs": [],
   "source": [
    "sample = train_logs.groupby('id')['text_change'].aggregate(lambda x: text_change_distribution(\"\".join(x), 12))\n"
   ]
  },
  {
   "cell_type": "code",
   "execution_count": 22,
   "id": "ca3498c6-6719-45a2-a270-1c57acc67aca",
   "metadata": {},
   "outputs": [
    {
     "data": {
      "text/plain": [
       "id\n",
       "001519c8        [3, 79, 53, 48, 41, 29, 24, 16, 20, 10, 6, 3]\n",
       "0022f953          [13, 70, 95, 62, 38, 33, 10, 7, 3, 5, 4, 6]\n",
       "0042269b    [11, 106, 117, 106, 72, 48, 52, 31, 29, 12, 20...\n",
       "0059420b          [13, 51, 36, 49, 26, 21, 25, 2, 3, 2, 2, 2]\n",
       "0075873a       [21, 61, 69, 63, 41, 24, 14, 17, 11, 8, 10, 2]\n",
       "Name: text_change, dtype: object"
      ]
     },
     "execution_count": 22,
     "metadata": {},
     "output_type": "execute_result"
    }
   ],
   "source": [
    "sample.head()"
   ]
  },
  {
   "cell_type": "code",
   "execution_count": 23,
   "id": "e68d93fa-ecf2-4423-a533-9422b710143e",
   "metadata": {},
   "outputs": [
    {
     "name": "stdout",
     "output_type": "stream",
     "text": [
      "power 0.1 = 6.99247514102524\n",
      "power 0.2 = 7.057635126811955\n",
      "power 0.30000000000000004 = 7.115512928974851\n",
      "power 0.4 = 7.166527371376991\n",
      "power 0.5 = 7.211091948926925\n",
      "power 0.6 = 7.249609850308636\n",
      "power 0.7000000000000001 = 7.282470454157899\n",
      "power 0.8 = 7.310046976582271\n",
      "power 0.9 = 7.332695005376274\n",
      "power 1.0 = 7.350751708585399\n",
      "power 1.1 = 7.364535549844057\n",
      "power 1.2000000000000002 = 7.37434637970191\n",
      "power 1.3000000000000003 = 7.380465801564029\n",
      "power 1.4000000000000001 = 7.3831577339625\n",
      "power 1.5000000000000002 = 7.382669108818323\n",
      "power 1.6 = 7.379230659229756\n",
      "power 1.7000000000000002 = 7.3730577610602515\n",
      "power 1.8000000000000003 = 7.364351300938452\n",
      "power 1.9000000000000001 = 7.353298549797753\n",
      "power 2.0 = 7.340074026207525\n",
      "power 2.1 = 7.3248403378028675\n",
      "power 2.2 = 7.307748992342763\n",
      "power 2.3000000000000003 = 7.288941172492761\n",
      "power 2.4000000000000004 = 7.268548470470457\n",
      "power 2.5000000000000004 = 7.246693580309\n",
      "power 2.6 = 7.223490946764634\n",
      "power 2.7 = 7.199047370881063\n",
      "power 2.8000000000000003 = 7.173462572975522\n",
      "power 2.9000000000000004 = 7.146829714372579\n",
      "power 3.0000000000000004 = 7.119235879614413\n",
      "power 3.1 = 7.090762521153327\n",
      "power 3.2 = 7.0614858687040885\n",
      "power 3.3000000000000003 = 7.031477305526638\n",
      "power 3.4000000000000004 = 7.0008037139362305\n",
      "power 3.5000000000000004 = 6.969527792316754\n",
      "power 3.6 = 6.937708345854328\n",
      "power 3.7 = 6.905400553122362\n",
      "power 3.8000000000000003 = 6.87265621054499\n",
      "power 3.9000000000000004 = 6.839523956649066\n",
      "power 4.0 = 6.80604947789148\n",
      "power 4.1 = 6.772275697721801\n",
      "power 4.2 = 6.738242950414657\n",
      "power 4.3 = 6.703989141082114\n",
      "power 4.3999999999999995 = 6.66954989315788\n"
     ]
    }
   ],
   "source": [
    "z1 = np.log(pd.DataFrame(np.stack(sample, axis = 0), index = sample.index)+1)\n",
    "\n",
    "for i in np.arange(start = 0.1, stop = 4.5, step = 0.1):\n",
    "    zout = pd.merge(z1, scores**i, left_index = True, right_index = True).corr()\n",
    "    print(\"power {} = {}\".format(i,zout['score'].sum()))"
   ]
  },
  {
   "cell_type": "code",
   "execution_count": 24,
   "id": "4e1eb975-1429-42bf-be99-277af082c079",
   "metadata": {},
   "outputs": [],
   "source": [
    "# Eda clas Part 2\n",
    "class TextChangeTransformer2(BaseEstimator, TransformerMixin):\n",
    "    def __init__(self, max_word_length, log_transform = True):\n",
    "        self.max_word_length = max_word_length\n",
    "        self.log_transform = log_transform\n",
    "\n",
    "    def fit(self, X, y = None):\n",
    "        return self\n",
    "        \n",
    "    def text_change_distribution(self, v:str):\n",
    "        distribution_container = []\n",
    "        start_flag = 1\n",
    "        word_count = 0\n",
    "        size = 0\n",
    "        for i in range(1,self.max_word_length + 2):\n",
    "            s = \"q{%s} \" % i\n",
    "            f = re.findall(s, v)\n",
    "            if(start_flag == 1):\n",
    "                word_count = len(f)\n",
    "                start_flag = 0\n",
    "            else:\n",
    "                size = word_count - len(f)\n",
    "                distribution_container.append(size)\n",
    "                word_count = len(f)\n",
    "                \n",
    "        return distribution_container\n",
    "        \n",
    "    def transform(self, X):\n",
    "        \n",
    "        X = X.groupby('id')['text_change'].aggregate(lambda r: self.text_change_distribution(\"\".join(r)))\n",
    "        X = pd.DataFrame(np.stack(X, axis = 0), index = X.index)\n",
    "        if self.log_transform:\n",
    "            X = np.log(X + 1)\n",
    "        return X.values\n",
    "        \n"
   ]
  },
  {
   "cell_type": "code",
   "execution_count": 25,
   "id": "c500f978-ed10-4299-a6d8-8e30ba97b24f",
   "metadata": {},
   "outputs": [],
   "source": [
    "'''\n",
    "To check the number of qs for each participant and comparing this to the q distributions generated\n",
    "'''\n",
    "class TextChangeTransformer3(BaseEstimator, TransformerMixin):\n",
    "    def __init__(self, scores, max_wl = 12):\n",
    "        self.max_wl = max_wl\n",
    "        self.scores = scores\n",
    "\n",
    "    def fit(self, X, y = None):\n",
    "        #Get the distribution\n",
    "        X = X.groupby('id')['text_change'].aggregate(lambda r: self.text_change_distribution(\"\".join(r)))\n",
    "        self.column_names = []\n",
    "        for n in range(1, self.max_wl+1):\n",
    "            self.column_names.append('q_len={}'.format(n))\n",
    "        X2 = pd.DataFrame(np.stack(X, axis = 0), index = X.index, columns = self.column_names)\n",
    "        \n",
    "        X2 = pd.merge(X2,scores, left_index = True, right_index = True)\n",
    "        self.X2 = X2\n",
    "        # The pop standard dev::\n",
    "        self.prop_std = self.X2.groupby(\"score\").std(ddof = 0)\n",
    "        # The mean\n",
    "        self.expected_count = self.X2.groupby(\"score\").mean()\n",
    "        \n",
    "\n",
    "        return self\n",
    "        \n",
    "        \n",
    "    def text_change_distribution(self, v:str):\n",
    "        distribution_container = []\n",
    "        start_flag = 1\n",
    "        word_count = 0\n",
    "        size = 0\n",
    "        for i in range(1,self.max_wl + 2):\n",
    "            s = \"q{%s} \" % i\n",
    "            f = re.findall(s, v)\n",
    "            if(start_flag == 1):\n",
    "                word_count = len(f)\n",
    "                start_flag = 0\n",
    "            else:\n",
    "                size = word_count - len(f)\n",
    "                distribution_container.append(size)\n",
    "                word_count = len(f)\n",
    "                \n",
    "        return distribution_container \n",
    "\n",
    "\n",
    "    def transform(self, X):\n",
    "        print(\"Started TextChangeTransformer 3 Feature Engineering\")\n",
    "        grouped_X = X.groupby('id')['text_change'].aggregate(lambda r: self.text_change_distribution(\"\".join(r)))\n",
    "        grouped_X = pd.DataFrame(np.stack(grouped_X, axis = 0), index = grouped_X.index, columns = self.column_names)\n",
    "\n",
    "        predictions = np.zeros(shape = grouped_X.shape)\n",
    "\n",
    "        # Iterate in columns:\n",
    "        for j in range(self.max_wl):\n",
    "            mean = self.expected_count.iloc[:,j].copy()\n",
    "            sd = self.prop_std.iloc[:,j].copy()\n",
    "            \n",
    "            for i in range(grouped_X.shape[0]):\n",
    "                x_value = grouped_X.iloc[i,j]\n",
    "                z_scores = (x_value - mean)/sd\n",
    "                z_scores = np.abs(z_scores)\n",
    "                \n",
    "                min_values = np.partition(z_scores, 1)[0:3] \n",
    "                idx_0 = np.where(z_scores == min_values[0])[0][0]\n",
    "                idx_1 = np.where(z_scores == min_values[1])[0][0]\n",
    "                idx_2 = np.where(z_scores == min_values[2])[0][0]\n",
    "                # mean or sd index is ok:\n",
    "                predictions[i,j] = np.mean([sd.index[idx_0],sd.index[idx_1],sd.index[idx_2]]) \n",
    "\n",
    "        output = pd.DataFrame(predictions, index = grouped_X.index, columns = self.column_names)\n",
    "        output['tc_ave'] = np.apply_along_axis(func1d = np.mean, axis = 1, arr = output)\n",
    "\n",
    "        print(\"Done.. tc_3\")\n",
    "        return output.values \n",
    "        "
   ]
  },
  {
   "cell_type": "code",
   "execution_count": 26,
   "id": "ba238808-8306-4745-b809-dda5a2b2e703",
   "metadata": {
    "scrolled": true
   },
   "outputs": [
    {
     "name": "stdout",
     "output_type": "stream",
     "text": [
      "Started TextChangeTransformer 3 Feature Engineering\n",
      "Done.. tc_3\n"
     ]
    }
   ],
   "source": [
    "tm = TextChangeTransformer3(scores, 15)\n",
    "tm.fit(train_logs)\n",
    "output = tm.transform(train_logs)"
   ]
  },
  {
   "cell_type": "code",
   "execution_count": 27,
   "id": "96cf031a-0001-42d0-9e8d-19966689b1fb",
   "metadata": {},
   "outputs": [
    {
     "data": {
      "text/plain": [
       "array([[1.        , 2.66666667, 1.5       , ..., 1.        , 4.33333333,\n",
       "        2.51111111],\n",
       "       [1.5       , 2.33333333, 3.33333333, ..., 1.        , 1.        ,\n",
       "        1.87777778],\n",
       "       [1.        , 3.33333333, 3.66666667, ..., 1.5       , 3.66666667,\n",
       "        3.54444444],\n",
       "       ...,\n",
       "       [1.        , 1.        , 1.5       , ..., 1.5       , 2.16666667,\n",
       "        1.42222222],\n",
       "       [1.66666667, 3.        , 3.        , ..., 4.33333333, 2.16666667,\n",
       "        2.94444444],\n",
       "       [4.33333333, 3.33333333, 2.66666667, ..., 4.33333333, 1.        ,\n",
       "        3.42222222]])"
      ]
     },
     "execution_count": 27,
     "metadata": {},
     "output_type": "execute_result"
    }
   ],
   "source": [
    "output"
   ]
  },
  {
   "cell_type": "code",
   "execution_count": 28,
   "id": "961358ae-f5e6-463b-afff-f0445b95c697",
   "metadata": {},
   "outputs": [
    {
     "data": {
      "text/plain": [
       "0.44522455787921067"
      ]
     },
     "execution_count": 28,
     "metadata": {},
     "output_type": "execute_result"
    }
   ],
   "source": [
    "LinearRegression().fit(output, scores).score(output,scores)"
   ]
  },
  {
   "cell_type": "code",
   "execution_count": 29,
   "id": "5f0a7911-9276-47bf-a8b2-31df70895986",
   "metadata": {},
   "outputs": [],
   "source": [
    "# Eda TextChange 4\n",
    "class TextChangeVectorizer(BaseEstimator, TransformerMixin):\n",
    "    def __init__(self):\n",
    "        self.vectorizer = CountVectorizer()\n",
    "\n",
    "    def fit(self, X, y = None):\n",
    "        feature = X.groupby('id')['text_change'].agg(lambda z: \" \".join(z))\n",
    "        self.vectorizer.fit(feature)\n",
    "        return self\n",
    "\n",
    "\n",
    "    def transform(self, X):\n",
    "        feature = X.groupby('id')['text_change'].agg(lambda z: \" \".join(z))\n",
    "        output = self.vectorizer.transform(feature)\n",
    "        return output \n",
    "        "
   ]
  },
  {
   "cell_type": "code",
   "execution_count": 30,
   "id": "ddaba152-18ab-454b-9795-f28e363146c2",
   "metadata": {},
   "outputs": [
    {
     "data": {
      "text/plain": [
       "<2471x70 sparse matrix of type '<class 'numpy.int64'>'\n",
       "\twith 11279 stored elements in Compressed Sparse Row format>"
      ]
     },
     "execution_count": 30,
     "metadata": {},
     "output_type": "execute_result"
    }
   ],
   "source": [
    "v = TextChangeVectorizer()\n",
    "v.fit(train_logs)\n",
    "output = v.transform(train_logs)\n",
    "output"
   ]
  },
  {
   "cell_type": "code",
   "execution_count": null,
   "id": "ac91a4dc-ac69-4dc8-b8f8-bbd06777c98b",
   "metadata": {},
   "outputs": [],
   "source": []
  }
 ],
 "metadata": {
  "kernelspec": {
   "display_name": "Python 3 (ipykernel)",
   "language": "python",
   "name": "python3"
  },
  "language_info": {
   "codemirror_mode": {
    "name": "ipython",
    "version": 3
   },
   "file_extension": ".py",
   "mimetype": "text/x-python",
   "name": "python",
   "nbconvert_exporter": "python",
   "pygments_lexer": "ipython3",
   "version": "3.11.7"
  }
 },
 "nbformat": 4,
 "nbformat_minor": 5
}
