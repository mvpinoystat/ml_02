{
 "cells": [
  {
   "cell_type": "markdown",
   "id": "9b00af36-1c17-4fcb-997e-4856b597a14b",
   "metadata": {},
   "source": [
    "# **Modeling 2**\n",
    "This will use the concept of stacking ensemble to improve model rmse"
   ]
  },
  {
   "cell_type": "code",
   "execution_count": 1,
   "id": "d5800cd7-ec35-4d87-8cce-ac4e0dd27acf",
   "metadata": {},
   "outputs": [],
   "source": [
    "import numpy as np\n",
    "import pandas as pd\n",
    "import matplotlib.pyplot as plt\n",
    "import scipy.stats as st\n",
    "\n",
    "import re\n",
    "from sklearn.preprocessing import OneHotEncoder, PolynomialFeatures, StandardScaler, SplineTransformer\n",
    "from sklearn.pipeline import Pipeline, FeatureUnion\n",
    "from sklearn.base import BaseEstimator, TransformerMixin \n",
    "\n",
    "#metrics\n",
    "from sklearn.metrics import mean_squared_error\n",
    "#model selection\n",
    "from sklearn.model_selection import cross_val_score, GridSearchCV\n",
    "\n",
    "#load preprocessed dataset:\n",
    "import joblib\n",
    "#models\n",
    "from sklearn.ensemble import StackingRegressor\n",
    "from sklearn.svm import SVR\n",
    "from sklearn.ensemble import RandomForestRegressor, VotingRegressor, AdaBoostRegressor, BaggingRegressor\n",
    "from sklearn.tree import DecisionTreeRegressor\n",
    "import xgboost as xgb"
   ]
  },
  {
   "cell_type": "code",
   "execution_count": 2,
   "id": "913c1bf1-fa4f-4185-a5a7-5b1dab83b846",
   "metadata": {},
   "outputs": [
    {
     "data": {
      "text/plain": [
       "(2471, 80)"
      ]
     },
     "execution_count": 2,
     "metadata": {},
     "output_type": "execute_result"
    }
   ],
   "source": [
    "X = joblib.load(\"transformed_train.pkl\")\n",
    "X.shape"
   ]
  },
  {
   "cell_type": "code",
   "execution_count": 3,
   "id": "f3cdff29-7c1d-4625-818a-91b69791804e",
   "metadata": {},
   "outputs": [],
   "source": [
    "input_folder = \"kaggle/input/linking-writing-processes-to-writing-quality/\"\n",
    "train_scores = pd.read_csv(input_folder +\"train_scores.csv\", delimiter = \",\", header = 0)\n",
    "scores = pd.Series(data = train_scores['score'].values, index = train_scores['id'].values, name = 'score')"
   ]
  },
  {
   "cell_type": "code",
   "execution_count": 4,
   "id": "993956fe-c64b-4fdb-b858-809d0287df29",
   "metadata": {},
   "outputs": [],
   "source": [
    "Y = scores.values"
   ]
  },
  {
   "cell_type": "code",
   "execution_count": 5,
   "id": "d0b83d0b-d248-46e2-96eb-00f74b645fbd",
   "metadata": {},
   "outputs": [],
   "source": [
    "# display scores\n",
    "def display_scores(rmse_neg_score):\n",
    "    scores = np.sqrt(-rmse_neg_score)\n",
    "    print(\"score: {}\".format(scores))\n",
    "    print(\"Mean rmse: {}\".format(scores.mean()))\n",
    "    print(\"Sd rmse: {}\".format(scores.std(ddof = 1)))\n",
    "    "
   ]
  },
  {
   "cell_type": "code",
   "execution_count": 6,
   "id": "e4cbfb91-74ab-4ab5-98cd-56d04986dfce",
   "metadata": {},
   "outputs": [],
   "source": [
    "# Define the hyperparameter grid\n",
    "param_grid = {\n",
    "    'tree_method':[\"hist\"],\n",
    "    'device': ['cpu'],\n",
    "    'max_depth': [3, 5, 7],\n",
    "    'learning_rate': [0.1, 0.01, 0.001],\n",
    "    'subsample': [0.5, 0.7, 1],\n",
    "    'gamma': [0, .001, .01, 0.1, 1],\n",
    "}\n",
    "model = xgb.XGBRegressor()\n",
    "# model = BaggingRegressor(estimator = xgb.XGBRegressor(tree_method = \"hist\", device = 'cpu'),\n",
    "#                          random_state = 11, max_samples = .4, max_features = 0.6, n_estimators = 100)\n",
    "grid_search_model = GridSearchCV(model, param_grid, cv=5, scoring='neg_mean_squared_error',\n",
    "                                n_jobs = -1, verbose = 3)\n"
   ]
  },
  {
   "cell_type": "code",
   "execution_count": 7,
   "id": "120825ab-c495-4b8b-8886-4fc74b7e254c",
   "metadata": {},
   "outputs": [],
   "source": [
    "# grid_search_model.fit(X,Y)"
   ]
  },
  {
   "cell_type": "code",
   "execution_count": 8,
   "id": "bc3d15bc-54d5-4714-9139-1915be12bb8f",
   "metadata": {},
   "outputs": [],
   "source": [
    "# print(grid_search_model.best_params_)\n",
    "# predictions = grid_search_model.best_estimator_.predict(X)\n",
    "# rmse = np.sqrt(mean_squared_error(predictions, Y))\n",
    "# print(\"RMSE: {}\".format(rmse))"
   ]
  },
  {
   "cell_type": "code",
   "execution_count": 9,
   "id": "1aa30abf-2ece-46a1-9004-39e472647fa5",
   "metadata": {},
   "outputs": [],
   "source": [
    "# best cross validation parameters:\n",
    "# {'device': 'cpu', 'learning_rate': 0.1, 'max_depth': 3, 'subsample': 1, 'tree_method': 'hist'}\n",
    "# RMSE: 0.5573103243244937"
   ]
  },
  {
   "cell_type": "code",
   "execution_count": 10,
   "id": "f015bf49-a7b4-4465-8ef1-e7e9aec8938e",
   "metadata": {},
   "outputs": [],
   "source": [
    "# The below model provides an rmse of 0.6500 in the leaderboard: When executed here, rmse is 0.58\n",
    "# model = BaggingRegressor(estimator = xgb.XGBRegressor(tree_method = \"hist\", device = 'cpu', learning_rate = 0.1,\n",
    "#                                                      subsample = 1, max_depth = 3),random_state = 11, \n",
    "#                          max_samples = .4, max_features = 0.6, n_estimators = 50, bootstrap = False)"
   ]
  },
  {
   "cell_type": "code",
   "execution_count": 15,
   "id": "b17097f5-2d54-4429-a106-60266c10ed75",
   "metadata": {},
   "outputs": [],
   "source": [
    "model = BaggingRegressor(estimator = xgb.XGBRegressor(tree_method = \"hist\", device = 'cpu', learning_rate = 0.1,\n",
    "                                                     subsample = 1, max_depth = 3),random_state = 11, n_jobs = -1,\n",
    "                         max_samples = .4, max_features = 0.6, n_estimators = 50, bootstrap = False)"
   ]
  },
  {
   "cell_type": "code",
   "execution_count": 16,
   "id": "dcaa8732-ed6a-494e-be3a-c969fe5fec02",
   "metadata": {},
   "outputs": [
    {
     "name": "stdout",
     "output_type": "stream",
     "text": [
      "RMSE: 0.5979054943501494\n"
     ]
    }
   ],
   "source": [
    "model.fit(X,Y)\n",
    "predictions = model.predict(X)\n",
    "rmse = np.sqrt(mean_squared_error(predictions, Y))\n",
    "print(\"RMSE: {}\".format(rmse))"
   ]
  },
  {
   "cell_type": "code",
   "execution_count": 17,
   "id": "617b76a1-0ebf-4e4b-94a6-82909dd7d9c4",
   "metadata": {},
   "outputs": [],
   "source": [
    "# cv_result = pd.DataFrame(grid_search_model.cv_results_)\n",
    "# cv_result.sort_values(by = \"rank_test_score\").to_csv(\"xgboost_grid_csv.csv\",index = False)"
   ]
  },
  {
   "cell_type": "code",
   "execution_count": null,
   "id": "c9b1b721-5801-4da8-8455-2794e99827c9",
   "metadata": {},
   "outputs": [],
   "source": []
  }
 ],
 "metadata": {
  "kernelspec": {
   "display_name": "Python 3 (ipykernel)",
   "language": "python",
   "name": "python3"
  },
  "language_info": {
   "codemirror_mode": {
    "name": "ipython",
    "version": 3
   },
   "file_extension": ".py",
   "mimetype": "text/x-python",
   "name": "python",
   "nbconvert_exporter": "python",
   "pygments_lexer": "ipython3",
   "version": "3.11.6"
  }
 },
 "nbformat": 4,
 "nbformat_minor": 5
}
