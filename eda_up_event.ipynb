{
 "cells": [
  {
   "cell_type": "markdown",
   "id": "35423672-2e29-4ed0-baa7-46e4253b0772",
   "metadata": {},
   "source": [
    "# **EDA for up_event variable**"
   ]
  },
  {
   "cell_type": "code",
   "execution_count": 1,
   "id": "8f4c398f-e96b-4315-bed0-51a28628b2ef",
   "metadata": {},
   "outputs": [],
   "source": [
    "import numpy as np\n",
    "import pandas as pd\n",
    "import matplotlib.pyplot as plt\n",
    "import scipy.stats as st\n",
    "# feature_engineering\n",
    "import re\n",
    "\n",
    "# ploting\n",
    "import matplotlib.pyplot as plt\n",
    "# model initial:\n",
    "import statsmodels.api as sm\n",
    "\n",
    "#testing:\n",
    "import unittest"
   ]
  },
  {
   "cell_type": "code",
   "execution_count": 2,
   "id": "d5aeb2f4-964f-4b86-a173-67a2f2dfd523",
   "metadata": {},
   "outputs": [],
   "source": [
    "#Set import folder\n",
    "input_folder = \"kaggle/input/linking-writing-processes-to-writing-quality/\""
   ]
  },
  {
   "cell_type": "code",
   "execution_count": 3,
   "id": "fa04a126-e352-42a2-b6c8-e1dee66c0c99",
   "metadata": {},
   "outputs": [],
   "source": [
    "# Load train logs\n",
    "train_logs = pd.read_csv(input_folder + \"train_logs.csv\",delimiter = \",\",header = 0)\n",
    "# Set the id and event id as index:\n",
    "train_logs_indexed = train_logs.set_index(['id', 'event_id'])\n",
    "# Load train scores\n",
    "train_scores = pd.read_csv(input_folder +\"train_scores.csv\", delimiter = \",\", header = 0)\n",
    "scores = pd.Series(data = train_scores['score'].values, index = train_scores['id'].values, name = 'score')"
   ]
  },
  {
   "cell_type": "code",
   "execution_count": 4,
   "id": "483ad387-caf7-4afc-a3dd-5b77fabb31cf",
   "metadata": {},
   "outputs": [
    {
     "data": {
      "text/html": [
       "<div>\n",
       "<style scoped>\n",
       "    .dataframe tbody tr th:only-of-type {\n",
       "        vertical-align: middle;\n",
       "    }\n",
       "\n",
       "    .dataframe tbody tr th {\n",
       "        vertical-align: top;\n",
       "    }\n",
       "\n",
       "    .dataframe thead th {\n",
       "        text-align: right;\n",
       "    }\n",
       "</style>\n",
       "<table border=\"1\" class=\"dataframe\">\n",
       "  <thead>\n",
       "    <tr style=\"text-align: right;\">\n",
       "      <th></th>\n",
       "      <th>id</th>\n",
       "      <th>event_id</th>\n",
       "      <th>down_time</th>\n",
       "      <th>up_time</th>\n",
       "      <th>action_time</th>\n",
       "      <th>activity</th>\n",
       "      <th>down_event</th>\n",
       "      <th>up_event</th>\n",
       "      <th>text_change</th>\n",
       "      <th>cursor_position</th>\n",
       "      <th>word_count</th>\n",
       "    </tr>\n",
       "  </thead>\n",
       "  <tbody>\n",
       "    <tr>\n",
       "      <th>0</th>\n",
       "      <td>001519c8</td>\n",
       "      <td>1</td>\n",
       "      <td>4526</td>\n",
       "      <td>4557</td>\n",
       "      <td>31</td>\n",
       "      <td>Nonproduction</td>\n",
       "      <td>Leftclick</td>\n",
       "      <td>Leftclick</td>\n",
       "      <td>NoChange</td>\n",
       "      <td>0</td>\n",
       "      <td>0</td>\n",
       "    </tr>\n",
       "    <tr>\n",
       "      <th>1</th>\n",
       "      <td>001519c8</td>\n",
       "      <td>2</td>\n",
       "      <td>4558</td>\n",
       "      <td>4962</td>\n",
       "      <td>404</td>\n",
       "      <td>Nonproduction</td>\n",
       "      <td>Leftclick</td>\n",
       "      <td>Leftclick</td>\n",
       "      <td>NoChange</td>\n",
       "      <td>0</td>\n",
       "      <td>0</td>\n",
       "    </tr>\n",
       "    <tr>\n",
       "      <th>2</th>\n",
       "      <td>001519c8</td>\n",
       "      <td>3</td>\n",
       "      <td>106571</td>\n",
       "      <td>106571</td>\n",
       "      <td>0</td>\n",
       "      <td>Nonproduction</td>\n",
       "      <td>Shift</td>\n",
       "      <td>Shift</td>\n",
       "      <td>NoChange</td>\n",
       "      <td>0</td>\n",
       "      <td>0</td>\n",
       "    </tr>\n",
       "    <tr>\n",
       "      <th>3</th>\n",
       "      <td>001519c8</td>\n",
       "      <td>4</td>\n",
       "      <td>106686</td>\n",
       "      <td>106777</td>\n",
       "      <td>91</td>\n",
       "      <td>Input</td>\n",
       "      <td>q</td>\n",
       "      <td>q</td>\n",
       "      <td>q</td>\n",
       "      <td>1</td>\n",
       "      <td>1</td>\n",
       "    </tr>\n",
       "    <tr>\n",
       "      <th>4</th>\n",
       "      <td>001519c8</td>\n",
       "      <td>5</td>\n",
       "      <td>107196</td>\n",
       "      <td>107323</td>\n",
       "      <td>127</td>\n",
       "      <td>Input</td>\n",
       "      <td>q</td>\n",
       "      <td>q</td>\n",
       "      <td>q</td>\n",
       "      <td>2</td>\n",
       "      <td>1</td>\n",
       "    </tr>\n",
       "    <tr>\n",
       "      <th>5</th>\n",
       "      <td>001519c8</td>\n",
       "      <td>6</td>\n",
       "      <td>107296</td>\n",
       "      <td>107400</td>\n",
       "      <td>104</td>\n",
       "      <td>Input</td>\n",
       "      <td>q</td>\n",
       "      <td>q</td>\n",
       "      <td>q</td>\n",
       "      <td>3</td>\n",
       "      <td>1</td>\n",
       "    </tr>\n",
       "  </tbody>\n",
       "</table>\n",
       "</div>"
      ],
      "text/plain": [
       "         id  event_id  down_time  up_time  action_time       activity  \\\n",
       "0  001519c8         1       4526     4557           31  Nonproduction   \n",
       "1  001519c8         2       4558     4962          404  Nonproduction   \n",
       "2  001519c8         3     106571   106571            0  Nonproduction   \n",
       "3  001519c8         4     106686   106777           91          Input   \n",
       "4  001519c8         5     107196   107323          127          Input   \n",
       "5  001519c8         6     107296   107400          104          Input   \n",
       "\n",
       "  down_event   up_event text_change  cursor_position  word_count  \n",
       "0  Leftclick  Leftclick    NoChange                0           0  \n",
       "1  Leftclick  Leftclick    NoChange                0           0  \n",
       "2      Shift      Shift    NoChange                0           0  \n",
       "3          q          q           q                1           1  \n",
       "4          q          q           q                2           1  \n",
       "5          q          q           q                3           1  "
      ]
     },
     "execution_count": 4,
     "metadata": {},
     "output_type": "execute_result"
    }
   ],
   "source": [
    "train_logs.head(6)"
   ]
  },
  {
   "cell_type": "code",
   "execution_count": 5,
   "id": "6968771a-85d3-4dc9-b276-001d4fe0cbe9",
   "metadata": {},
   "outputs": [
    {
     "data": {
      "text/html": [
       "<div>\n",
       "<style scoped>\n",
       "    .dataframe tbody tr th:only-of-type {\n",
       "        vertical-align: middle;\n",
       "    }\n",
       "\n",
       "    .dataframe tbody tr th {\n",
       "        vertical-align: top;\n",
       "    }\n",
       "\n",
       "    .dataframe thead th {\n",
       "        text-align: right;\n",
       "    }\n",
       "</style>\n",
       "<table border=\"1\" class=\"dataframe\">\n",
       "  <thead>\n",
       "    <tr style=\"text-align: right;\">\n",
       "      <th></th>\n",
       "      <th>id</th>\n",
       "      <th>event_id</th>\n",
       "      <th>down_time</th>\n",
       "      <th>up_time</th>\n",
       "      <th>action_time</th>\n",
       "      <th>activity</th>\n",
       "      <th>down_event</th>\n",
       "      <th>up_event</th>\n",
       "      <th>text_change</th>\n",
       "      <th>cursor_position</th>\n",
       "      <th>word_count</th>\n",
       "    </tr>\n",
       "  </thead>\n",
       "  <tbody>\n",
       "    <tr>\n",
       "      <th>8405895</th>\n",
       "      <td>fff05981</td>\n",
       "      <td>3617</td>\n",
       "      <td>2064657</td>\n",
       "      <td>2064765</td>\n",
       "      <td>108</td>\n",
       "      <td>Replace</td>\n",
       "      <td>q</td>\n",
       "      <td>q</td>\n",
       "      <td>q =&gt; q</td>\n",
       "      <td>1031</td>\n",
       "      <td>240</td>\n",
       "    </tr>\n",
       "    <tr>\n",
       "      <th>8405896</th>\n",
       "      <td>fff05981</td>\n",
       "      <td>3618</td>\n",
       "      <td>2069186</td>\n",
       "      <td>2069259</td>\n",
       "      <td>73</td>\n",
       "      <td>Nonproduction</td>\n",
       "      <td>Leftclick</td>\n",
       "      <td>Leftclick</td>\n",
       "      <td>NoChange</td>\n",
       "      <td>1028</td>\n",
       "      <td>240</td>\n",
       "    </tr>\n",
       "    <tr>\n",
       "      <th>8405897</th>\n",
       "      <td>fff05981</td>\n",
       "      <td>3619</td>\n",
       "      <td>2070065</td>\n",
       "      <td>2070133</td>\n",
       "      <td>68</td>\n",
       "      <td>Input</td>\n",
       "      <td>.</td>\n",
       "      <td>.</td>\n",
       "      <td>.</td>\n",
       "      <td>1029</td>\n",
       "      <td>240</td>\n",
       "    </tr>\n",
       "  </tbody>\n",
       "</table>\n",
       "</div>"
      ],
      "text/plain": [
       "               id  event_id  down_time  up_time  action_time       activity  \\\n",
       "8405895  fff05981      3617    2064657  2064765          108        Replace   \n",
       "8405896  fff05981      3618    2069186  2069259           73  Nonproduction   \n",
       "8405897  fff05981      3619    2070065  2070133           68          Input   \n",
       "\n",
       "        down_event   up_event text_change  cursor_position  word_count  \n",
       "8405895          q          q      q => q             1031         240  \n",
       "8405896  Leftclick  Leftclick    NoChange             1028         240  \n",
       "8405897          .          .           .             1029         240  "
      ]
     },
     "execution_count": 5,
     "metadata": {},
     "output_type": "execute_result"
    }
   ],
   "source": [
    "train_logs.tail(3)"
   ]
  },
  {
   "cell_type": "code",
   "execution_count": 6,
   "id": "8ff5830e-baf3-4ebd-b2b4-815a8cd626f8",
   "metadata": {},
   "outputs": [
    {
     "data": {
      "text/plain": [
       "(8405898, 11)"
      ]
     },
     "execution_count": 6,
     "metadata": {},
     "output_type": "execute_result"
    }
   ],
   "source": [
    "train_logs.shape"
   ]
  },
  {
   "cell_type": "code",
   "execution_count": 7,
   "id": "0a047c77-4feb-4b7b-9c57-fc10fdec57ae",
   "metadata": {},
   "outputs": [
    {
     "data": {
      "text/plain": [
       "count     8405898\n",
       "unique        130\n",
       "top             q\n",
       "freq      5364789\n",
       "Name: up_event, dtype: object"
      ]
     },
     "execution_count": 7,
     "metadata": {},
     "output_type": "execute_result"
    }
   ],
   "source": [
    "train_logs.up_event.describe()"
   ]
  },
  {
   "cell_type": "code",
   "execution_count": 8,
   "id": "9ffa9442-9035-4e75-be7a-e29d284d52fb",
   "metadata": {},
   "outputs": [],
   "source": [
    "score_60 = scores[scores == 6.0].index.values\n",
    "score_05 = scores[scores == 0.5].index.values\n"
   ]
  },
  {
   "cell_type": "code",
   "execution_count": 9,
   "id": "3f824f6b-5f41-4407-8dc8-160adf495417",
   "metadata": {},
   "outputs": [
    {
     "data": {
      "text/plain": [
       "array(['Leftclick', 'Shift', 'q', 'Space', 'Backspace', '.', ',', 'Enter',\n",
       "       'ArrowLeft', \"'\", ';', 'ArrowRight', '-', '?', 'Tab', '\"',\n",
       "       'ArrowUp', 'ArrowDown', 'm', 'Rightclick', 'i', 'o', 't', '=', 'a'],\n",
       "      dtype=object)"
      ]
     },
     "execution_count": 9,
     "metadata": {},
     "output_type": "execute_result"
    }
   ],
   "source": [
    "train_logs.up_event.unique()[:25]"
   ]
  },
  {
   "cell_type": "code",
   "execution_count": 10,
   "id": "16755dd6-2cb2-4176-b118-3d678c8bd14e",
   "metadata": {},
   "outputs": [
    {
     "data": {
      "text/plain": [
       "(130,)"
      ]
     },
     "execution_count": 10,
     "metadata": {},
     "output_type": "execute_result"
    }
   ],
   "source": [
    "train_logs.up_event.unique().shape"
   ]
  },
  {
   "cell_type": "code",
   "execution_count": 29,
   "id": "cb94ed84-3221-469a-af2f-67e8904e266c",
   "metadata": {},
   "outputs": [
    {
     "name": "stdout",
     "output_type": "stream",
     "text": [
      "True\n",
      "True\n",
      "True\n",
      "True\n",
      "True\n"
     ]
    }
   ],
   "source": [
    "t = scores[scores == .5].index.values\n",
    "for i in range(t.shape[0]):\n",
    "    v = train_logs_indexed.loc[t[i]]['up_event'].equals(train_logs_indexed.loc[t[i]]['down_event'])\n",
    "    print(v)"
   ]
  },
  {
   "cell_type": "code",
   "execution_count": 30,
   "id": "87fdb480-d023-486b-9213-c9fce709647b",
   "metadata": {},
   "outputs": [
    {
     "data": {
      "text/plain": [
       "array(['Leftclick', 'Shift', 'q', 'Space', 'Backspace', '.', ',', 'Enter',\n",
       "       'ArrowLeft', \"'\", ';', 'ArrowRight', '-', '?', 'Tab', '\"',\n",
       "       'ArrowUp', 'ArrowDown', 'm', 'Rightclick', 'i', 'o', 't', '=', 'a',\n",
       "       'CapsLock', 'Control', 'c', 'v', '/', 'Delete', ':', 'z', '[', '$',\n",
       "       '(', ')', '+', 'Home', 'End', '\\\\', 'Meta', '*', '&',\n",
       "       'AudioVolumeMute', 'x', '!', 'Insert', 'MediaPlayPause', 'w',\n",
       "       'NumLock', '%', 'V', 'b', '>', 'Alt', 'AudioVolumeUp',\n",
       "       'ContextMenu', 'AudioVolumeDown', 'n', 'e', '<', 'PageDown', ']',\n",
       "       'Middleclick', '@', 'F12', 'u', 'j', 's', '\\x96', 'Dead', 'y', '{',\n",
       "       'ScrollLock', '¿', 'p', 'Process', '}', 'MediaTrackPrevious',\n",
       "       'MediaTrackNext', 'F3', '^', 'Unidentified', 'Cancel', 'h', '2',\n",
       "       'd', 'r', '`', '\\x9b', 'f', 'g', '#', '~', 'PageUp', 'l', 'T', 'A',\n",
       "       'S', 'ModeChange', '_', 'Escape', 'F11', 'Unknownclick',\n",
       "       'AltGraph', 'F10', 'F15', 'Clear', 'OS', 'C', 'Ä±', 'M', '|',\n",
       "       'â\\x80\\x93', '0', '1', '5', '\\x97', 'Ë\\x86', '¡', '\\x80', 'Â´',\n",
       "       'Å\\x9f', 'F2', 'ä', 'F1', 'k', 'Pause', 'F6'], dtype=object)"
      ]
     },
     "execution_count": 30,
     "metadata": {},
     "output_type": "execute_result"
    }
   ],
   "source": [
    "train_logs['up_event'].unique()"
   ]
  },
  {
   "cell_type": "code",
   "execution_count": 33,
   "id": "9e4f95a9-6fc5-4f8c-a2c4-94551f355e0d",
   "metadata": {},
   "outputs": [
    {
     "name": "stdout",
     "output_type": "stream",
     "text": [
      "['Leftclick' 'q' 'Backspace' 'Space' '.' 'CapsLock' 'Enter' ',']\n",
      "['Leftclick' 'q' 'Backspace' 'CapsLock' 'Space' '.' 'Enter' '\\\\']\n",
      "['Leftclick' 'Shift' 'q' 'Space' 'Backspace' '.' 'Enter' 'ArrowUp' 'Tab']\n",
      "['Leftclick' 'Space' 'Shift' 'q' 'Backspace' 'Enter' ':' ']' '.' \"'\" ','\n",
      " 'Rightclick']\n",
      "['Leftclick' 'q' 'Space' 'Backspace' '.' 'Shift' 'F2' 'Delete' 'Meta' ',']\n"
     ]
    }
   ],
   "source": [
    "t = scores[scores == .5].index.values\n",
    "for i in range(t.shape[0]):\n",
    "    x = train_logs_indexed.loc[t[i]]['up_event'].unique()\n",
    "    print(x)"
   ]
  },
  {
   "cell_type": "code",
   "execution_count": 81,
   "id": "1292dd16-0802-4e35-908f-f9eeeb27f341",
   "metadata": {},
   "outputs": [
    {
     "data": {
      "text/html": [
       "<div>\n",
       "<style scoped>\n",
       "    .dataframe tbody tr th:only-of-type {\n",
       "        vertical-align: middle;\n",
       "    }\n",
       "\n",
       "    .dataframe tbody tr th {\n",
       "        vertical-align: top;\n",
       "    }\n",
       "\n",
       "    .dataframe thead th {\n",
       "        text-align: right;\n",
       "    }\n",
       "</style>\n",
       "<table border=\"1\" class=\"dataframe\">\n",
       "  <thead>\n",
       "    <tr style=\"text-align: right;\">\n",
       "      <th></th>\n",
       "      <th>ue_1</th>\n",
       "      <th>ue_2</th>\n",
       "      <th>ue_3</th>\n",
       "      <th>ue_4</th>\n",
       "      <th>ue_5</th>\n",
       "      <th>ue_6</th>\n",
       "    </tr>\n",
       "    <tr>\n",
       "      <th>id</th>\n",
       "      <th></th>\n",
       "      <th></th>\n",
       "      <th></th>\n",
       "      <th></th>\n",
       "      <th></th>\n",
       "      <th></th>\n",
       "    </tr>\n",
       "  </thead>\n",
       "  <tbody>\n",
       "    <tr>\n",
       "      <th>001519c8</th>\n",
       "      <td>1</td>\n",
       "      <td>1</td>\n",
       "      <td>0</td>\n",
       "      <td>0</td>\n",
       "      <td>1</td>\n",
       "      <td>0</td>\n",
       "    </tr>\n",
       "    <tr>\n",
       "      <th>0022f953</th>\n",
       "      <td>1</td>\n",
       "      <td>1</td>\n",
       "      <td>1</td>\n",
       "      <td>0</td>\n",
       "      <td>1</td>\n",
       "      <td>0</td>\n",
       "    </tr>\n",
       "    <tr>\n",
       "      <th>0042269b</th>\n",
       "      <td>1</td>\n",
       "      <td>1</td>\n",
       "      <td>0</td>\n",
       "      <td>0</td>\n",
       "      <td>0</td>\n",
       "      <td>0</td>\n",
       "    </tr>\n",
       "  </tbody>\n",
       "</table>\n",
       "</div>"
      ],
      "text/plain": [
       "          ue_1  ue_2  ue_3  ue_4  ue_5  ue_6\n",
       "id                                          \n",
       "001519c8     1     1     0     0     1     0\n",
       "0022f953     1     1     1     0     1     0\n",
       "0042269b     1     1     0     0     0     0"
      ]
     },
     "execution_count": 81,
     "metadata": {},
     "output_type": "execute_result"
    }
   ],
   "source": [
    "# eda up_event\n",
    "# Based on the above, check for \"MediaPlayPause\"\n",
    "def find_clicked(x, st:str):\n",
    "    has_string = 0\n",
    "    for event in x:\n",
    "        if(event == st):\n",
    "            has_string = 1\n",
    "            break\n",
    "    return has_string\n",
    "\n",
    "ue = train_logs.groupby(['id'])['up_event'].aggregate([('ue_1',lambda x: find_clicked(x,\"Backspace\")),\n",
    "                                                      ('ue_2', lambda x: find_clicked(x,\"Shift\")),\n",
    "                                                      ('ue_3', lambda x: find_clicked(x,\"Tab\")),\n",
    "                                                      ('ue_4', lambda x: find_clicked(x,\"CapsLock\")),\n",
    "                                                      ('ue_5', lambda x: find_clicked(x,\"\\'\")),\n",
    "                                                      ('ue_6', lambda x: find_clicked(x,\":\")),\n",
    "                                                      ])\n",
    "ue.head(3)"
   ]
  },
  {
   "cell_type": "code",
   "execution_count": 82,
   "id": "2224136b-e60d-4a5d-b8e7-98305ab69278",
   "metadata": {},
   "outputs": [
    {
     "data": {
      "text/plain": [
       "ue_1     0.018195\n",
       "ue_2     0.284764\n",
       "ue_3     0.147044\n",
       "ue_4    -0.213481\n",
       "ue_5     0.326035\n",
       "ue_6     0.121229\n",
       "score    1.000000\n",
       "Name: score, dtype: float64"
      ]
     },
     "execution_count": 82,
     "metadata": {},
     "output_type": "execute_result"
    }
   ],
   "source": [
    "z = pd.merge(ue, scores, left_index = True, right_index = True)\n",
    "z.corr()['score']"
   ]
  },
  {
   "cell_type": "code",
   "execution_count": null,
   "id": "c279c587-89d4-4a90-8fc8-01c1f001de89",
   "metadata": {},
   "outputs": [],
   "source": []
  }
 ],
 "metadata": {
  "kernelspec": {
   "display_name": "Python 3 (ipykernel)",
   "language": "python",
   "name": "python3"
  },
  "language_info": {
   "codemirror_mode": {
    "name": "ipython",
    "version": 3
   },
   "file_extension": ".py",
   "mimetype": "text/x-python",
   "name": "python",
   "nbconvert_exporter": "python",
   "pygments_lexer": "ipython3",
   "version": "3.11.6"
  }
 },
 "nbformat": 4,
 "nbformat_minor": 5
}
