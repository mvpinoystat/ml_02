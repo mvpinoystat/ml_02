{
 "cells": [
  {
   "cell_type": "markdown",
   "id": "35423672-2e29-4ed0-baa7-46e4253b0772",
   "metadata": {},
   "source": [
    "# **EDA for activity variable**"
   ]
  },
  {
   "cell_type": "code",
   "execution_count": 1,
   "id": "8f4c398f-e96b-4315-bed0-51a28628b2ef",
   "metadata": {},
   "outputs": [],
   "source": [
    "import numpy as np\n",
    "import pandas as pd\n",
    "import matplotlib.pyplot as plt\n",
    "import scipy.stats as st\n",
    "# feature_engineering\n",
    "import re\n",
    "\n",
    "# ploting\n",
    "import matplotlib.pyplot as plt\n",
    "# model initial:\n",
    "import statsmodels.api as sm\n",
    "\n",
    "#sklearn\n",
    "from sklearn.preprocessing import OneHotEncoder"
   ]
  },
  {
   "cell_type": "code",
   "execution_count": 2,
   "id": "d5aeb2f4-964f-4b86-a173-67a2f2dfd523",
   "metadata": {},
   "outputs": [],
   "source": [
    "#Set import folder\n",
    "input_folder = \"kaggle/input/linking-writing-processes-to-writing-quality/\""
   ]
  },
  {
   "cell_type": "code",
   "execution_count": 3,
   "id": "fa04a126-e352-42a2-b6c8-e1dee66c0c99",
   "metadata": {},
   "outputs": [],
   "source": [
    "# Load train logs\n",
    "train_logs = pd.read_csv(input_folder + \"train_logs.csv\",delimiter = \",\",header = 0)\n",
    "# Set the id and event id as index:\n",
    "train_logs_indexed = train_logs.set_index(['id', 'event_id'])\n",
    "# Load train scores\n",
    "train_scores = pd.read_csv(input_folder +\"train_scores.csv\", delimiter = \",\", header = 0)\n",
    "scores = pd.Series(data = train_scores['score'].values, index = train_scores['id'].values, name = 'score')"
   ]
  },
  {
   "cell_type": "code",
   "execution_count": 4,
   "id": "483ad387-caf7-4afc-a3dd-5b77fabb31cf",
   "metadata": {},
   "outputs": [
    {
     "data": {
      "text/html": [
       "<div>\n",
       "<style scoped>\n",
       "    .dataframe tbody tr th:only-of-type {\n",
       "        vertical-align: middle;\n",
       "    }\n",
       "\n",
       "    .dataframe tbody tr th {\n",
       "        vertical-align: top;\n",
       "    }\n",
       "\n",
       "    .dataframe thead th {\n",
       "        text-align: right;\n",
       "    }\n",
       "</style>\n",
       "<table border=\"1\" class=\"dataframe\">\n",
       "  <thead>\n",
       "    <tr style=\"text-align: right;\">\n",
       "      <th></th>\n",
       "      <th>id</th>\n",
       "      <th>event_id</th>\n",
       "      <th>down_time</th>\n",
       "      <th>up_time</th>\n",
       "      <th>action_time</th>\n",
       "      <th>activity</th>\n",
       "      <th>down_event</th>\n",
       "      <th>up_event</th>\n",
       "      <th>text_change</th>\n",
       "      <th>cursor_position</th>\n",
       "      <th>word_count</th>\n",
       "    </tr>\n",
       "  </thead>\n",
       "  <tbody>\n",
       "    <tr>\n",
       "      <th>0</th>\n",
       "      <td>001519c8</td>\n",
       "      <td>1</td>\n",
       "      <td>4526</td>\n",
       "      <td>4557</td>\n",
       "      <td>31</td>\n",
       "      <td>Nonproduction</td>\n",
       "      <td>Leftclick</td>\n",
       "      <td>Leftclick</td>\n",
       "      <td>NoChange</td>\n",
       "      <td>0</td>\n",
       "      <td>0</td>\n",
       "    </tr>\n",
       "    <tr>\n",
       "      <th>1</th>\n",
       "      <td>001519c8</td>\n",
       "      <td>2</td>\n",
       "      <td>4558</td>\n",
       "      <td>4962</td>\n",
       "      <td>404</td>\n",
       "      <td>Nonproduction</td>\n",
       "      <td>Leftclick</td>\n",
       "      <td>Leftclick</td>\n",
       "      <td>NoChange</td>\n",
       "      <td>0</td>\n",
       "      <td>0</td>\n",
       "    </tr>\n",
       "    <tr>\n",
       "      <th>2</th>\n",
       "      <td>001519c8</td>\n",
       "      <td>3</td>\n",
       "      <td>106571</td>\n",
       "      <td>106571</td>\n",
       "      <td>0</td>\n",
       "      <td>Nonproduction</td>\n",
       "      <td>Shift</td>\n",
       "      <td>Shift</td>\n",
       "      <td>NoChange</td>\n",
       "      <td>0</td>\n",
       "      <td>0</td>\n",
       "    </tr>\n",
       "    <tr>\n",
       "      <th>3</th>\n",
       "      <td>001519c8</td>\n",
       "      <td>4</td>\n",
       "      <td>106686</td>\n",
       "      <td>106777</td>\n",
       "      <td>91</td>\n",
       "      <td>Input</td>\n",
       "      <td>q</td>\n",
       "      <td>q</td>\n",
       "      <td>q</td>\n",
       "      <td>1</td>\n",
       "      <td>1</td>\n",
       "    </tr>\n",
       "    <tr>\n",
       "      <th>4</th>\n",
       "      <td>001519c8</td>\n",
       "      <td>5</td>\n",
       "      <td>107196</td>\n",
       "      <td>107323</td>\n",
       "      <td>127</td>\n",
       "      <td>Input</td>\n",
       "      <td>q</td>\n",
       "      <td>q</td>\n",
       "      <td>q</td>\n",
       "      <td>2</td>\n",
       "      <td>1</td>\n",
       "    </tr>\n",
       "    <tr>\n",
       "      <th>5</th>\n",
       "      <td>001519c8</td>\n",
       "      <td>6</td>\n",
       "      <td>107296</td>\n",
       "      <td>107400</td>\n",
       "      <td>104</td>\n",
       "      <td>Input</td>\n",
       "      <td>q</td>\n",
       "      <td>q</td>\n",
       "      <td>q</td>\n",
       "      <td>3</td>\n",
       "      <td>1</td>\n",
       "    </tr>\n",
       "  </tbody>\n",
       "</table>\n",
       "</div>"
      ],
      "text/plain": [
       "         id  event_id  down_time  up_time  action_time       activity  \\\n",
       "0  001519c8         1       4526     4557           31  Nonproduction   \n",
       "1  001519c8         2       4558     4962          404  Nonproduction   \n",
       "2  001519c8         3     106571   106571            0  Nonproduction   \n",
       "3  001519c8         4     106686   106777           91          Input   \n",
       "4  001519c8         5     107196   107323          127          Input   \n",
       "5  001519c8         6     107296   107400          104          Input   \n",
       "\n",
       "  down_event   up_event text_change  cursor_position  word_count  \n",
       "0  Leftclick  Leftclick    NoChange                0           0  \n",
       "1  Leftclick  Leftclick    NoChange                0           0  \n",
       "2      Shift      Shift    NoChange                0           0  \n",
       "3          q          q           q                1           1  \n",
       "4          q          q           q                2           1  \n",
       "5          q          q           q                3           1  "
      ]
     },
     "execution_count": 4,
     "metadata": {},
     "output_type": "execute_result"
    }
   ],
   "source": [
    "train_logs.head(6)"
   ]
  },
  {
   "cell_type": "code",
   "execution_count": 5,
   "id": "6968771a-85d3-4dc9-b276-001d4fe0cbe9",
   "metadata": {},
   "outputs": [
    {
     "data": {
      "text/html": [
       "<div>\n",
       "<style scoped>\n",
       "    .dataframe tbody tr th:only-of-type {\n",
       "        vertical-align: middle;\n",
       "    }\n",
       "\n",
       "    .dataframe tbody tr th {\n",
       "        vertical-align: top;\n",
       "    }\n",
       "\n",
       "    .dataframe thead th {\n",
       "        text-align: right;\n",
       "    }\n",
       "</style>\n",
       "<table border=\"1\" class=\"dataframe\">\n",
       "  <thead>\n",
       "    <tr style=\"text-align: right;\">\n",
       "      <th></th>\n",
       "      <th>id</th>\n",
       "      <th>event_id</th>\n",
       "      <th>down_time</th>\n",
       "      <th>up_time</th>\n",
       "      <th>action_time</th>\n",
       "      <th>activity</th>\n",
       "      <th>down_event</th>\n",
       "      <th>up_event</th>\n",
       "      <th>text_change</th>\n",
       "      <th>cursor_position</th>\n",
       "      <th>word_count</th>\n",
       "    </tr>\n",
       "  </thead>\n",
       "  <tbody>\n",
       "    <tr>\n",
       "      <th>8405895</th>\n",
       "      <td>fff05981</td>\n",
       "      <td>3617</td>\n",
       "      <td>2064657</td>\n",
       "      <td>2064765</td>\n",
       "      <td>108</td>\n",
       "      <td>Replace</td>\n",
       "      <td>q</td>\n",
       "      <td>q</td>\n",
       "      <td>q =&gt; q</td>\n",
       "      <td>1031</td>\n",
       "      <td>240</td>\n",
       "    </tr>\n",
       "    <tr>\n",
       "      <th>8405896</th>\n",
       "      <td>fff05981</td>\n",
       "      <td>3618</td>\n",
       "      <td>2069186</td>\n",
       "      <td>2069259</td>\n",
       "      <td>73</td>\n",
       "      <td>Nonproduction</td>\n",
       "      <td>Leftclick</td>\n",
       "      <td>Leftclick</td>\n",
       "      <td>NoChange</td>\n",
       "      <td>1028</td>\n",
       "      <td>240</td>\n",
       "    </tr>\n",
       "    <tr>\n",
       "      <th>8405897</th>\n",
       "      <td>fff05981</td>\n",
       "      <td>3619</td>\n",
       "      <td>2070065</td>\n",
       "      <td>2070133</td>\n",
       "      <td>68</td>\n",
       "      <td>Input</td>\n",
       "      <td>.</td>\n",
       "      <td>.</td>\n",
       "      <td>.</td>\n",
       "      <td>1029</td>\n",
       "      <td>240</td>\n",
       "    </tr>\n",
       "  </tbody>\n",
       "</table>\n",
       "</div>"
      ],
      "text/plain": [
       "               id  event_id  down_time  up_time  action_time       activity  \\\n",
       "8405895  fff05981      3617    2064657  2064765          108        Replace   \n",
       "8405896  fff05981      3618    2069186  2069259           73  Nonproduction   \n",
       "8405897  fff05981      3619    2070065  2070133           68          Input   \n",
       "\n",
       "        down_event   up_event text_change  cursor_position  word_count  \n",
       "8405895          q          q      q => q             1031         240  \n",
       "8405896  Leftclick  Leftclick    NoChange             1028         240  \n",
       "8405897          .          .           .             1029         240  "
      ]
     },
     "execution_count": 5,
     "metadata": {},
     "output_type": "execute_result"
    }
   ],
   "source": [
    "train_logs.tail(3)"
   ]
  },
  {
   "cell_type": "code",
   "execution_count": 6,
   "id": "8ff5830e-baf3-4ebd-b2b4-815a8cd626f8",
   "metadata": {},
   "outputs": [
    {
     "data": {
      "text/plain": [
       "(8405898, 11)"
      ]
     },
     "execution_count": 6,
     "metadata": {},
     "output_type": "execute_result"
    }
   ],
   "source": [
    "train_logs.shape"
   ]
  },
  {
   "cell_type": "code",
   "execution_count": 7,
   "id": "0a047c77-4feb-4b7b-9c57-fc10fdec57ae",
   "metadata": {},
   "outputs": [
    {
     "data": {
      "text/plain": [
       "count     8405898\n",
       "unique         50\n",
       "top         Input\n",
       "freq      6726796\n",
       "Name: activity, dtype: object"
      ]
     },
     "execution_count": 7,
     "metadata": {},
     "output_type": "execute_result"
    }
   ],
   "source": [
    "train_logs.activity.describe()"
   ]
  },
  {
   "cell_type": "code",
   "execution_count": 8,
   "id": "9ffa9442-9035-4e75-be7a-e29d284d52fb",
   "metadata": {},
   "outputs": [],
   "source": [
    "score_60 = scores[scores == 6.0].index.values\n",
    "score_05 = scores[scores == 0.5].index.values\n"
   ]
  },
  {
   "cell_type": "code",
   "execution_count": 9,
   "id": "4f6d2ece-7d45-49ce-9a37-cb4ad5c9037f",
   "metadata": {},
   "outputs": [
    {
     "data": {
      "text/html": [
       "<div>\n",
       "<style scoped>\n",
       "    .dataframe tbody tr th:only-of-type {\n",
       "        vertical-align: middle;\n",
       "    }\n",
       "\n",
       "    .dataframe tbody tr th {\n",
       "        vertical-align: top;\n",
       "    }\n",
       "\n",
       "    .dataframe thead th {\n",
       "        text-align: right;\n",
       "    }\n",
       "</style>\n",
       "<table border=\"1\" class=\"dataframe\">\n",
       "  <thead>\n",
       "    <tr style=\"text-align: right;\">\n",
       "      <th></th>\n",
       "      <th>COUNT</th>\n",
       "    </tr>\n",
       "  </thead>\n",
       "  <tbody>\n",
       "    <tr>\n",
       "      <th>count</th>\n",
       "      <td>2471.000000</td>\n",
       "    </tr>\n",
       "    <tr>\n",
       "      <th>mean</th>\n",
       "      <td>3401.820316</td>\n",
       "    </tr>\n",
       "    <tr>\n",
       "      <th>std</th>\n",
       "      <td>1578.850387</td>\n",
       "    </tr>\n",
       "    <tr>\n",
       "      <th>min</th>\n",
       "      <td>262.000000</td>\n",
       "    </tr>\n",
       "    <tr>\n",
       "      <th>25%</th>\n",
       "      <td>2193.500000</td>\n",
       "    </tr>\n",
       "    <tr>\n",
       "      <th>50%</th>\n",
       "      <td>3082.000000</td>\n",
       "    </tr>\n",
       "    <tr>\n",
       "      <th>75%</th>\n",
       "      <td>4301.000000</td>\n",
       "    </tr>\n",
       "    <tr>\n",
       "      <th>max</th>\n",
       "      <td>12876.000000</td>\n",
       "    </tr>\n",
       "  </tbody>\n",
       "</table>\n",
       "</div>"
      ],
      "text/plain": [
       "              COUNT\n",
       "count   2471.000000\n",
       "mean    3401.820316\n",
       "std     1578.850387\n",
       "min      262.000000\n",
       "25%     2193.500000\n",
       "50%     3082.000000\n",
       "75%     4301.000000\n",
       "max    12876.000000"
      ]
     },
     "execution_count": 9,
     "metadata": {},
     "output_type": "execute_result"
    }
   ],
   "source": [
    "result = train_logs.groupby('id')['activity'].aggregate([('COUNT', lambda x: len(x))])\n",
    "result.describe()\n",
    "# Minimum is 262, max is 12875 steps"
   ]
  },
  {
   "cell_type": "code",
   "execution_count": 10,
   "id": "3f824f6b-5f41-4407-8dc8-160adf495417",
   "metadata": {},
   "outputs": [
    {
     "data": {
      "text/plain": [
       "array(['Nonproduction', 'Input', 'Remove/Cut', 'Replace',\n",
       "       'Move From [284, 292] To [282, 290]',\n",
       "       'Move From [287, 289] To [285, 287]',\n",
       "       'Move From [460, 461] To [465, 466]', 'Paste',\n",
       "       'Move From [905, 1314] To [907, 1316]',\n",
       "       'Move From [565, 743] To [669, 847]',\n",
       "       'Move From [669, 847] To [565, 743]',\n",
       "       'Move From [1041, 1121] To [1496, 1576]',\n",
       "       'Move From [1455, 1557] To [1323, 1425]',\n",
       "       'Move From [2268, 2275] To [2247, 2254]',\n",
       "       'Move From [213, 302] To [902, 991]',\n",
       "       'Move From [0, 158] To [234, 392]',\n",
       "       'Move From [460, 465] To [925, 930]',\n",
       "       'Move From [810, 906] To [816, 912]',\n",
       "       'Move From [186, 187] To [184, 185]',\n",
       "       'Move From [140, 272] To [299, 431]',\n",
       "       'Move From [114, 140] To [272, 298]',\n",
       "       'Move From [1386, 1450] To [1445, 1509]',\n",
       "       'Move From [442, 524] To [296, 378]',\n",
       "       'Move From [408, 414] To [390, 396]',\n",
       "       'Move From [1144, 1147] To [1142, 1145]',\n",
       "       'Move From [218, 220] To [206, 208]',\n",
       "       'Move From [164, 165] To [153, 154]',\n",
       "       'Move From [623, 632] To [624, 633]',\n",
       "       'Move From [747, 960] To [1041, 1254]',\n",
       "       'Move From [274, 314] To [299, 339]',\n",
       "       'Move From [624, 625] To [845, 846]',\n",
       "       'Move From [1861, 2063] To [1766, 1968]',\n",
       "       'Move From [1766, 1968] To [1861, 2063]',\n",
       "       'Move From [2091, 2179] To [252, 340]',\n",
       "       'Move From [923, 1077] To [340, 494]',\n",
       "       'Move From [0, 1] To [590, 591]',\n",
       "       'Move From [999, 1000] To [1000, 1001]',\n",
       "       'Move From [13, 65] To [9, 61]',\n",
       "       'Move From [1651, 1769] To [1565, 1683]',\n",
       "       'Move From [61, 136] To [0, 75]', 'Move From [0, 75] To [1, 76]',\n",
       "       'Move From [75, 134] To [304, 363]',\n",
       "       'Move From [289, 355] To [562, 628]',\n",
       "       'Move From [944, 1102] To [1050, 1208]',\n",
       "       'Move From [1306, 1371] To [1061, 1126]',\n",
       "       'Move From [1061, 1126] To [1306, 1371]',\n",
       "       'Move From [1361, 1362] To [1358, 1359]',\n",
       "       'Move From [51, 86] To [109, 144]',\n",
       "       'Move From [134, 169] To [122, 157]',\n",
       "       'Move From [382, 437] To [458, 513]'], dtype=object)"
      ]
     },
     "execution_count": 10,
     "metadata": {},
     "output_type": "execute_result"
    }
   ],
   "source": [
    "train_logs.activity.unique()"
   ]
  },
  {
   "cell_type": "code",
   "execution_count": 11,
   "id": "16755dd6-2cb2-4176-b118-3d678c8bd14e",
   "metadata": {},
   "outputs": [
    {
     "data": {
      "text/plain": [
       "(50,)"
      ]
     },
     "execution_count": 11,
     "metadata": {},
     "output_type": "execute_result"
    }
   ],
   "source": [
    "train_logs.activity.unique().shape"
   ]
  },
  {
   "cell_type": "code",
   "execution_count": 12,
   "id": "c279c587-89d4-4a90-8fc8-01c1f001de89",
   "metadata": {},
   "outputs": [
    {
     "name": "stdout",
     "output_type": "stream",
     "text": [
      "['Nonproduction' 'Input' 'Remove/Cut']\n",
      "['Nonproduction' 'Input' 'Remove/Cut']\n",
      "['Nonproduction' 'Input' 'Remove/Cut']\n",
      "['Nonproduction' 'Input' 'Remove/Cut']\n",
      "['Nonproduction' 'Input' 'Remove/Cut']\n"
     ]
    }
   ],
   "source": [
    "t05 = scores[scores == 0.5].index.values\n",
    "for ids in t05:\n",
    "    k = train_logs_indexed.loc[ids]['activity'].unique()\n",
    "    print(k)"
   ]
  },
  {
   "cell_type": "code",
   "execution_count": 13,
   "id": "f4c16ca2-c9f1-45a9-90dc-87e98e6edf34",
   "metadata": {
    "scrolled": true
   },
   "outputs": [
    {
     "name": "stdout",
     "output_type": "stream",
     "text": [
      "['Nonproduction' 'Input' 'Remove/Cut' 'Replace']\n",
      "['Nonproduction' 'Input' 'Remove/Cut' 'Replace' 'Paste']\n",
      "['Nonproduction' 'Input' 'Remove/Cut']\n",
      "['Nonproduction' 'Input' 'Remove/Cut']\n",
      "['Nonproduction' 'Input' 'Remove/Cut']\n",
      "['Nonproduction' 'Input' 'Remove/Cut' 'Replace']\n",
      "['Nonproduction' 'Input' 'Remove/Cut' 'Replace']\n",
      "['Nonproduction' 'Input' 'Remove/Cut' 'Replace']\n",
      "['Nonproduction' 'Input' 'Remove/Cut' 'Paste' 'Replace']\n",
      "['Nonproduction' 'Input' 'Remove/Cut' 'Replace']\n",
      "['Nonproduction' 'Input' 'Remove/Cut' 'Replace']\n",
      "['Nonproduction' 'Input' 'Remove/Cut' 'Replace']\n",
      "['Nonproduction' 'Input' 'Remove/Cut' 'Replace']\n",
      "['Nonproduction' 'Input' 'Remove/Cut']\n",
      "['Nonproduction' 'Input' 'Remove/Cut']\n",
      "['Nonproduction' 'Input' 'Remove/Cut' 'Replace']\n",
      "['Nonproduction' 'Input' 'Remove/Cut']\n",
      "['Nonproduction' 'Input' 'Remove/Cut' 'Replace']\n",
      "['Nonproduction' 'Paste' 'Input' 'Remove/Cut' 'Replace']\n",
      "['Nonproduction' 'Input' 'Remove/Cut' 'Replace']\n",
      "['Nonproduction' 'Input' 'Remove/Cut' 'Replace']\n",
      "['Nonproduction' 'Input' 'Remove/Cut']\n",
      "['Nonproduction' 'Input' 'Remove/Cut']\n",
      "['Nonproduction' 'Input' 'Remove/Cut' 'Replace']\n",
      "['Nonproduction' 'Input' 'Remove/Cut' 'Replace' 'Paste']\n",
      "['Nonproduction' 'Input' 'Remove/Cut' 'Replace']\n",
      "['Nonproduction' 'Input' 'Remove/Cut' 'Replace'\n",
      " 'Move From [0, 1] To [590, 591]']\n",
      "['Nonproduction' 'Input' 'Remove/Cut' 'Replace']\n",
      "['Nonproduction' 'Input' 'Remove/Cut' 'Replace']\n",
      "['Nonproduction' 'Input' 'Remove/Cut' 'Replace']\n",
      "['Nonproduction' 'Input' 'Remove/Cut']\n",
      "['Nonproduction' 'Input' 'Remove/Cut' 'Replace']\n",
      "['Nonproduction' 'Input' 'Remove/Cut']\n",
      "['Nonproduction' 'Input' 'Remove/Cut' 'Replace']\n",
      "['Nonproduction' 'Input' 'Remove/Cut' 'Replace']\n",
      "['Nonproduction' 'Input' 'Remove/Cut']\n",
      "['Nonproduction' 'Input' 'Remove/Cut']\n"
     ]
    }
   ],
   "source": [
    "t60 = scores[scores == 6].index.values\n",
    "for ids in t60:\n",
    "    k = train_logs_indexed.loc[ids]['activity'].unique()\n",
    "    print(k)"
   ]
  },
  {
   "cell_type": "code",
   "execution_count": 14,
   "id": "1e7269ff-8252-4650-89f8-935cbbb2c271",
   "metadata": {},
   "outputs": [
    {
     "data": {
      "text/html": [
       "<div>\n",
       "<style scoped>\n",
       "    .dataframe tbody tr th:only-of-type {\n",
       "        vertical-align: middle;\n",
       "    }\n",
       "\n",
       "    .dataframe tbody tr th {\n",
       "        vertical-align: top;\n",
       "    }\n",
       "\n",
       "    .dataframe thead th {\n",
       "        text-align: right;\n",
       "    }\n",
       "</style>\n",
       "<table border=\"1\" class=\"dataframe\">\n",
       "  <thead>\n",
       "    <tr style=\"text-align: right;\">\n",
       "      <th></th>\n",
       "      <th>ac_Input</th>\n",
       "      <th>ac_Move</th>\n",
       "      <th>ac_NonPro</th>\n",
       "      <th>ac_Paste</th>\n",
       "      <th>ac_RemCut</th>\n",
       "      <th>ac_Replace</th>\n",
       "    </tr>\n",
       "    <tr>\n",
       "      <th>id</th>\n",
       "      <th></th>\n",
       "      <th></th>\n",
       "      <th></th>\n",
       "      <th></th>\n",
       "      <th></th>\n",
       "      <th></th>\n",
       "    </tr>\n",
       "  </thead>\n",
       "  <tbody>\n",
       "    <tr>\n",
       "      <th>001519c8</th>\n",
       "      <td>2010.0</td>\n",
       "      <td>3.0</td>\n",
       "      <td>120.0</td>\n",
       "      <td>0.0</td>\n",
       "      <td>417.0</td>\n",
       "      <td>7.0</td>\n",
       "    </tr>\n",
       "    <tr>\n",
       "      <th>0022f953</th>\n",
       "      <td>1938.0</td>\n",
       "      <td>0.0</td>\n",
       "      <td>254.0</td>\n",
       "      <td>1.0</td>\n",
       "      <td>260.0</td>\n",
       "      <td>1.0</td>\n",
       "    </tr>\n",
       "    <tr>\n",
       "      <th>0042269b</th>\n",
       "      <td>3515.0</td>\n",
       "      <td>0.0</td>\n",
       "      <td>175.0</td>\n",
       "      <td>0.0</td>\n",
       "      <td>439.0</td>\n",
       "      <td>7.0</td>\n",
       "    </tr>\n",
       "    <tr>\n",
       "      <th>0059420b</th>\n",
       "      <td>1304.0</td>\n",
       "      <td>0.0</td>\n",
       "      <td>99.0</td>\n",
       "      <td>1.0</td>\n",
       "      <td>151.0</td>\n",
       "      <td>1.0</td>\n",
       "    </tr>\n",
       "    <tr>\n",
       "      <th>0075873a</th>\n",
       "      <td>1942.0</td>\n",
       "      <td>0.0</td>\n",
       "      <td>72.0</td>\n",
       "      <td>0.0</td>\n",
       "      <td>517.0</td>\n",
       "      <td>0.0</td>\n",
       "    </tr>\n",
       "  </tbody>\n",
       "</table>\n",
       "</div>"
      ],
      "text/plain": [
       "          ac_Input  ac_Move  ac_NonPro  ac_Paste  ac_RemCut  ac_Replace\n",
       "id                                                                     \n",
       "001519c8    2010.0      3.0      120.0       0.0      417.0         7.0\n",
       "0022f953    1938.0      0.0      254.0       1.0      260.0         1.0\n",
       "0042269b    3515.0      0.0      175.0       0.0      439.0         7.0\n",
       "0059420b    1304.0      0.0       99.0       1.0      151.0         1.0\n",
       "0075873a    1942.0      0.0       72.0       0.0      517.0         0.0"
      ]
     },
     "execution_count": 14,
     "metadata": {},
     "output_type": "execute_result"
    }
   ],
   "source": [
    "# Eda for activity \n",
    "\n",
    "# Transform all with move into a Move:\n",
    "# apply function\n",
    "train_logs.activity = train_logs.activity.apply(lambda x: \"Move\" if (\"Move\" in x) else x)\n",
    "# One hot encode the data:\n",
    "act_hot = OneHotEncoder(handle_unknown = 'ignore', categories = 'auto', sparse_output = False)\n",
    "a1 = act_hot.fit_transform(train_logs.activity.values.reshape(-1,1))\n",
    "a2 = pd.DataFrame(data = a1, columns = ['ac_Input', 'ac_Move', 'ac_NonPro', 'ac_Paste', 'ac_RemCut', 'ac_Replace'])\n",
    "a2['id'] = train_logs.id.copy()\n",
    "act = a2.groupby(by = \"id\").sum()\n",
    "act.head()"
   ]
  },
  {
   "cell_type": "code",
   "execution_count": 102,
   "id": "a16c9dcf-943f-4973-a39b-aed5d2fa7f6c",
   "metadata": {},
   "outputs": [],
   "source": [
    "#eda 2 distribution check for activity variable:\n",
    "# Get the distribution for each kind of score and perform chi-square to detect the score\n",
    "\n",
    "# act distribution:\n",
    "act_dist = pd.merge(act, scores, left_index = True, right_index = True)\n",
    "act_dist = act_dist.groupby('score').sum()\n",
    "act_dist = act_dist + 1\n",
    "row_total = np.sum(act_dist, axis = 1)\n",
    "act_dist = act_dist.apply(lambda x: x / row_total)\n",
    "# Perform 1 way chi-square test (goodness of fit):\n",
    "# use at_init since it is the distribution\n",
    "# xsum = at_init.apply(func = np.sum, axis = 1)\n",
    "    \n",
    "# Use chi-square to select the score of the given participant id \n",
    "# the below, score values are calculated for efficiency.\n",
    "score_values = np.arange(start = 0.5, stop = 6.5, step = 0.5)\n",
    "def compute_score_by_chisquare(fo:pd.Series, distribution):\n",
    "    # print(score_values)\n",
    "    total = np.sum(fo)\n",
    "    # print(total)\n",
    "    expected_arrays = distribution * total\n",
    "    # print(expected_arrays)\n",
    "    chi_stat = []\n",
    "    for j in range(expected_arrays.shape[0]):\n",
    "        results = st.chisquare(f_obs = fo, f_exp = expected_arrays.iloc[j])\n",
    "        chi_stat.append(results[1])\n",
    "\n",
    "    chi_stat = np.array(chi_stat)\n",
    "    #print(chi_stat.shape[0])\n",
    "    # get the maximum chi-square\n",
    "    idx_1 = np.where(chi_stat == np.partition(chi_stat,-1)[-1])[0][0]\n",
    "    \n",
    "    #print(score_index)\n",
    "    return score_values[idx_1] \n",
    "\n",
    "\n",
    "#transform:\n",
    "act2 = act.apply(lambda x: compute_score_by_chisquare(x, act_dist), axis = 1)\n",
    "act2.name = \"act_chisq\""
   ]
  },
  {
   "cell_type": "code",
   "execution_count": 103,
   "id": "415109e3-ebcc-4496-9434-7dbee44f44d6",
   "metadata": {},
   "outputs": [
    {
     "data": {
      "text/plain": [
       "id\n",
       "001519c8    2.0\n",
       "0022f953    2.5\n",
       "0042269b    6.0\n",
       "0059420b    2.0\n",
       "0075873a    1.0\n",
       "           ... \n",
       "ffb8c745    1.0\n",
       "ffbef7e5    0.5\n",
       "ffccd6fd    0.5\n",
       "ffec5b38    6.0\n",
       "fff05981    2.5\n",
       "Name: act_chisq, Length: 2471, dtype: float64"
      ]
     },
     "execution_count": 103,
     "metadata": {},
     "output_type": "execute_result"
    }
   ],
   "source": [
    "act2"
   ]
  },
  {
   "cell_type": "code",
   "execution_count": null,
   "id": "5fbfb5a2-8f9e-4f37-9b69-7fb4e40ff29e",
   "metadata": {},
   "outputs": [],
   "source": []
  }
 ],
 "metadata": {
  "kernelspec": {
   "display_name": "Python 3 (ipykernel)",
   "language": "python",
   "name": "python3"
  },
  "language_info": {
   "codemirror_mode": {
    "name": "ipython",
    "version": 3
   },
   "file_extension": ".py",
   "mimetype": "text/x-python",
   "name": "python",
   "nbconvert_exporter": "python",
   "pygments_lexer": "ipython3",
   "version": "3.11.7"
  }
 },
 "nbformat": 4,
 "nbformat_minor": 5
}
