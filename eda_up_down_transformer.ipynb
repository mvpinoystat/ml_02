{
 "cells": [
  {
   "cell_type": "markdown",
   "id": "35423672-2e29-4ed0-baa7-46e4253b0772",
   "metadata": {},
   "source": [
    "# **EDA up_event , down_event variable**"
   ]
  },
  {
   "cell_type": "code",
   "execution_count": 22,
   "id": "8f4c398f-e96b-4315-bed0-51a28628b2ef",
   "metadata": {},
   "outputs": [],
   "source": [
    "import numpy as np\n",
    "import pandas as pd\n",
    "import matplotlib.pyplot as plt\n",
    "import scipy.stats as st\n",
    "# feature_engineering\n",
    "import re\n",
    "\n",
    "# ploting\n",
    "import matplotlib.pyplot as plt\n",
    "# model initial:\n",
    "import statsmodels.api as sm\n",
    "\n",
    "# \n",
    "from sklearn.base import BaseEstimator, TransformerMixin\n",
    "from sklearn.feature_extraction.text import HashingVectorizer, CountVectorizer\n",
    "from sklearn.cluster import KMeans\n",
    "#testing:\n",
    "import unittest"
   ]
  },
  {
   "cell_type": "code",
   "execution_count": 2,
   "id": "d5aeb2f4-964f-4b86-a173-67a2f2dfd523",
   "metadata": {},
   "outputs": [],
   "source": [
    "#Set import folder\n",
    "input_folder = \"kaggle/input/linking-writing-processes-to-writing-quality/\""
   ]
  },
  {
   "cell_type": "code",
   "execution_count": 3,
   "id": "fa04a126-e352-42a2-b6c8-e1dee66c0c99",
   "metadata": {},
   "outputs": [],
   "source": [
    "# Load train logs\n",
    "train_logs = pd.read_csv(input_folder + \"train_logs.csv\",delimiter = \",\",header = 0)\n",
    "# Set the id and event id as index:\n",
    "train_logs_indexed = train_logs.set_index(['id', 'event_id'])\n",
    "# Load train scores\n",
    "train_scores = pd.read_csv(input_folder +\"train_scores.csv\", delimiter = \",\", header = 0)\n",
    "scores = pd.Series(data = train_scores['score'].values, index = train_scores['id'].values, name = 'score')"
   ]
  },
  {
   "cell_type": "code",
   "execution_count": 4,
   "id": "483ad387-caf7-4afc-a3dd-5b77fabb31cf",
   "metadata": {},
   "outputs": [
    {
     "data": {
      "text/html": [
       "<div>\n",
       "<style scoped>\n",
       "    .dataframe tbody tr th:only-of-type {\n",
       "        vertical-align: middle;\n",
       "    }\n",
       "\n",
       "    .dataframe tbody tr th {\n",
       "        vertical-align: top;\n",
       "    }\n",
       "\n",
       "    .dataframe thead th {\n",
       "        text-align: right;\n",
       "    }\n",
       "</style>\n",
       "<table border=\"1\" class=\"dataframe\">\n",
       "  <thead>\n",
       "    <tr style=\"text-align: right;\">\n",
       "      <th></th>\n",
       "      <th>id</th>\n",
       "      <th>event_id</th>\n",
       "      <th>down_time</th>\n",
       "      <th>up_time</th>\n",
       "      <th>action_time</th>\n",
       "      <th>activity</th>\n",
       "      <th>down_event</th>\n",
       "      <th>up_event</th>\n",
       "      <th>text_change</th>\n",
       "      <th>cursor_position</th>\n",
       "      <th>word_count</th>\n",
       "    </tr>\n",
       "  </thead>\n",
       "  <tbody>\n",
       "    <tr>\n",
       "      <th>0</th>\n",
       "      <td>001519c8</td>\n",
       "      <td>1</td>\n",
       "      <td>4526</td>\n",
       "      <td>4557</td>\n",
       "      <td>31</td>\n",
       "      <td>Nonproduction</td>\n",
       "      <td>Leftclick</td>\n",
       "      <td>Leftclick</td>\n",
       "      <td>NoChange</td>\n",
       "      <td>0</td>\n",
       "      <td>0</td>\n",
       "    </tr>\n",
       "    <tr>\n",
       "      <th>1</th>\n",
       "      <td>001519c8</td>\n",
       "      <td>2</td>\n",
       "      <td>4558</td>\n",
       "      <td>4962</td>\n",
       "      <td>404</td>\n",
       "      <td>Nonproduction</td>\n",
       "      <td>Leftclick</td>\n",
       "      <td>Leftclick</td>\n",
       "      <td>NoChange</td>\n",
       "      <td>0</td>\n",
       "      <td>0</td>\n",
       "    </tr>\n",
       "    <tr>\n",
       "      <th>2</th>\n",
       "      <td>001519c8</td>\n",
       "      <td>3</td>\n",
       "      <td>106571</td>\n",
       "      <td>106571</td>\n",
       "      <td>0</td>\n",
       "      <td>Nonproduction</td>\n",
       "      <td>Shift</td>\n",
       "      <td>Shift</td>\n",
       "      <td>NoChange</td>\n",
       "      <td>0</td>\n",
       "      <td>0</td>\n",
       "    </tr>\n",
       "    <tr>\n",
       "      <th>3</th>\n",
       "      <td>001519c8</td>\n",
       "      <td>4</td>\n",
       "      <td>106686</td>\n",
       "      <td>106777</td>\n",
       "      <td>91</td>\n",
       "      <td>Input</td>\n",
       "      <td>q</td>\n",
       "      <td>q</td>\n",
       "      <td>q</td>\n",
       "      <td>1</td>\n",
       "      <td>1</td>\n",
       "    </tr>\n",
       "    <tr>\n",
       "      <th>4</th>\n",
       "      <td>001519c8</td>\n",
       "      <td>5</td>\n",
       "      <td>107196</td>\n",
       "      <td>107323</td>\n",
       "      <td>127</td>\n",
       "      <td>Input</td>\n",
       "      <td>q</td>\n",
       "      <td>q</td>\n",
       "      <td>q</td>\n",
       "      <td>2</td>\n",
       "      <td>1</td>\n",
       "    </tr>\n",
       "    <tr>\n",
       "      <th>5</th>\n",
       "      <td>001519c8</td>\n",
       "      <td>6</td>\n",
       "      <td>107296</td>\n",
       "      <td>107400</td>\n",
       "      <td>104</td>\n",
       "      <td>Input</td>\n",
       "      <td>q</td>\n",
       "      <td>q</td>\n",
       "      <td>q</td>\n",
       "      <td>3</td>\n",
       "      <td>1</td>\n",
       "    </tr>\n",
       "  </tbody>\n",
       "</table>\n",
       "</div>"
      ],
      "text/plain": [
       "         id  event_id  down_time  up_time  action_time       activity  \\\n",
       "0  001519c8         1       4526     4557           31  Nonproduction   \n",
       "1  001519c8         2       4558     4962          404  Nonproduction   \n",
       "2  001519c8         3     106571   106571            0  Nonproduction   \n",
       "3  001519c8         4     106686   106777           91          Input   \n",
       "4  001519c8         5     107196   107323          127          Input   \n",
       "5  001519c8         6     107296   107400          104          Input   \n",
       "\n",
       "  down_event   up_event text_change  cursor_position  word_count  \n",
       "0  Leftclick  Leftclick    NoChange                0           0  \n",
       "1  Leftclick  Leftclick    NoChange                0           0  \n",
       "2      Shift      Shift    NoChange                0           0  \n",
       "3          q          q           q                1           1  \n",
       "4          q          q           q                2           1  \n",
       "5          q          q           q                3           1  "
      ]
     },
     "execution_count": 4,
     "metadata": {},
     "output_type": "execute_result"
    }
   ],
   "source": [
    "train_logs.head(6)"
   ]
  },
  {
   "cell_type": "code",
   "execution_count": 5,
   "id": "4c0356a1-97fe-479b-af20-f2e3e27071c9",
   "metadata": {},
   "outputs": [
    {
     "data": {
      "text/plain": [
       "2471"
      ]
     },
     "execution_count": 5,
     "metadata": {},
     "output_type": "execute_result"
    }
   ],
   "source": [
    "# test if the ids are in sync:\n",
    "n_test = train_logs.groupby('id')['event_id'].sum()\n",
    "np.sum(n_test.index == scores.index)"
   ]
  },
  {
   "cell_type": "code",
   "execution_count": 6,
   "id": "01570ec7-d60b-4313-a29e-7603666cdf20",
   "metadata": {},
   "outputs": [
    {
     "data": {
      "text/plain": [
       "(2471,)"
      ]
     },
     "execution_count": 6,
     "metadata": {},
     "output_type": "execute_result"
    }
   ],
   "source": [
    "n_test.shape"
   ]
  },
  {
   "cell_type": "code",
   "execution_count": 7,
   "id": "6968771a-85d3-4dc9-b276-001d4fe0cbe9",
   "metadata": {},
   "outputs": [
    {
     "data": {
      "text/html": [
       "<div>\n",
       "<style scoped>\n",
       "    .dataframe tbody tr th:only-of-type {\n",
       "        vertical-align: middle;\n",
       "    }\n",
       "\n",
       "    .dataframe tbody tr th {\n",
       "        vertical-align: top;\n",
       "    }\n",
       "\n",
       "    .dataframe thead th {\n",
       "        text-align: right;\n",
       "    }\n",
       "</style>\n",
       "<table border=\"1\" class=\"dataframe\">\n",
       "  <thead>\n",
       "    <tr style=\"text-align: right;\">\n",
       "      <th></th>\n",
       "      <th>id</th>\n",
       "      <th>event_id</th>\n",
       "      <th>down_time</th>\n",
       "      <th>up_time</th>\n",
       "      <th>action_time</th>\n",
       "      <th>activity</th>\n",
       "      <th>down_event</th>\n",
       "      <th>up_event</th>\n",
       "      <th>text_change</th>\n",
       "      <th>cursor_position</th>\n",
       "      <th>word_count</th>\n",
       "    </tr>\n",
       "  </thead>\n",
       "  <tbody>\n",
       "    <tr>\n",
       "      <th>8405895</th>\n",
       "      <td>fff05981</td>\n",
       "      <td>3617</td>\n",
       "      <td>2064657</td>\n",
       "      <td>2064765</td>\n",
       "      <td>108</td>\n",
       "      <td>Replace</td>\n",
       "      <td>q</td>\n",
       "      <td>q</td>\n",
       "      <td>q =&gt; q</td>\n",
       "      <td>1031</td>\n",
       "      <td>240</td>\n",
       "    </tr>\n",
       "    <tr>\n",
       "      <th>8405896</th>\n",
       "      <td>fff05981</td>\n",
       "      <td>3618</td>\n",
       "      <td>2069186</td>\n",
       "      <td>2069259</td>\n",
       "      <td>73</td>\n",
       "      <td>Nonproduction</td>\n",
       "      <td>Leftclick</td>\n",
       "      <td>Leftclick</td>\n",
       "      <td>NoChange</td>\n",
       "      <td>1028</td>\n",
       "      <td>240</td>\n",
       "    </tr>\n",
       "    <tr>\n",
       "      <th>8405897</th>\n",
       "      <td>fff05981</td>\n",
       "      <td>3619</td>\n",
       "      <td>2070065</td>\n",
       "      <td>2070133</td>\n",
       "      <td>68</td>\n",
       "      <td>Input</td>\n",
       "      <td>.</td>\n",
       "      <td>.</td>\n",
       "      <td>.</td>\n",
       "      <td>1029</td>\n",
       "      <td>240</td>\n",
       "    </tr>\n",
       "  </tbody>\n",
       "</table>\n",
       "</div>"
      ],
      "text/plain": [
       "               id  event_id  down_time  up_time  action_time       activity  \\\n",
       "8405895  fff05981      3617    2064657  2064765          108        Replace   \n",
       "8405896  fff05981      3618    2069186  2069259           73  Nonproduction   \n",
       "8405897  fff05981      3619    2070065  2070133           68          Input   \n",
       "\n",
       "        down_event   up_event text_change  cursor_position  word_count  \n",
       "8405895          q          q      q => q             1031         240  \n",
       "8405896  Leftclick  Leftclick    NoChange             1028         240  \n",
       "8405897          .          .           .             1029         240  "
      ]
     },
     "execution_count": 7,
     "metadata": {},
     "output_type": "execute_result"
    }
   ],
   "source": [
    "train_logs.tail(3)"
   ]
  },
  {
   "cell_type": "code",
   "execution_count": 8,
   "id": "8ff5830e-baf3-4ebd-b2b4-815a8cd626f8",
   "metadata": {},
   "outputs": [
    {
     "data": {
      "text/plain": [
       "(8405898, 11)"
      ]
     },
     "execution_count": 8,
     "metadata": {},
     "output_type": "execute_result"
    }
   ],
   "source": [
    "train_logs.shape"
   ]
  },
  {
   "cell_type": "code",
   "execution_count": 9,
   "id": "0a047c77-4feb-4b7b-9c57-fc10fdec57ae",
   "metadata": {},
   "outputs": [
    {
     "data": {
      "text/plain": [
       "count     8405898\n",
       "unique        130\n",
       "top             q\n",
       "freq      5364789\n",
       "Name: up_event, dtype: object"
      ]
     },
     "execution_count": 9,
     "metadata": {},
     "output_type": "execute_result"
    }
   ],
   "source": [
    "train_logs.up_event.describe()"
   ]
  },
  {
   "cell_type": "code",
   "execution_count": 10,
   "id": "9ffa9442-9035-4e75-be7a-e29d284d52fb",
   "metadata": {},
   "outputs": [],
   "source": [
    "score_60 = scores[scores == 6.0].index.values\n",
    "score_05 = scores[scores == 0.5].index.values\n"
   ]
  },
  {
   "cell_type": "code",
   "execution_count": 11,
   "id": "3f824f6b-5f41-4407-8dc8-160adf495417",
   "metadata": {},
   "outputs": [
    {
     "data": {
      "text/plain": [
       "array(['Leftclick', 'Shift', 'q', 'Space', 'Backspace', '.', ',', 'Enter',\n",
       "       'ArrowLeft', \"'\", ';', 'ArrowRight', '-', '?', 'Tab', '\"',\n",
       "       'ArrowUp', 'ArrowDown', 'm', 'Rightclick', 'i', 'o', 't', '=', 'a',\n",
       "       'CapsLock', 'Control', 'c', 'v', '/', 'Delete', ':', 'z', '[', '$',\n",
       "       '(', ')', '+', 'Home', 'End', '\\\\', 'Meta', '*', '&',\n",
       "       'AudioVolumeMute', 'x', '!', 'Insert', 'MediaPlayPause', 'w',\n",
       "       'NumLock', '%', 'V', 'b', '>', 'Alt', 'AudioVolumeUp',\n",
       "       'ContextMenu', 'AudioVolumeDown', 'n', 'e', '<', 'PageDown', ']',\n",
       "       'Middleclick', '@', 'F12', 'u', 'j', 's', '\\x96', 'Dead', 'y', '{',\n",
       "       'ScrollLock', '¿', 'p', 'Process', '}', 'MediaTrackPrevious',\n",
       "       'MediaTrackNext', 'F3', '^', 'Unidentified', 'Cancel', 'h', '2',\n",
       "       'd', 'r', '`', '\\x9b', 'f', 'g', '#', '~', 'PageUp', 'l', 'T', 'A',\n",
       "       'S', 'ModeChange', '_', 'Escape', 'F11', 'Unknownclick',\n",
       "       'AltGraph', 'F10', 'F15', 'Clear', 'OS', 'C', 'Ä±', 'M', '|',\n",
       "       'â\\x80\\x93', '0', '1', '5', '\\x97', 'Ë\\x86', '¡', '\\x80', 'Â´',\n",
       "       'Å\\x9f', 'F2', 'ä', 'F1', 'k', 'Pause', 'F6'], dtype=object)"
      ]
     },
     "execution_count": 11,
     "metadata": {},
     "output_type": "execute_result"
    }
   ],
   "source": [
    "train_logs.up_event.unique()"
   ]
  },
  {
   "cell_type": "code",
   "execution_count": 12,
   "id": "16755dd6-2cb2-4176-b118-3d678c8bd14e",
   "metadata": {},
   "outputs": [
    {
     "data": {
      "text/plain": [
       "array(['Leftclick', 'Shift', 'q', 'Space', 'Backspace', '.', ',', 'Enter',\n",
       "       'ArrowLeft', \"'\", ';', 'ArrowRight', '-', '?', 'Tab', '\"',\n",
       "       'ArrowUp', 'ArrowDown', 'Rightclick', '=', 'CapsLock', 'Control',\n",
       "       'c', 'v', '/', 'Delete', ':', 'z', '[', '$', '(', ')', '+', 'Home',\n",
       "       'End', '\\\\', 'Meta', '*', '&', 'AudioVolumeMute', 'x', '!',\n",
       "       'Insert', 'MediaPlayPause', 'NumLock', '%', 'V', '>', 'Alt',\n",
       "       'AudioVolumeUp', 'ContextMenu', 'AudioVolumeDown', 'a', '<',\n",
       "       'PageDown', ']', 'Middleclick', '@', 'F12', 'j', '\\x96', 'Dead',\n",
       "       't', 's', 'n', 'y', '{', 'ScrollLock', '¿', 'Process', '}',\n",
       "       'MediaTrackPrevious', 'MediaTrackNext', 'F3', '^', 'Unidentified',\n",
       "       'Cancel', '2', 'i', 'd', 'r', 'e', '`', '\\x9b', 'm', '#', '~',\n",
       "       'PageUp', 'T', 'A', 'b', 'S', 'ModeChange', '_', 'Escape', 'F11',\n",
       "       'Unknownclick', 'AltGraph', 'F10', 'h', 'F15', 'Clear', 'OS', 'F',\n",
       "       'C', 'o', 'Ä±', 'f', 'u', 'w', 'p', 'g', 'M', 'l', '|',\n",
       "       'â\\x80\\x93', 'I', '0', '1', '5', '\\x97', 'Ë\\x86', '¡', '\\x80',\n",
       "       'Â´', 'Å\\x9f', 'F2', 'ä', 'F1', 'Pause', 'F6'], dtype=object)"
      ]
     },
     "execution_count": 12,
     "metadata": {},
     "output_type": "execute_result"
    }
   ],
   "source": [
    "train_logs.down_event.unique()"
   ]
  },
  {
   "cell_type": "code",
   "execution_count": null,
   "id": "cebe4862-46fe-454c-aaa4-7e3e85b09855",
   "metadata": {},
   "outputs": [],
   "source": []
  },
  {
   "cell_type": "code",
   "execution_count": 13,
   "id": "c279c587-89d4-4a90-8fc8-01c1f001de89",
   "metadata": {},
   "outputs": [],
   "source": [
    "''' \n",
    "Eda for Up_event and Down_event comparing if a certain sample plays a music or\n",
    "has a differnt up and down event \n",
    "'''\n",
    "class EventComboTransformer(BaseEstimator, TransformerMixin):\n",
    "    def __init__(self):\n",
    "        pass\n",
    "\n",
    "    def fit(self,X, y = None):\n",
    "        return self\n",
    "\n",
    "    def transform(self, X):\n",
    "        feat1 = X.groupby('id')['down_event'].aggregate(lambda x: 1 if(\"MediaPlayPause\" in \" \".join(x)) else 0)\n",
    "        X['diff_up_down'] = X.up_event == X.down_event\n",
    "        feat2 = X.groupby('id')['diff_up_down'].aggregate(lambda x: 1 if(len(x) == np.sum(x)) else 0)\n",
    "        output = pd.merge(feat1,feat2, left_index = True, right_index = True)\n",
    "        \n",
    "        return output.values \n",
    "        \n",
    "    "
   ]
  },
  {
   "cell_type": "code",
   "execution_count": 14,
   "id": "4eb2570d-56ae-4443-9046-dbd925227f91",
   "metadata": {},
   "outputs": [],
   "source": [
    "''' \n",
    "Eda for Up_event  Count Vectorizer\n",
    "'''\n",
    "class EventComboTransformer(BaseEstimator, TransformerMixin):\n",
    "    def __init__(self):\n",
    "        pass\n",
    "\n",
    "    def fit(self,X, y = None):\n",
    "        return self\n",
    "\n",
    "    def transform(self, X):\n",
    "        feat1 = X.groupby('id')['down_event'].aggregate(lambda x: 1 if(\"MediaPlayPause\" in \" \".join(x)) else 0)\n",
    "        X['diff_up_down'] = X.up_event == X.down_event\n",
    "        feat2 = X.groupby('id')['diff_up_down'].aggregate(lambda x: 1 if(len(x) == np.sum(x)) else 0)\n",
    "        output = pd.merge(feat1,feat2, left_index = True, right_index = True)\n",
    "        \n",
    "        return output.values \n",
    "        \n",
    "    "
   ]
  },
  {
   "cell_type": "code",
   "execution_count": 15,
   "id": "250b18ca-394c-45c8-b6cc-69091a4f8a8a",
   "metadata": {},
   "outputs": [],
   "source": [
    "tx = EventComboTransformer()\n",
    "result = tx.fit_transform(train_logs)"
   ]
  },
  {
   "cell_type": "code",
   "execution_count": 16,
   "id": "7bdad422-a774-4ba9-9420-5e9af178e4ce",
   "metadata": {},
   "outputs": [
    {
     "data": {
      "text/plain": [
       "array([[0, 1],\n",
       "       [0, 1],\n",
       "       [0, 0],\n",
       "       ...,\n",
       "       [0, 1],\n",
       "       [0, 1],\n",
       "       [0, 0]])"
      ]
     },
     "execution_count": 16,
     "metadata": {},
     "output_type": "execute_result"
    }
   ],
   "source": [
    "result"
   ]
  },
  {
   "cell_type": "code",
   "execution_count": 17,
   "id": "ed392c46-caff-4a59-95a3-3b43f8cb75b1",
   "metadata": {},
   "outputs": [],
   "source": [
    "result = train_logs.groupby('id')['up_event'].aggregate(lambda x: \" \".join(x))"
   ]
  },
  {
   "cell_type": "code",
   "execution_count": 18,
   "id": "9ec89c0c-a7c4-40fc-96a8-1eda9e340199",
   "metadata": {},
   "outputs": [
    {
     "data": {
      "text/plain": [
       "id\n",
       "001519c8    Leftclick Leftclick Shift q q q q q q Space q ...\n",
       "0022f953    Leftclick Shift q q q q Space q q Space Shift ...\n",
       "0042269b    Leftclick Shift q q q q q q q Space q q q Spac...\n",
       "0059420b    Leftclick Leftclick Shift Shift Shift Shift Sh...\n",
       "0075873a    Leftclick Shift q q q q q q q q q q q Space q ...\n",
       "                                  ...                        \n",
       "ffb8c745    Leftclick Tab Leftclick Space Space Space Spac...\n",
       "ffbef7e5    Leftclick Leftclick Shift q q q q Space q q q ...\n",
       "ffccd6fd    Leftclick Leftclick q q q q q q Space q q q q ...\n",
       "ffec5b38    Leftclick Shift q q q q q q q q Backspace q q ...\n",
       "fff05981    Leftclick Leftclick q q Space q q q q Space q ...\n",
       "Name: up_event, Length: 2471, dtype: object"
      ]
     },
     "execution_count": 18,
     "metadata": {},
     "output_type": "execute_result"
    }
   ],
   "source": [
    "result"
   ]
  },
  {
   "cell_type": "code",
   "execution_count": 19,
   "id": "26045d13-c0d6-470e-8859-552f288a2144",
   "metadata": {},
   "outputs": [],
   "source": [
    "n = CountVectorizer()"
   ]
  },
  {
   "cell_type": "code",
   "execution_count": 20,
   "id": "a579a1e9-2bb8-42a3-bcaf-764cc8304518",
   "metadata": {},
   "outputs": [],
   "source": [
    "n2 = n.fit_transform(result)"
   ]
  },
  {
   "cell_type": "code",
   "execution_count": 21,
   "id": "e94cff7e-63dd-4ebf-b0c8-c682457dc148",
   "metadata": {},
   "outputs": [
    {
     "data": {
      "text/plain": [
       "<2471x50 sparse matrix of type '<class 'numpy.int64'>'\n",
       "\twith 18921 stored elements in Compressed Sparse Row format>"
      ]
     },
     "execution_count": 21,
     "metadata": {},
     "output_type": "execute_result"
    }
   ],
   "source": [
    "n2"
   ]
  },
  {
   "cell_type": "code",
   "execution_count": 25,
   "id": "bf60bdf7-a1d5-401a-893b-1860a7bc6922",
   "metadata": {},
   "outputs": [],
   "source": [
    "kk = KMeans(n_clusters = 12, n_init = 20)"
   ]
  },
  {
   "cell_type": "code",
   "execution_count": 26,
   "id": "24a2a05d-e12a-4be7-a4d4-8b5c13923783",
   "metadata": {},
   "outputs": [
    {
     "data": {
      "text/html": [
       "<style>#sk-container-id-2 {color: black;}#sk-container-id-2 pre{padding: 0;}#sk-container-id-2 div.sk-toggleable {background-color: white;}#sk-container-id-2 label.sk-toggleable__label {cursor: pointer;display: block;width: 100%;margin-bottom: 0;padding: 0.3em;box-sizing: border-box;text-align: center;}#sk-container-id-2 label.sk-toggleable__label-arrow:before {content: \"▸\";float: left;margin-right: 0.25em;color: #696969;}#sk-container-id-2 label.sk-toggleable__label-arrow:hover:before {color: black;}#sk-container-id-2 div.sk-estimator:hover label.sk-toggleable__label-arrow:before {color: black;}#sk-container-id-2 div.sk-toggleable__content {max-height: 0;max-width: 0;overflow: hidden;text-align: left;background-color: #f0f8ff;}#sk-container-id-2 div.sk-toggleable__content pre {margin: 0.2em;color: black;border-radius: 0.25em;background-color: #f0f8ff;}#sk-container-id-2 input.sk-toggleable__control:checked~div.sk-toggleable__content {max-height: 200px;max-width: 100%;overflow: auto;}#sk-container-id-2 input.sk-toggleable__control:checked~label.sk-toggleable__label-arrow:before {content: \"▾\";}#sk-container-id-2 div.sk-estimator input.sk-toggleable__control:checked~label.sk-toggleable__label {background-color: #d4ebff;}#sk-container-id-2 div.sk-label input.sk-toggleable__control:checked~label.sk-toggleable__label {background-color: #d4ebff;}#sk-container-id-2 input.sk-hidden--visually {border: 0;clip: rect(1px 1px 1px 1px);clip: rect(1px, 1px, 1px, 1px);height: 1px;margin: -1px;overflow: hidden;padding: 0;position: absolute;width: 1px;}#sk-container-id-2 div.sk-estimator {font-family: monospace;background-color: #f0f8ff;border: 1px dotted black;border-radius: 0.25em;box-sizing: border-box;margin-bottom: 0.5em;}#sk-container-id-2 div.sk-estimator:hover {background-color: #d4ebff;}#sk-container-id-2 div.sk-parallel-item::after {content: \"\";width: 100%;border-bottom: 1px solid gray;flex-grow: 1;}#sk-container-id-2 div.sk-label:hover label.sk-toggleable__label {background-color: #d4ebff;}#sk-container-id-2 div.sk-serial::before {content: \"\";position: absolute;border-left: 1px solid gray;box-sizing: border-box;top: 0;bottom: 0;left: 50%;z-index: 0;}#sk-container-id-2 div.sk-serial {display: flex;flex-direction: column;align-items: center;background-color: white;padding-right: 0.2em;padding-left: 0.2em;position: relative;}#sk-container-id-2 div.sk-item {position: relative;z-index: 1;}#sk-container-id-2 div.sk-parallel {display: flex;align-items: stretch;justify-content: center;background-color: white;position: relative;}#sk-container-id-2 div.sk-item::before, #sk-container-id-2 div.sk-parallel-item::before {content: \"\";position: absolute;border-left: 1px solid gray;box-sizing: border-box;top: 0;bottom: 0;left: 50%;z-index: -1;}#sk-container-id-2 div.sk-parallel-item {display: flex;flex-direction: column;z-index: 1;position: relative;background-color: white;}#sk-container-id-2 div.sk-parallel-item:first-child::after {align-self: flex-end;width: 50%;}#sk-container-id-2 div.sk-parallel-item:last-child::after {align-self: flex-start;width: 50%;}#sk-container-id-2 div.sk-parallel-item:only-child::after {width: 0;}#sk-container-id-2 div.sk-dashed-wrapped {border: 1px dashed gray;margin: 0 0.4em 0.5em 0.4em;box-sizing: border-box;padding-bottom: 0.4em;background-color: white;}#sk-container-id-2 div.sk-label label {font-family: monospace;font-weight: bold;display: inline-block;line-height: 1.2em;}#sk-container-id-2 div.sk-label-container {text-align: center;}#sk-container-id-2 div.sk-container {/* jupyter's `normalize.less` sets `[hidden] { display: none; }` but bootstrap.min.css set `[hidden] { display: none !important; }` so we also need the `!important` here to be able to override the default hidden behavior on the sphinx rendered scikit-learn.org. See: https://github.com/scikit-learn/scikit-learn/issues/21755 */display: inline-block !important;position: relative;}#sk-container-id-2 div.sk-text-repr-fallback {display: none;}</style><div id=\"sk-container-id-2\" class=\"sk-top-container\"><div class=\"sk-text-repr-fallback\"><pre>KMeans(n_clusters=12, n_init=20)</pre><b>In a Jupyter environment, please rerun this cell to show the HTML representation or trust the notebook. <br />On GitHub, the HTML representation is unable to render, please try loading this page with nbviewer.org.</b></div><div class=\"sk-container\" hidden><div class=\"sk-item\"><div class=\"sk-estimator sk-toggleable\"><input class=\"sk-toggleable__control sk-hidden--visually\" id=\"sk-estimator-id-2\" type=\"checkbox\" checked><label for=\"sk-estimator-id-2\" class=\"sk-toggleable__label sk-toggleable__label-arrow\">KMeans</label><div class=\"sk-toggleable__content\"><pre>KMeans(n_clusters=12, n_init=20)</pre></div></div></div></div></div>"
      ],
      "text/plain": [
       "KMeans(n_clusters=12, n_init=20)"
      ]
     },
     "execution_count": 26,
     "metadata": {},
     "output_type": "execute_result"
    }
   ],
   "source": [
    "kk.fit(n2)"
   ]
  },
  {
   "cell_type": "code",
   "execution_count": 29,
   "id": "ab164e4f-3aca-4608-8528-ccc2a1f92a8a",
   "metadata": {},
   "outputs": [],
   "source": [
    "z = kk.transform(n2)"
   ]
  },
  {
   "cell_type": "code",
   "execution_count": 44,
   "id": "b01bddf9-946d-45f8-a42f-05527d08ea67",
   "metadata": {},
   "outputs": [
    {
     "data": {
      "text/plain": [
       "array([[ 762.60938145,  283.90669468, 2011.43816962, ...,  317.6265668 ,\n",
       "        2125.58683074,  513.86914112],\n",
       "       [ 718.05167044,  158.33645965, 1980.30641826, ...,  430.7463053 ,\n",
       "        2102.26999336,  514.02611767],\n",
       "       [ 727.77502335,  396.72739202, 1818.7961706 , ...,  254.02043132,\n",
       "        2122.70626206,  330.29050315],\n",
       "       ...,\n",
       "       [1568.34500663, 1561.05468513,  588.8660497 , ..., 1455.83902363,\n",
       "        2503.36351236, 1085.22127229],\n",
       "       [ 745.75062714,  203.13308809, 1913.17080006, ...,  402.12444465,\n",
       "        2116.68836275,  451.81168893],\n",
       "       [ 803.02650835,  431.27942809, 1989.06264971, ...,  532.45403534,\n",
       "        2069.50492268,  608.40658282]])"
      ]
     },
     "execution_count": 44,
     "metadata": {},
     "output_type": "execute_result"
    }
   ],
   "source": [
    "z"
   ]
  },
  {
   "cell_type": "code",
   "execution_count": 34,
   "id": "287ea583-5a6b-480e-a161-b6abe3e9ff38",
   "metadata": {},
   "outputs": [],
   "source": [
    "ll = kk.labels_"
   ]
  },
  {
   "cell_type": "code",
   "execution_count": 41,
   "id": "bc277564-a670-495e-8243-6daf2b2e2e67",
   "metadata": {},
   "outputs": [
    {
     "data": {
      "text/plain": [
       "PearsonRResult(statistic=0.445726113513912, pvalue=6.454374984420831e-121)"
      ]
     },
     "execution_count": 41,
     "metadata": {},
     "output_type": "execute_result"
    }
   ],
   "source": [
    "st.pearsonr(ll, scores.values)"
   ]
  },
  {
   "cell_type": "code",
   "execution_count": 42,
   "id": "7427e534-e284-46d4-a829-1942cc72ef0f",
   "metadata": {},
   "outputs": [
    {
     "data": {
      "text/plain": [
       "array([5, 5, 5, ..., 2, 5, 5], dtype=int32)"
      ]
     },
     "execution_count": 42,
     "metadata": {},
     "output_type": "execute_result"
    }
   ],
   "source": [
    "ll"
   ]
  },
  {
   "cell_type": "code",
   "execution_count": 43,
   "id": "36720003-b4f6-43a2-9b21-0283a4a08017",
   "metadata": {},
   "outputs": [
    {
     "data": {
      "text/plain": [
       "001519c8    3.5\n",
       "0022f953    3.5\n",
       "0042269b    6.0\n",
       "0059420b    2.0\n",
       "0075873a    4.0\n",
       "           ... \n",
       "ffb8c745    3.5\n",
       "ffbef7e5    4.0\n",
       "ffccd6fd    1.5\n",
       "ffec5b38    5.0\n",
       "fff05981    4.0\n",
       "Name: score, Length: 2471, dtype: float64"
      ]
     },
     "execution_count": 43,
     "metadata": {},
     "output_type": "execute_result"
    }
   ],
   "source": [
    "scores"
   ]
  },
  {
   "cell_type": "code",
   "execution_count": null,
   "id": "16c3a86d-101f-4a4e-9f43-9ede7bf00d2f",
   "metadata": {},
   "outputs": [],
   "source": []
  }
 ],
 "metadata": {
  "kernelspec": {
   "display_name": "Python 3 (ipykernel)",
   "language": "python",
   "name": "python3"
  },
  "language_info": {
   "codemirror_mode": {
    "name": "ipython",
    "version": 3
   },
   "file_extension": ".py",
   "mimetype": "text/x-python",
   "name": "python",
   "nbconvert_exporter": "python",
   "pygments_lexer": "ipython3",
   "version": "3.11.7"
  }
 },
 "nbformat": 4,
 "nbformat_minor": 5
}
