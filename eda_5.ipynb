{
 "cells": [
  {
   "cell_type": "code",
   "execution_count": 1,
   "id": "8f4c398f-e96b-4315-bed0-51a28628b2ef",
   "metadata": {},
   "outputs": [],
   "source": [
    "import numpy as np\n",
    "import pandas as pd\n",
    "import matplotlib.pyplot as plt\n",
    "import scipy.stats as st\n",
    "\n",
    "# ploting\n",
    "import matplotlib.pyplot as plt"
   ]
  },
  {
   "cell_type": "code",
   "execution_count": 2,
   "id": "d5aeb2f4-964f-4b86-a173-67a2f2dfd523",
   "metadata": {},
   "outputs": [],
   "source": [
    "notes = set() \n",
    "input_folder = \"kaggle/input/linking-writing-processes-to-writing-quality/\""
   ]
  },
  {
   "cell_type": "code",
   "execution_count": 3,
   "id": "fa04a126-e352-42a2-b6c8-e1dee66c0c99",
   "metadata": {},
   "outputs": [],
   "source": [
    "train_logs = pd.read_csv(input_folder + \"train_logs.csv\",delimiter = \",\",header = 0)\n",
    "train_logs_indexed = train_logs.set_index(['id', 'event_id'])\n",
    "train_scores = pd.read_csv(input_folder +\"train_scores.csv\", delimiter = \",\", header = 0)\n",
    "scores = pd.Series(data = train_scores['score'].values, index = train_scores['id'].values, name = 'score')"
   ]
  },
  {
   "cell_type": "code",
   "execution_count": 4,
   "id": "483ad387-caf7-4afc-a3dd-5b77fabb31cf",
   "metadata": {},
   "outputs": [
    {
     "data": {
      "text/html": [
       "<div>\n",
       "<style scoped>\n",
       "    .dataframe tbody tr th:only-of-type {\n",
       "        vertical-align: middle;\n",
       "    }\n",
       "\n",
       "    .dataframe tbody tr th {\n",
       "        vertical-align: top;\n",
       "    }\n",
       "\n",
       "    .dataframe thead th {\n",
       "        text-align: right;\n",
       "    }\n",
       "</style>\n",
       "<table border=\"1\" class=\"dataframe\">\n",
       "  <thead>\n",
       "    <tr style=\"text-align: right;\">\n",
       "      <th></th>\n",
       "      <th>id</th>\n",
       "      <th>event_id</th>\n",
       "      <th>down_time</th>\n",
       "      <th>up_time</th>\n",
       "      <th>action_time</th>\n",
       "      <th>activity</th>\n",
       "      <th>down_event</th>\n",
       "      <th>up_event</th>\n",
       "      <th>text_change</th>\n",
       "      <th>cursor_position</th>\n",
       "      <th>word_count</th>\n",
       "    </tr>\n",
       "  </thead>\n",
       "  <tbody>\n",
       "    <tr>\n",
       "      <th>0</th>\n",
       "      <td>001519c8</td>\n",
       "      <td>1</td>\n",
       "      <td>4526</td>\n",
       "      <td>4557</td>\n",
       "      <td>31</td>\n",
       "      <td>Nonproduction</td>\n",
       "      <td>Leftclick</td>\n",
       "      <td>Leftclick</td>\n",
       "      <td>NoChange</td>\n",
       "      <td>0</td>\n",
       "      <td>0</td>\n",
       "    </tr>\n",
       "    <tr>\n",
       "      <th>1</th>\n",
       "      <td>001519c8</td>\n",
       "      <td>2</td>\n",
       "      <td>4558</td>\n",
       "      <td>4962</td>\n",
       "      <td>404</td>\n",
       "      <td>Nonproduction</td>\n",
       "      <td>Leftclick</td>\n",
       "      <td>Leftclick</td>\n",
       "      <td>NoChange</td>\n",
       "      <td>0</td>\n",
       "      <td>0</td>\n",
       "    </tr>\n",
       "  </tbody>\n",
       "</table>\n",
       "</div>"
      ],
      "text/plain": [
       "         id  event_id  down_time  up_time  action_time       activity  \\\n",
       "0  001519c8         1       4526     4557           31  Nonproduction   \n",
       "1  001519c8         2       4558     4962          404  Nonproduction   \n",
       "\n",
       "  down_event   up_event text_change  cursor_position  word_count  \n",
       "0  Leftclick  Leftclick    NoChange                0           0  \n",
       "1  Leftclick  Leftclick    NoChange                0           0  "
      ]
     },
     "execution_count": 4,
     "metadata": {},
     "output_type": "execute_result"
    }
   ],
   "source": [
    "train_logs.head(2)"
   ]
  },
  {
   "cell_type": "code",
   "execution_count": 5,
   "id": "064d0846-c4ee-41d6-8c1d-595e86eb7c26",
   "metadata": {},
   "outputs": [
    {
     "name": "stdout",
     "output_type": "stream",
     "text": [
      "score = 0.5: length = 5\n",
      "score = 1.0: length = 35\n",
      "score = 1.5: length = 69\n",
      "score = 2.0: length = 92\n",
      "score = 2.5: length = 201\n",
      "score = 3.0: length = 336\n",
      "score = 3.5: length = 486\n",
      "score = 4.0: length = 501\n",
      "score = 4.5: length = 402\n",
      "score = 5.0: length = 179\n",
      "score = 5.5: length = 128\n",
      "score = 6.0: length = 37\n",
      "sum: 2471\n"
     ]
    }
   ],
   "source": [
    "sum = 0\n",
    "for i in (np.arange(0.5, 6.5, 0.5)):\n",
    "    print(\"score = {}: length = {}\".format(i,scores[scores == i].shape[0]))\n",
    "    sum += scores[scores == i].shape[0]\n",
    "print(\"sum: {}\".format(sum))"
   ]
  },
  {
   "cell_type": "code",
   "execution_count": 6,
   "id": "d487415d-0226-46ad-9d73-ec083d34f138",
   "metadata": {},
   "outputs": [],
   "source": [
    "''' \n",
    "check mean of cursor position going back . Does high essay score tend to go back more from previous centences\n",
    "than low essay scores? \n",
    "'''\n",
    "def filter_negative(x):\n",
    "    how = True\n",
    "    if(x < 0):\n",
    "        how = True\n",
    "    else:\n",
    "        how = False\n",
    "    return how\n",
    "    \n",
    "def neg_movement_statistic(x):\n",
    "    n = np.diff(np.log(x+1))\n",
    "    n1 = np.array(list(filter(filter_negative, n)))\n",
    "    return st.skew(n1)\n",
    "\n",
    "def filter_positive(x):\n",
    "    how = True\n",
    "    if(x > 0):\n",
    "        how = True\n",
    "    else:\n",
    "        how = False\n",
    "    return how\n",
    "    \n",
    "def pos_movement_statistic(x):\n",
    "    n = np.diff(np.log(x+1))\n",
    "    n1 = np.array(list(filter(filter_positive, n)))\n",
    "    return st.skew(n1)"
   ]
  },
  {
   "cell_type": "code",
   "execution_count": 7,
   "id": "8de35002-f631-4373-8847-c303e9f61635",
   "metadata": {},
   "outputs": [],
   "source": [
    "# on average, how many times does the cursor go back:\n",
    "stat_cursor_backward= train_logs.groupby('id')['cursor_position'].aggregate(neg_movement_statistic)\n",
    "stat_cursor_backward.name = \"stat_cursor_backward\"\n",
    "stat_cursor_forward= train_logs.groupby('id')['cursor_position'].aggregate(pos_movement_statistic)\n",
    "stat_cursor_forward.name = \"stat_cursor_forward\""
   ]
  },
  {
   "cell_type": "code",
   "execution_count": 8,
   "id": "cc9858d6-8c6a-40ba-a312-e6a5aee92d37",
   "metadata": {},
   "outputs": [
    {
     "data": {
      "text/html": [
       "<div>\n",
       "<style scoped>\n",
       "    .dataframe tbody tr th:only-of-type {\n",
       "        vertical-align: middle;\n",
       "    }\n",
       "\n",
       "    .dataframe tbody tr th {\n",
       "        vertical-align: top;\n",
       "    }\n",
       "\n",
       "    .dataframe thead th {\n",
       "        text-align: right;\n",
       "    }\n",
       "</style>\n",
       "<table border=\"1\" class=\"dataframe\">\n",
       "  <thead>\n",
       "    <tr style=\"text-align: right;\">\n",
       "      <th></th>\n",
       "      <th>stat_cursor_backward</th>\n",
       "      <th>stat_cursor_forward</th>\n",
       "      <th>score</th>\n",
       "    </tr>\n",
       "  </thead>\n",
       "  <tbody>\n",
       "    <tr>\n",
       "      <th>stat_cursor_backward</th>\n",
       "      <td>1.000000</td>\n",
       "      <td>-0.541942</td>\n",
       "      <td>-0.313955</td>\n",
       "    </tr>\n",
       "    <tr>\n",
       "      <th>stat_cursor_forward</th>\n",
       "      <td>-0.541942</td>\n",
       "      <td>1.000000</td>\n",
       "      <td>0.336884</td>\n",
       "    </tr>\n",
       "    <tr>\n",
       "      <th>score</th>\n",
       "      <td>-0.313955</td>\n",
       "      <td>0.336884</td>\n",
       "      <td>1.000000</td>\n",
       "    </tr>\n",
       "  </tbody>\n",
       "</table>\n",
       "</div>"
      ],
      "text/plain": [
       "                      stat_cursor_backward  stat_cursor_forward     score\n",
       "stat_cursor_backward              1.000000            -0.541942 -0.313955\n",
       "stat_cursor_forward              -0.541942             1.000000  0.336884\n",
       "score                            -0.313955             0.336884  1.000000"
      ]
     },
     "execution_count": 8,
     "metadata": {},
     "output_type": "execute_result"
    }
   ],
   "source": [
    "z = pd.merge(stat_cursor_backward, stat_cursor_forward, left_index = True, right_index = True)\n",
    "z = pd.merge(z, scores, left_index = True, right_index = True)\n",
    "z.corr()"
   ]
  },
  {
   "cell_type": "code",
   "execution_count": 9,
   "id": "ac5150ff-5c8c-43ed-a332-678b715ebaa1",
   "metadata": {},
   "outputs": [
    {
     "ename": "NameError",
     "evalue": "name 'mean_cursor_forward' is not defined",
     "output_type": "error",
     "traceback": [
      "\u001b[0;31m---------------------------------------------------------------------------\u001b[0m",
      "\u001b[0;31mNameError\u001b[0m                                 Traceback (most recent call last)",
      "Cell \u001b[0;32mIn[9], line 1\u001b[0m\n\u001b[0;32m----> 1\u001b[0m \u001b[43mmean_cursor_forward\u001b[49m\n",
      "\u001b[0;31mNameError\u001b[0m: name 'mean_cursor_forward' is not defined"
     ]
    }
   ],
   "source": [
    "mean_cursor_forward"
   ]
  },
  {
   "cell_type": "code",
   "execution_count": null,
   "id": "6f0a6abd-f52d-4c4c-b810-03e71b2c3089",
   "metadata": {},
   "outputs": [],
   "source": []
  }
 ],
 "metadata": {
  "kernelspec": {
   "display_name": "Python 3 (ipykernel)",
   "language": "python",
   "name": "python3"
  },
  "language_info": {
   "codemirror_mode": {
    "name": "ipython",
    "version": 3
   },
   "file_extension": ".py",
   "mimetype": "text/x-python",
   "name": "python",
   "nbconvert_exporter": "python",
   "pygments_lexer": "ipython3",
   "version": "3.11.6"
  }
 },
 "nbformat": 4,
 "nbformat_minor": 5
}
